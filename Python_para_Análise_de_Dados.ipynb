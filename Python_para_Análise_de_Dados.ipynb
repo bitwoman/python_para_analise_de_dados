{
  "nbformat": 4,
  "nbformat_minor": 0,
  "metadata": {
    "colab": {
      "provenance": [],
      "authorship_tag": "ABX9TyOaxcRBES4yfmUwObED6zpn",
      "include_colab_link": true
    },
    "kernelspec": {
      "name": "python3",
      "display_name": "Python 3"
    },
    "language_info": {
      "name": "python"
    }
  },
  "cells": [
    {
      "cell_type": "markdown",
      "metadata": {
        "id": "view-in-github",
        "colab_type": "text"
      },
      "source": [
        "<a href=\"https://colab.research.google.com/github/bitwoman/python_para_analise_de_dados/blob/main/Python_para_An%C3%A1lise_de_Dados.ipynb\" target=\"_parent\"><img src=\"https://colab.research.google.com/assets/colab-badge.svg\" alt=\"Open In Colab\"/></a>"
      ]
    },
    {
      "cell_type": "markdown",
      "source": [
        "# MÓDULO 01"
      ],
      "metadata": {
        "id": "oAIWNn-gSvBo"
      }
    },
    {
      "cell_type": "code",
      "execution_count": null,
      "metadata": {
        "id": "9jTeEl6UI9gD",
        "colab": {
          "base_uri": "https://localhost:8080/"
        },
        "outputId": "16a31880-cec6-4549-e538-1e141bf93b95"
      },
      "outputs": [
        {
          "output_type": "stream",
          "name": "stdout",
          "text": [
            "Olá em apóstrofos\n",
            "Olá aspas duplas\n",
            "\n",
            "Pulando linha com \\ n \n"
          ]
        }
      ],
      "source": [
        "print('Olá em apóstrofos')\n",
        "print(\"Olá aspas duplas\")\n",
        "\n",
        "print('\\nPulando linha com \\ n ')"
      ]
    },
    {
      "cell_type": "markdown",
      "source": [
        "**Operadores aritméticos**\n",
        "\n",
        "```\n",
        "1.   Soma\n",
        "2.   Subtração\n",
        "3.   Multiplicação\n",
        "4.   Divisão\n",
        "5.   Exponenciação\n",
        "6.   Resto da divisão\n",
        "7.   Divisão de chão\n",
        "```"
      ],
      "metadata": {
        "id": "uRFI2CDDfF_E"
      }
    },
    {
      "cell_type": "code",
      "source": [
        "# SOMA\n",
        "print(1 + 3 + 4)"
      ],
      "metadata": {
        "colab": {
          "base_uri": "https://localhost:8080/"
        },
        "id": "Rmcy-mESY4qn",
        "outputId": "9bb361e2-d0d5-472e-b74d-bc11e1985a0d"
      },
      "execution_count": null,
      "outputs": [
        {
          "output_type": "stream",
          "name": "stdout",
          "text": [
            "8\n"
          ]
        }
      ]
    },
    {
      "cell_type": "code",
      "source": [
        "# SUBTRAÇÃO\n",
        "print(4 - 4)"
      ],
      "metadata": {
        "colab": {
          "base_uri": "https://localhost:8080/"
        },
        "id": "uDnTyuTNXY-S",
        "outputId": "50cca5a4-63f7-43df-da3c-fa1b4d8b614e"
      },
      "execution_count": null,
      "outputs": [
        {
          "output_type": "stream",
          "name": "stdout",
          "text": [
            "0\n"
          ]
        }
      ]
    },
    {
      "cell_type": "code",
      "source": [
        "# MULTIPLICAÇÃO\n",
        "print(4 * 4)"
      ],
      "metadata": {
        "colab": {
          "base_uri": "https://localhost:8080/"
        },
        "id": "CtGaKlLzXaIF",
        "outputId": "fd764ec2-0881-4366-ad46-1ab0a634f138"
      },
      "execution_count": null,
      "outputs": [
        {
          "output_type": "stream",
          "name": "stdout",
          "text": [
            "16\n"
          ]
        }
      ]
    },
    {
      "cell_type": "code",
      "source": [
        "# DIVISÃO\n",
        "print(4/4)"
      ],
      "metadata": {
        "colab": {
          "base_uri": "https://localhost:8080/"
        },
        "id": "gZO7ZQFuXbY3",
        "outputId": "279b48c8-d0e4-42ff-e99e-97bcf3ed851f"
      },
      "execution_count": null,
      "outputs": [
        {
          "output_type": "stream",
          "name": "stdout",
          "text": [
            "1.0\n"
          ]
        }
      ]
    },
    {
      "cell_type": "code",
      "source": [
        "# EXPONENCIAÇÃO\n",
        "print(2 ** 2) # 2 * 2"
      ],
      "metadata": {
        "colab": {
          "base_uri": "https://localhost:8080/"
        },
        "id": "6-hAZkc1Xdam",
        "outputId": "9243deea-fcd5-4417-c20e-68f778f382aa"
      },
      "execution_count": null,
      "outputs": [
        {
          "output_type": "stream",
          "name": "stdout",
          "text": [
            "4\n"
          ]
        }
      ]
    },
    {
      "cell_type": "code",
      "source": [
        "# RESTO DA DIVISÃO\n",
        "print(3 % 4)"
      ],
      "metadata": {
        "colab": {
          "base_uri": "https://localhost:8080/"
        },
        "id": "dl0AX0J5Xe0e",
        "outputId": "590af3d7-27ad-4e20-e151-2c9a8bfe0a0d"
      },
      "execution_count": null,
      "outputs": [
        {
          "output_type": "stream",
          "name": "stdout",
          "text": [
            "3\n"
          ]
        }
      ]
    },
    {
      "cell_type": "code",
      "source": [
        "# DIVISÃO DE CHÃO\n",
        "print(3 // 4)"
      ],
      "metadata": {
        "colab": {
          "base_uri": "https://localhost:8080/"
        },
        "id": "TCCHuw3-XgG4",
        "outputId": "fb58baae-2ec0-47b4-83b8-151be6a7f2d4"
      },
      "execution_count": null,
      "outputs": [
        {
          "output_type": "stream",
          "name": "stdout",
          "text": [
            "0\n"
          ]
        }
      ]
    },
    {
      "cell_type": "markdown",
      "source": [
        "**PRIORIZAÇÃO**"
      ],
      "metadata": {
        "id": "qj8YASPCXvuC"
      }
    },
    {
      "cell_type": "code",
      "source": [
        "# Exemplo\n",
        "(2 + 2) * 3 # o parênteses faz a proprização do cálculo que está contido dentro dele"
      ],
      "metadata": {
        "colab": {
          "base_uri": "https://localhost:8080/"
        },
        "id": "h9TFZlHCXyt9",
        "outputId": "ca88ba5d-2450-491e-fe2a-dab2c709bc93"
      },
      "execution_count": null,
      "outputs": [
        {
          "output_type": "execute_result",
          "data": {
            "text/plain": [
              "12"
            ]
          },
          "metadata": {},
          "execution_count": 16
        }
      ]
    },
    {
      "cell_type": "markdown",
      "source": [
        "**VARIÁVEIS**"
      ],
      "metadata": {
        "id": "Bdh4KQI9ZLUq"
      }
    },
    {
      "cell_type": "code",
      "source": [
        " Nome = 'Brenda'"
      ],
      "metadata": {
        "id": "A6Q1-uDqZN7W"
      },
      "execution_count": null,
      "outputs": []
    },
    {
      "cell_type": "code",
      "source": [
        "Nome"
      ],
      "metadata": {
        "colab": {
          "base_uri": "https://localhost:8080/",
          "height": 35
        },
        "id": "55mU5ml2ZR2r",
        "outputId": "c46f8c00-5e8b-4e63-bd04-b726e678c2ad"
      },
      "execution_count": null,
      "outputs": [
        {
          "output_type": "execute_result",
          "data": {
            "text/plain": [
              "'Brenda'"
            ],
            "application/vnd.google.colaboratory.intrinsic+json": {
              "type": "string"
            }
          },
          "metadata": {},
          "execution_count": 20
        }
      ]
    },
    {
      "cell_type": "markdown",
      "source": [
        "**Variáveis de texto**"
      ],
      "metadata": {
        "id": "D9lvy5lhZaI6"
      }
    },
    {
      "cell_type": "code",
      "source": [
        "var_texto1 = 'Primeira variável'\n",
        "var_texto2 = str('Segunda variável') # a função str define que o valor definido dentro dela seja texto (string)\n",
        "\n",
        "print(var_texto1 + '\\t' + var_texto2)"
      ],
      "metadata": {
        "colab": {
          "base_uri": "https://localhost:8080/"
        },
        "id": "JMd48jjqZduj",
        "outputId": "2bf1f77d-e9a2-4fc6-907f-52a67fa0eea6"
      },
      "execution_count": null,
      "outputs": [
        {
          "output_type": "stream",
          "name": "stdout",
          "text": [
            "Primeira variável\tSegunda variável\n"
          ]
        }
      ]
    },
    {
      "cell_type": "markdown",
      "source": [
        "Variáveis numéricas"
      ],
      "metadata": {
        "id": "dbSG2eN8ag31"
      }
    },
    {
      "cell_type": "code",
      "source": [
        "var_int1 = 100\n",
        "var_int2 = int(200) # a função int define que o valor é inteiro\n",
        "\n",
        "print(var_int1, ' ', var_int2)"
      ],
      "metadata": {
        "colab": {
          "base_uri": "https://localhost:8080/"
        },
        "id": "YlWgOuznakj4",
        "outputId": "6c58e3cd-2fc8-442b-d82e-d64afebcafa1"
      },
      "execution_count": null,
      "outputs": [
        {
          "output_type": "stream",
          "name": "stdout",
          "text": [
            "100   200\n"
          ]
        }
      ]
    },
    {
      "cell_type": "markdown",
      "source": [
        "**Variáveis flutuantes**"
      ],
      "metadata": {
        "id": "bA0qT5HKbAh0"
      }
    },
    {
      "cell_type": "code",
      "source": [
        "var_flutuante1 = 10.90\n",
        "var_flutuante2 = float(10.50) # a função float define que o valor é ponto flutuante\n",
        "\n",
        "print(var_flutuante1, ' ', var_flutuante2)"
      ],
      "metadata": {
        "colab": {
          "base_uri": "https://localhost:8080/"
        },
        "id": "wGP5MA7TbC5C",
        "outputId": "bdc4aa31-075a-44a9-8954-04d993984068"
      },
      "execution_count": null,
      "outputs": [
        {
          "output_type": "stream",
          "name": "stdout",
          "text": [
            "10.9   10.5\n"
          ]
        }
      ]
    },
    {
      "cell_type": "markdown",
      "source": [
        "**Variáveis booleanas**"
      ],
      "metadata": {
        "id": "FL0kpfCebTHz"
      }
    },
    {
      "cell_type": "code",
      "source": [
        "var_booleana1 = True  # a condição é verdadeira\n",
        "var_booleana2 = False # a condição é falsa\n",
        "\n",
        "print(var_booleana1, ' ', var_booleana2)"
      ],
      "metadata": {
        "colab": {
          "base_uri": "https://localhost:8080/"
        },
        "id": "5Nw60wpObVmE",
        "outputId": "330b606a-a734-4e49-98b6-c8c802eec9b3"
      },
      "execution_count": null,
      "outputs": [
        {
          "output_type": "stream",
          "name": "stdout",
          "text": [
            "True   False\n"
          ]
        }
      ]
    },
    {
      "cell_type": "markdown",
      "source": [
        "**TIPOS DE DADOS**\n",
        "\n",
        "```\n",
        "1.   Listas - são criadas usando [] (colchetes)\n",
        "2.   Tuplas - são criadas usando () (parênteses)\n",
        "3.   Dicionários - são criados usando {} (chaves)\n",
        "```\n",
        "\n",
        "Esses tipos de dados podem receber qualquer tipo de informação, inclusive operações aritméticas."
      ],
      "metadata": {
        "id": "OJDGx7sGc4o5"
      }
    },
    {
      "cell_type": "markdown",
      "source": [
        "**LISTAS**"
      ],
      "metadata": {
        "id": "ycjdssNshtjZ"
      }
    },
    {
      "cell_type": "code",
      "source": [
        "# Listas\n",
        "lista1 = [1,2,3,4,5,6,7,8,9,10]\n",
        "lista2 = ['Nome', 'Sobrenome','Sexo', 'Idade']\n",
        "lista3 = [1, 'Lista 3', True, [1,2,3]] # lista dentro de uma lista\n",
        "\n",
        "\n",
        "print(lista1)\n",
        "print(lista2)\n",
        "print(lista3)"
      ],
      "metadata": {
        "colab": {
          "base_uri": "https://localhost:8080/"
        },
        "id": "S42yY0tQc_tU",
        "outputId": "2af5fc60-05c3-4213-808a-7246ef67c3d4"
      },
      "execution_count": null,
      "outputs": [
        {
          "output_type": "stream",
          "name": "stdout",
          "text": [
            "[1, 2, 3, 4, 5, 6, 7, 8, 9, 10]\n",
            "['Nome', 'Sobrenome', 'Sexo', 'Idade']\n",
            "[1, 'Lista 3', True, [1, 2, 3]]\n"
          ]
        }
      ]
    },
    {
      "cell_type": "markdown",
      "source": [
        "**TUPLAS**"
      ],
      "metadata": {
        "id": "Ql-LuxqehxCA"
      }
    },
    {
      "cell_type": "code",
      "source": [
        "# TUPLAS - são imutáveis\n",
        "tupla1 = (1, 2, 3, 4)\n",
        "tupla2 = ('Texto', True, 2, 2.90)\n",
        "\n",
        "print(tupla1)\n",
        "print(tupla2)"
      ],
      "metadata": {
        "colab": {
          "base_uri": "https://localhost:8080/"
        },
        "id": "EJboDzEhhybH",
        "outputId": "75a7da24-19a5-410a-c5a9-9bda3303a5f5"
      },
      "execution_count": null,
      "outputs": [
        {
          "output_type": "stream",
          "name": "stdout",
          "text": [
            "(1, 2, 3, 4)\n",
            "('Texto', True, 2, 2.9)\n"
          ]
        }
      ]
    },
    {
      "cell_type": "markdown",
      "source": [
        "**DICIONÁRIOS**"
      ],
      "metadata": {
        "id": "p5nBY6oziHVn"
      }
    },
    {
      "cell_type": "code",
      "source": [
        "# DICIONÁRIOS - organizados por chave-valor\n",
        "telefones = ['1233-1234','5432-1234'] # lista para utilizar no dicionário\n",
        "dicionario1 = {'clientID':1, 'nomeCliente': 'Brenda', 'Telefone (s)': telefones}\n",
        "\n",
        "print(dicionario1)"
      ],
      "metadata": {
        "colab": {
          "base_uri": "https://localhost:8080/"
        },
        "id": "t9Q1yDzfiLqb",
        "outputId": "3b04af3a-4c5a-4a75-dcba-3de242ba371a"
      },
      "execution_count": null,
      "outputs": [
        {
          "output_type": "stream",
          "name": "stdout",
          "text": [
            "{'clientID': 1, 'nomeCliente': 'Brenda', 'Telefone (s)': ['1233-1234', '5432-1234']}\n"
          ]
        }
      ]
    },
    {
      "cell_type": "markdown",
      "source": [
        "**NOMEAÇÃO DE VARIÁVEIS**\n",
        "\n",
        "Podemos nomear variáveis e tipos de dados de diversas formas:\n",
        "\n",
        "```\n",
        "1. Declarar em uma única linha de comando;\n",
        "2. Atribuir um valor à diversas variáveis;\n",
        "3. Declarar usando uma lista;\n",
        "4. Combinar variáveis;\n",
        "5. Operar com operadores matemáticos;\n",
        "6. Muitos outros.\n",
        "```"
      ],
      "metadata": {
        "id": "gobhdbohi9-b"
      }
    },
    {
      "cell_type": "code",
      "source": [
        "# Nomeando\n",
        "fruta1, fruta2, fruta3 = 'laranja', 'melão','abacaxi' # valor segmentado\n",
        "\n",
        "print(fruta1,fruta2,fruta3)"
      ],
      "metadata": {
        "colab": {
          "base_uri": "https://localhost:8080/"
        },
        "id": "HYWpMywzmJqr",
        "outputId": "49b25389-f6e2-4a7d-f8b8-039293ef0f2d"
      },
      "execution_count": null,
      "outputs": [
        {
          "output_type": "stream",
          "name": "stdout",
          "text": [
            "laranja melão abacaxi\n"
          ]
        }
      ]
    },
    {
      "cell_type": "code",
      "source": [
        "# Nomeando\n",
        "morango = uva = kiwi = 100 # valor global\n",
        "\n",
        "print(morango, uva, kiwi)"
      ],
      "metadata": {
        "colab": {
          "base_uri": "https://localhost:8080/"
        },
        "id": "6jVGtZ3HpL4m",
        "outputId": "746fc3f3-ab98-4690-fe14-9e395afc4edf"
      },
      "execution_count": null,
      "outputs": [
        {
          "output_type": "stream",
          "name": "stdout",
          "text": [
            "100 100 100\n"
          ]
        }
      ]
    },
    {
      "cell_type": "code",
      "source": [
        "# Nomeando com listas\n",
        "listaCarros = ['VW', 'Audi', 'Tesla']\n",
        "marca1,marca2,marca3 = listaCarros\n",
        "\n",
        "print(marca1, marca2, marca3)"
      ],
      "metadata": {
        "colab": {
          "base_uri": "https://localhost:8080/"
        },
        "id": "cg147kDopXkh",
        "outputId": "e41d163c-19a6-4937-d9b5-4edbcfd83d28"
      },
      "execution_count": null,
      "outputs": [
        {
          "output_type": "stream",
          "name": "stdout",
          "text": [
            "VW Audi Tesla\n"
          ]
        }
      ]
    },
    {
      "cell_type": "code",
      "source": [
        "# Combinar variáveis\n",
        "nome = 'Taylor'\n",
        "sobrenome = 'Swift'\n",
        "\n",
        "nomeCompleto = nome + ' ' + sobrenome\n",
        "\n",
        "print(nomeCompleto)"
      ],
      "metadata": {
        "colab": {
          "base_uri": "https://localhost:8080/"
        },
        "id": "t9MoQiz5prDi",
        "outputId": "db596d0f-6530-44b9-bc3c-b51033d57e95"
      },
      "execution_count": null,
      "outputs": [
        {
          "output_type": "stream",
          "name": "stdout",
          "text": [
            "Taylor Swift\n"
          ]
        }
      ]
    },
    {
      "cell_type": "code",
      "source": [
        "# Teste 01\n",
        "nome = 'Taylor'\n",
        "idade = 33\n",
        "\n",
        "print(nome + ': ' + str(idade) + ' anos') # se você não converter a idade para string, o script gerará um erro\n"
      ],
      "metadata": {
        "colab": {
          "base_uri": "https://localhost:8080/"
        },
        "id": "7wfB8_gwp1S2",
        "outputId": "841c3a2c-99c6-4189-a3f6-2c41d5047fbc"
      },
      "execution_count": null,
      "outputs": [
        {
          "output_type": "stream",
          "name": "stdout",
          "text": [
            "Taylor: 33 anos\n"
          ]
        }
      ]
    },
    {
      "cell_type": "code",
      "source": [
        "# Teste 02\n",
        "investimento = 1000\n",
        "taxaJuros = float('0.2')\n",
        "\n",
        "print(investimento * taxaJuros) # sem a conversão para float, o valor (dado como string) será multiplicado por 1000 e retornará mil ocorrências dela\n",
        "\n",
        "valorGanho = (investimento * taxaJuros) + investimento\n",
        "print('Valor ganho: ' + str(valorGanho))"
      ],
      "metadata": {
        "colab": {
          "base_uri": "https://localhost:8080/"
        },
        "id": "7yVs3b4kqUhg",
        "outputId": "9e3dd538-b7eb-4a94-9461-9171de83887f"
      },
      "execution_count": null,
      "outputs": [
        {
          "output_type": "stream",
          "name": "stdout",
          "text": [
            "200.0\n",
            "Valor ganho: 1200.0\n"
          ]
        }
      ]
    },
    {
      "cell_type": "markdown",
      "source": [
        "**TIPO DA INFORMAÇÃO**\n",
        "\n",
        "Na programação, o tipo de dados é um conceito importante. Variáveis podem armazenar dados de diferentes tipos, e diferentes tipos podem fazer coisas diferentes. O python tem os seguintes tipos de dados integrados por padrão nessa categorias:\n",
        "\n",
        "```\n",
        "  1.   Text Type: str;\n",
        "  2.   Numeric: int, float, complex;\n",
        "  3.   Sequence Types: list, tuple, range;\n",
        "  4.   Mapping Type: dict;\n",
        "  5.   Set Types: set, frozenset;\n",
        "  6.   Boolean Type: bool;\n",
        "  7.   Binary Types: bytes, bytearray, memoryview.\n",
        "```"
      ],
      "metadata": {
        "id": "atHcL4kH1pM7"
      }
    },
    {
      "cell_type": "code",
      "source": [
        "string = str('Hello world - old, but gold')\n",
        "inteiro = int(10)\n",
        "flutuante = float(10.50)\n",
        "complexo = complex(1j)\n",
        "lista = list(('Maçã', 'Morango'))\n",
        "tupla = tuple(('A', 'B'))\n",
        "range = range(6)\n",
        "dicionario = dict(nome = 'Brenda', age = 29)\n",
        "Set = set(('A','B','C'))\n",
        "frozenSet = frozenset(('A','B','C'))\n",
        "booleano = bool(5)\n",
        "bytesType = bytes(5)\n",
        "byteArray = bytearray(5)\n",
        "memoryView = memoryview(bytes(5))\n",
        "\n",
        "from datetime import datetime\n",
        "Data = datetime.today().date()"
      ],
      "metadata": {
        "id": "IXheEo0q3H5e"
      },
      "execution_count": null,
      "outputs": []
    },
    {
      "cell_type": "code",
      "source": [
        "print(type(string)) # type() é uma função que retorna o tipo de dado da variável passada como parâmetro\n",
        "print(type(inteiro))\n",
        "print(type(flutuante))\n",
        "print(type(complexo))\n",
        "print(type(lista))\n",
        "print(type(tupla))\n",
        "print(type(range))\n",
        "print(type(dicionario))\n",
        "print(type(Set))\n",
        "print(type(frozenSet))\n",
        "print(type(booleano))\n",
        "print(type(bytesType))\n",
        "print(type(byteArray))\n",
        "print(type(memoryView))\n",
        "print(type(Data))"
      ],
      "metadata": {
        "colab": {
          "base_uri": "https://localhost:8080/"
        },
        "id": "WaPrAagu-RFO",
        "outputId": "3c9568eb-18c0-4403-b744-11eeb062e63e"
      },
      "execution_count": null,
      "outputs": [
        {
          "output_type": "stream",
          "name": "stdout",
          "text": [
            "<class 'str'>\n",
            "<class 'int'>\n",
            "<class 'float'>\n",
            "<class 'complex'>\n",
            "<class 'list'>\n",
            "<class 'tuple'>\n",
            "<class 'range'>\n",
            "<class 'dict'>\n",
            "<class 'set'>\n",
            "<class 'frozenset'>\n",
            "<class 'bool'>\n",
            "<class 'bytes'>\n",
            "<class 'bytearray'>\n",
            "<class 'memoryview'>\n",
            "<class 'datetime.date'>\n"
          ]
        }
      ]
    },
    {
      "cell_type": "markdown",
      "source": [
        "**COMANDO ROUND**\n",
        "\n",
        "Quando trabalhamos com números flutuantes, podemos arredondar o valor usando um comando nativo do python: round(valor, número de casas decimais)."
      ],
      "metadata": {
        "id": "Hw7EMYHq_ZsF"
      }
    },
    {
      "cell_type": "code",
      "source": [
        "# Exemplo\n",
        "valor = 12.123456789\n",
        "valorArredondado = round(valor, 2) # arredonda para o valor mais próximo\n",
        "\n",
        "print(valor)\n",
        "print(valorArredondado)"
      ],
      "metadata": {
        "colab": {
          "base_uri": "https://localhost:8080/"
        },
        "id": "E2d31s4BTv_g",
        "outputId": "4e0ee0b0-fd7a-40a0-952c-47b18ec53496"
      },
      "execution_count": null,
      "outputs": [
        {
          "output_type": "stream",
          "name": "stdout",
          "text": [
            "12.123456789\n",
            "12.12\n"
          ]
        }
      ]
    },
    {
      "cell_type": "markdown",
      "source": [
        "**COMANDO LEN**\n",
        "\n",
        "Retorna a quantidade de elementos de qualquer lista em python, essa é mais uma função built-in e disponível em qualquer parte dos nossos códigos."
      ],
      "metadata": {
        "id": "bYMHrQj8UkAb"
      }
    },
    {
      "cell_type": "code",
      "source": [
        "lista = [1,2,3,4,5,6,7,8,9,10]\n",
        "dicionario = {'Nome': 'Brenda', 'Idade':29}\n",
        "tupla = (1,2,3)\n",
        "string = 'Hello, World!'\n",
        "\n",
        "print(len(lista))\n",
        "print(len(dicionario))\n",
        "print(len(tupla))\n",
        "print(len(string))"
      ],
      "metadata": {
        "colab": {
          "base_uri": "https://localhost:8080/"
        },
        "id": "WC1uC9BfUwHZ",
        "outputId": "2f56a401-e721-49db-b378-09f9f5b0769d"
      },
      "execution_count": null,
      "outputs": [
        {
          "output_type": "stream",
          "name": "stdout",
          "text": [
            "10\n",
            "2\n",
            "3\n",
            "13\n"
          ]
        }
      ]
    },
    {
      "cell_type": "markdown",
      "source": [
        "**FATIAMENTO DE STRINGs**\n",
        "\n",
        "Strings são listas de bytes representando caracteres. Podemos acessar suas posições usando colchetes.\n",
        "\n",
        "string[posição inicial:posição final]"
      ],
      "metadata": {
        "id": "TDvVSSoPVhqE"
      }
    },
    {
      "cell_type": "code",
      "source": [
        "# Exemplo\n",
        "string = 'My World'\n",
        "cpf = 'CPF:123456789'\n",
        "\n",
        "print(type(string))\n",
        "print(string[0:2])\n",
        "print(cpf[-9:])"
      ],
      "metadata": {
        "colab": {
          "base_uri": "https://localhost:8080/"
        },
        "id": "PgYHMgcMXvtd",
        "outputId": "43ee253b-0f65-4cd1-c0ea-ed97933612e0"
      },
      "execution_count": null,
      "outputs": [
        {
          "output_type": "stream",
          "name": "stdout",
          "text": [
            "<class 'str'>\n",
            "My\n",
            "123456789\n"
          ]
        }
      ]
    },
    {
      "cell_type": "markdown",
      "source": [
        "**MANIPULAÇÃO DE STRINGs**\n",
        "\n",
        "Um tipo de dados bastante usado no dia a dia são as strings, ou cadeias de caracteres (sequência de caracteres). O tipo de dados string, ou str, como é chamado em python, possui várias operações úteis a ele. Essas operações tornam python uma linguagem bastante propícia para manipulação de textos. Algumas funções mais utilizadas:\n",
        "\n",
        "```\n",
        "1.   replace()\n",
        "2.   startswith()\n",
        "3.   endswith()\n",
        "4.   count()\n",
        "5.   capitalize()\n",
        "6.   isdigit()\n",
        "7.   isalnum()\n",
        "8.   upper()\n",
        "9.   lower()\n",
        "10.  find()\n",
        "11.  strip()\n",
        "12.  split()\n",
        "```"
      ],
      "metadata": {
        "id": "bEs2-NJPYR7-"
      }
    },
    {
      "cell_type": "code",
      "source": [
        "# REPLACE > substituir\n",
        "string = 'Hello World!'\n",
        "\n",
        "print(string.replace('World', 'WORLD'))"
      ],
      "metadata": {
        "colab": {
          "base_uri": "https://localhost:8080/"
        },
        "id": "L7xesCAUZDbb",
        "outputId": "e10c36a4-8c71-4736-f49a-aacef3e07aac"
      },
      "execution_count": null,
      "outputs": [
        {
          "output_type": "stream",
          "name": "stdout",
          "text": [
            "Hello WORLD!\n"
          ]
        }
      ]
    },
    {
      "cell_type": "code",
      "source": [
        "# STARTSWITH > verifica se a string inicia com o valor passado por parâmetro\n",
        "print(string.startswith('Olá')) # retorna um valor booleano (true/false)"
      ],
      "metadata": {
        "colab": {
          "base_uri": "https://localhost:8080/"
        },
        "id": "L13oNYdTKojW",
        "outputId": "3da135ae-1c9d-4aa0-f035-a449d0f3fd07"
      },
      "execution_count": null,
      "outputs": [
        {
          "output_type": "stream",
          "name": "stdout",
          "text": [
            "False\n"
          ]
        }
      ]
    },
    {
      "cell_type": "code",
      "source": [
        "# ENDSWITH: verifica se a string finaliza com o valor passado por parâmetro\n",
        "print(string.endswith('!')) # retorna um valor booleano (true/false)"
      ],
      "metadata": {
        "colab": {
          "base_uri": "https://localhost:8080/"
        },
        "id": "mF5Dx9nVK21A",
        "outputId": "6e33e50d-cbb0-49d0-f24d-5c4c892e5780"
      },
      "execution_count": null,
      "outputs": [
        {
          "output_type": "stream",
          "name": "stdout",
          "text": [
            "True\n"
          ]
        }
      ]
    },
    {
      "cell_type": "code",
      "source": [
        "# COUNT: tem a função de contar o número de ocorrências do valor passado por parâmetro\n",
        "print(string.count('M'))"
      ],
      "metadata": {
        "colab": {
          "base_uri": "https://localhost:8080/"
        },
        "id": "aR8BdqLELOrY",
        "outputId": "b3088637-133e-43f4-fb1d-cc6adf573890"
      },
      "execution_count": null,
      "outputs": [
        {
          "output_type": "stream",
          "name": "stdout",
          "text": [
            "0\n"
          ]
        }
      ]
    },
    {
      "cell_type": "code",
      "source": [
        "# CAPITALIZE (Transformação): se o primeiro valor for uma letra minúscula, ele transoforma para maiúscula\n",
        "nome = 'brenda'\n",
        "print(nome.capitalize())"
      ],
      "metadata": {
        "colab": {
          "base_uri": "https://localhost:8080/"
        },
        "id": "STpoGdXiLbqW",
        "outputId": "0c07f488-8192-4386-cf9e-f4ff4602acd2"
      },
      "execution_count": null,
      "outputs": [
        {
          "output_type": "stream",
          "name": "stdout",
          "text": [
            "Brenda\n"
          ]
        }
      ]
    },
    {
      "cell_type": "code",
      "source": [
        "# ISDIGIT: verificar se é valor numérico\n",
        "cpf = '123456789'\n",
        "\n",
        "print(cpf.isdigit()) # retorna um valor booleano (true/false)"
      ],
      "metadata": {
        "colab": {
          "base_uri": "https://localhost:8080/"
        },
        "id": "dectDXdgLq02",
        "outputId": "cbf949fc-6229-4f8b-88e4-83a9acfeb01d"
      },
      "execution_count": null,
      "outputs": [
        {
          "output_type": "stream",
          "name": "stdout",
          "text": [
            "True\n"
          ]
        }
      ]
    },
    {
      "cell_type": "code",
      "source": [
        "# ISALNUM: verificar se é alfa numérico\n",
        "print(string.isalnum()) # retorna um valor booleano (true/false)"
      ],
      "metadata": {
        "colab": {
          "base_uri": "https://localhost:8080/"
        },
        "id": "mIkms_h0M0t1",
        "outputId": "7cc576d5-1e5e-43d8-db76-93cc0cd65cad"
      },
      "execution_count": null,
      "outputs": [
        {
          "output_type": "stream",
          "name": "stdout",
          "text": [
            "False\n"
          ]
        }
      ]
    },
    {
      "cell_type": "code",
      "source": [
        "# UPPER: deixar o texto em caixa alta (maiúscula)\n",
        "print(nome.upper())"
      ],
      "metadata": {
        "colab": {
          "base_uri": "https://localhost:8080/"
        },
        "id": "qmuct4s-ikis",
        "outputId": "1abcc5ab-c9df-4a06-ec52-463466c3dd89"
      },
      "execution_count": null,
      "outputs": [
        {
          "output_type": "stream",
          "name": "stdout",
          "text": [
            "BRENDA\n"
          ]
        }
      ]
    },
    {
      "cell_type": "code",
      "source": [
        "# LOWER: deixar o texto em caixa baixa (minúscula)\n",
        "print(nome.lower())"
      ],
      "metadata": {
        "colab": {
          "base_uri": "https://localhost:8080/"
        },
        "id": "d0XhRapei3V6",
        "outputId": "c63cb35d-fcca-4555-f412-6586ffeea295"
      },
      "execution_count": null,
      "outputs": [
        {
          "output_type": "stream",
          "name": "stdout",
          "text": [
            "brenda\n"
          ]
        }
      ]
    },
    {
      "cell_type": "code",
      "source": [
        "# FIND: para localizar algum elemento específico\n",
        "frase = 'hoje está calor!'\n",
        "\n",
        "print(frase.find('calor')) # ele retorna a posição do elemento dentro da string (ou onde ela se inicia)"
      ],
      "metadata": {
        "id": "ZbRfXNUTi7E-",
        "colab": {
          "base_uri": "https://localhost:8080/"
        },
        "outputId": "a1e0c029-295d-43cb-bdef-723ecabeeeab"
      },
      "execution_count": null,
      "outputs": [
        {
          "output_type": "stream",
          "name": "stdout",
          "text": [
            "10\n"
          ]
        }
      ]
    },
    {
      "cell_type": "code",
      "source": [
        "# STRIP: ele remover os espaços entre o começo e o final das palavras\n",
        "endereco = ' R. Augusto 120, SP ' # espaço no início e no final da string\n",
        "\n",
        "print(endereco.strip())"
      ],
      "metadata": {
        "colab": {
          "base_uri": "https://localhost:8080/"
        },
        "id": "VSzBaeXVeQ3Y",
        "outputId": "545f8478-af48-4016-94bd-28e54e76f4f3"
      },
      "execution_count": null,
      "outputs": [
        {
          "output_type": "stream",
          "name": "stdout",
          "text": [
            "R. Augusto 120, SP\n"
          ]
        }
      ]
    },
    {
      "cell_type": "code",
      "source": [
        "# SPLIT: ele divide a string em várias partes\n",
        "\n",
        "print(endereco.split(',')) # dá para utilizar o parâmetro onde você deseja, especificamente, realizar a quebra"
      ],
      "metadata": {
        "colab": {
          "base_uri": "https://localhost:8080/"
        },
        "id": "FKFo623PeS3Y",
        "outputId": "31727d27-4743-4e90-b874-0a5f0be0beaf"
      },
      "execution_count": null,
      "outputs": [
        {
          "output_type": "stream",
          "name": "stdout",
          "text": [
            "[' R. Augusto 120', ' SP ']\n"
          ]
        }
      ]
    },
    {
      "cell_type": "markdown",
      "source": [
        "**INPUT**\n",
        "\n",
        "Recebe como parâmetro uma string que será mostrada como auxílio ao usuário, geralmente o informando que tipo de dado o programa está aguardando receber."
      ],
      "metadata": {
        "id": "HG02UydUg8lv"
      }
    },
    {
      "cell_type": "code",
      "source": [
        "input('input 1!')"
      ],
      "metadata": {
        "colab": {
          "base_uri": "https://localhost:8080/",
          "height": 53
        },
        "id": "INAkZeiug-LV",
        "outputId": "509121c4-f230-4df8-9c89-e7da6ffe4d27"
      },
      "execution_count": null,
      "outputs": [
        {
          "name": "stdout",
          "output_type": "stream",
          "text": [
            "input 1!2\n"
          ]
        },
        {
          "output_type": "execute_result",
          "data": {
            "text/plain": [
              "'2'"
            ],
            "application/vnd.google.colaboratory.intrinsic+json": {
              "type": "string"
            }
          },
          "metadata": {},
          "execution_count": 11
        }
      ]
    },
    {
      "cell_type": "code",
      "source": [
        "# FORM\n",
        "nome = input('qual o seu nome? ')\n",
        "\n",
        "print('Meu nome é ' + nome)"
      ],
      "metadata": {
        "colab": {
          "base_uri": "https://localhost:8080/"
        },
        "id": "yoXJ0nT7izdR",
        "outputId": "e8af0747-db36-463f-87c8-eb3c6057440e"
      },
      "execution_count": null,
      "outputs": [
        {
          "output_type": "stream",
          "name": "stdout",
          "text": [
            "qual o seu nome? brenda linda\n",
            "Meu nome é brenda linda\n"
          ]
        }
      ]
    },
    {
      "cell_type": "markdown",
      "source": [
        "**OPERADORES DE COMPARAÇÃO**\n",
        "\n",
        "Os operadores de comparação são usados para comparar dois valores:\n",
        "\n",
        "```\n",
        "1.   == (igual à)\n",
        "2.   != (diferente)\n",
        "3.   > (maior)\n",
        "4.   < (menor)\n",
        "5.   >= (maior igual)\n",
        "6.   <= (menor igual)\n",
        "```\n",
        "\n"
      ],
      "metadata": {
        "id": "NKFDGPeOjLlg"
      }
    },
    {
      "cell_type": "code",
      "source": [
        "10 == 10 # igual à"
      ],
      "metadata": {
        "colab": {
          "base_uri": "https://localhost:8080/"
        },
        "id": "WU9_aARqkwOl",
        "outputId": "d3416deb-3868-4ba2-90f8-7e56ccefcffc"
      },
      "execution_count": null,
      "outputs": [
        {
          "output_type": "execute_result",
          "data": {
            "text/plain": [
              "True"
            ]
          },
          "metadata": {},
          "execution_count": 15
        }
      ]
    },
    {
      "cell_type": "code",
      "source": [
        "10 != 8 # diferente"
      ],
      "metadata": {
        "colab": {
          "base_uri": "https://localhost:8080/"
        },
        "id": "eBsaJV_fkzIY",
        "outputId": "6c2c7759-65e6-4a80-d181-9b6073d53b16"
      },
      "execution_count": null,
      "outputs": [
        {
          "output_type": "execute_result",
          "data": {
            "text/plain": [
              "True"
            ]
          },
          "metadata": {},
          "execution_count": 16
        }
      ]
    },
    {
      "cell_type": "code",
      "source": [
        "10 > 5 # maior"
      ],
      "metadata": {
        "colab": {
          "base_uri": "https://localhost:8080/"
        },
        "id": "IlBfQuG6k40P",
        "outputId": "b03c0dea-1958-49a3-d251-3f02dc382cb5"
      },
      "execution_count": null,
      "outputs": [
        {
          "output_type": "execute_result",
          "data": {
            "text/plain": [
              "True"
            ]
          },
          "metadata": {},
          "execution_count": 17
        }
      ]
    },
    {
      "cell_type": "code",
      "source": [
        "10 < 20 # menor"
      ],
      "metadata": {
        "colab": {
          "base_uri": "https://localhost:8080/"
        },
        "id": "nGHwHEpfk7GW",
        "outputId": "6c281744-a3a8-4dbd-b210-6df283681148"
      },
      "execution_count": null,
      "outputs": [
        {
          "output_type": "execute_result",
          "data": {
            "text/plain": [
              "True"
            ]
          },
          "metadata": {},
          "execution_count": 18
        }
      ]
    },
    {
      "cell_type": "code",
      "source": [
        "10 >= 10 # maior ou igual à"
      ],
      "metadata": {
        "colab": {
          "base_uri": "https://localhost:8080/"
        },
        "id": "yv5qLmyVk89x",
        "outputId": "71314750-a17f-48b1-d40a-913372844a8b"
      },
      "execution_count": null,
      "outputs": [
        {
          "output_type": "execute_result",
          "data": {
            "text/plain": [
              "True"
            ]
          },
          "metadata": {},
          "execution_count": 19
        }
      ]
    },
    {
      "cell_type": "code",
      "source": [
        "10 <= 10 # menor ou igual à"
      ],
      "metadata": {
        "colab": {
          "base_uri": "https://localhost:8080/"
        },
        "id": "JVGP3ymolA-A",
        "outputId": "f84ffc5a-3c03-4361-af70-c188c8a14382"
      },
      "execution_count": null,
      "outputs": [
        {
          "output_type": "execute_result",
          "data": {
            "text/plain": [
              "True"
            ]
          },
          "metadata": {},
          "execution_count": 20
        }
      ]
    },
    {
      "cell_type": "markdown",
      "source": [
        "**OPERADORES LÓGICOS**\n",
        "\n",
        "Os operadores lógicos são usados para combinar instruções condicionais:\n",
        "\n",
        "\n",
        "1.   and (retorna True se ambas as declarações forem verdadeiras);\n",
        "2.   or (retorna True se uma das declarações forem verdadeira);\n",
        "3.   not (inverte o resultado, retorna False se o resultado for verdadeiro).\n",
        "\n"
      ],
      "metadata": {
        "id": "bb-tImCHlEty"
      }
    },
    {
      "cell_type": "code",
      "source": [
        "10 > 2 and 10 > 3"
      ],
      "metadata": {
        "colab": {
          "base_uri": "https://localhost:8080/"
        },
        "id": "VSGdqb-8lG-c",
        "outputId": "82faa441-1250-4ef6-8fd6-1a5ec1fca713"
      },
      "execution_count": null,
      "outputs": [
        {
          "output_type": "execute_result",
          "data": {
            "text/plain": [
              "True"
            ]
          },
          "metadata": {},
          "execution_count": 23
        }
      ]
    },
    {
      "cell_type": "code",
      "source": [
        "10 == 2 or 10 < 20"
      ],
      "metadata": {
        "colab": {
          "base_uri": "https://localhost:8080/"
        },
        "id": "eSrVR70DlvyZ",
        "outputId": "557f3b49-d3e8-4c29-cda4-af07e76b5a25"
      },
      "execution_count": null,
      "outputs": [
        {
          "output_type": "execute_result",
          "data": {
            "text/plain": [
              "True"
            ]
          },
          "metadata": {},
          "execution_count": 29
        }
      ]
    },
    {
      "cell_type": "code",
      "source": [
        "not(10 > 2)"
      ],
      "metadata": {
        "colab": {
          "base_uri": "https://localhost:8080/"
        },
        "id": "PjktTxjJlzvJ",
        "outputId": "dec518ae-a399-48ef-af72-c7df268793bb"
      },
      "execution_count": null,
      "outputs": [
        {
          "output_type": "execute_result",
          "data": {
            "text/plain": [
              "False"
            ]
          },
          "metadata": {},
          "execution_count": 28
        }
      ]
    },
    {
      "cell_type": "code",
      "source": [
        "lista = [1,2,3,4,5]\n",
        "\n",
        "10 not in lista"
      ],
      "metadata": {
        "colab": {
          "base_uri": "https://localhost:8080/"
        },
        "id": "Qb8jzTLNmayq",
        "outputId": "cd3d5cb4-1799-4884-d399-4fa1177366bc"
      },
      "execution_count": null,
      "outputs": [
        {
          "output_type": "execute_result",
          "data": {
            "text/plain": [
              "True"
            ]
          },
          "metadata": {},
          "execution_count": 31
        }
      ]
    },
    {
      "cell_type": "markdown",
      "source": [
        "**OPERADORES DE IDENTIDADE**\n",
        "\n",
        "Os operadores de identidade são usados para comparar os objetos, não se forem iguais, mas se forem realmente o mesmo objeto, com a mesma localização de memória.\n",
        "\n",
        "1.   is (retorna True se ambas as variáveis forem o mesmo objeto)\n",
        "2.   is not (retorna True se ambas as variáveis não forem o mesmo objeto)"
      ],
      "metadata": {
        "id": "fmhD1UdlmyZv"
      }
    },
    {
      "cell_type": "code",
      "source": [
        "string1 = 'hello, world'\n",
        "string2 = 'hello, world'\n",
        "\n",
        "type(string1) == type(string2)"
      ],
      "metadata": {
        "colab": {
          "base_uri": "https://localhost:8080/"
        },
        "id": "9Mz6bo69nJWT",
        "outputId": "25bde3a1-9e7c-4f7c-82e9-cb1752dbba8c"
      },
      "execution_count": null,
      "outputs": [
        {
          "output_type": "execute_result",
          "data": {
            "text/plain": [
              "True"
            ]
          },
          "metadata": {},
          "execution_count": 38
        }
      ]
    },
    {
      "cell_type": "code",
      "source": [
        "type(string1) is type(string2)"
      ],
      "metadata": {
        "colab": {
          "base_uri": "https://localhost:8080/"
        },
        "id": "cZdux_utnUKf",
        "outputId": "e0f79b67-9721-4cf6-d91b-d23480805bf7"
      },
      "execution_count": null,
      "outputs": [
        {
          "output_type": "execute_result",
          "data": {
            "text/plain": [
              "True"
            ]
          },
          "metadata": {},
          "execution_count": 36
        }
      ]
    },
    {
      "cell_type": "code",
      "source": [
        "type(string1) is not type(string2)"
      ],
      "metadata": {
        "colab": {
          "base_uri": "https://localhost:8080/"
        },
        "id": "XXgddbA4nedq",
        "outputId": "91cbe768-c650-4f1d-ffcb-506555214f03"
      },
      "execution_count": null,
      "outputs": [
        {
          "output_type": "execute_result",
          "data": {
            "text/plain": [
              "False"
            ]
          },
          "metadata": {},
          "execution_count": 37
        }
      ]
    },
    {
      "cell_type": "markdown",
      "source": [
        "**OPERADORES DE ASSOCIAÇÃO**\n",
        "\n",
        "Os operadores de associação são usados para testar se uma sequência é apresentada em um objeto:\n",
        "\n",
        "\n",
        "\n",
        "1.   in (retorna true se uma sequência com o valor especificado estiver presente no objeto);\n",
        "2.   not in (retorna true se uma sequência com o valor especifico não estiver presente no objeto)."
      ],
      "metadata": {
        "id": "NRYkkwovniri"
      }
    },
    {
      "cell_type": "code",
      "source": [
        "listaMusicas = ['Julho','Alinhamento Milenar','Idiota']\n",
        "\n",
        "'Pilantra' in listaMusicas"
      ],
      "metadata": {
        "colab": {
          "base_uri": "https://localhost:8080/"
        },
        "id": "ji5IJgudn7Xc",
        "outputId": "81430ca3-11e6-43e3-86bc-116900b68c43"
      },
      "execution_count": null,
      "outputs": [
        {
          "output_type": "execute_result",
          "data": {
            "text/plain": [
              "False"
            ]
          },
          "metadata": {},
          "execution_count": 40
        }
      ]
    },
    {
      "cell_type": "code",
      "source": [
        "listaMusicas = ['Julho','Alinhamento Milenar','Idiota']\n",
        "\n",
        "'Pilantra' not in listaMusicas"
      ],
      "metadata": {
        "colab": {
          "base_uri": "https://localhost:8080/"
        },
        "id": "xjDX889HoVyn",
        "outputId": "6e7052c8-9af1-4fd2-8a1f-5f9bf3b3fed8"
      },
      "execution_count": null,
      "outputs": [
        {
          "output_type": "execute_result",
          "data": {
            "text/plain": [
              "True"
            ]
          },
          "metadata": {},
          "execution_count": 41
        }
      ]
    },
    {
      "cell_type": "markdown",
      "source": [
        "**MANIPULANDO LISTAS**\n",
        "\n",
        "As listas são usadas para armazenar vários itens em uma única variável. As listas são um dos 4 tipos de dados internos do python usados para armazenar coleções de dados, os outros 3 são tuple, set e dictionary. Todos com qualidades e usos diferentes.\n",
        "\n",
        "Comandos mais utilizados:\n",
        "\n",
        "1.   append() (para adicionar um item ao final da lista)\n",
        "2.   len() (calcular o tamanho da lista)  \n",
        "3.   [] (colchetes - acessar posições)\n",
        "4.   del() (excluir um elemento)\n",
        "5.   clear() (limpar a lista)\n",
        "6.   insert() (para inserir um item de lista em um índice especificado)\n",
        "7.   extend() (anexar elemementos de outra lista à lista atual)\n",
        "8.   remove() (remove o item especificado)\n",
        "9.   pop() (remove o índice especificado)\n",
        "10.  sort() (ordenar os valores)\n",
        "11.  copy() (faz uma cópia da lista)\n",
        "12.  index() (retorna o index do elemento da lista)"
      ],
      "metadata": {
        "id": "W_D400esoZte"
      }
    },
    {
      "cell_type": "code",
      "source": [
        "# APPEND\n",
        "listaVazia = []\n",
        "print(listaVazia)"
      ],
      "metadata": {
        "colab": {
          "base_uri": "https://localhost:8080/"
        },
        "id": "g4WqSYJQszW7",
        "outputId": "291321f1-05a0-4534-a652-76fb9f18ab21"
      },
      "execution_count": null,
      "outputs": [
        {
          "output_type": "stream",
          "name": "stdout",
          "text": [
            "[]\n"
          ]
        }
      ]
    },
    {
      "cell_type": "code",
      "source": [
        "listaVazia.append(1) # ele insere de maneira em que os elementos vão empilhando\n",
        "listaVazia.append(2)\n",
        "listaVazia.append(3)\n",
        "\n",
        "print(listaVazia)"
      ],
      "metadata": {
        "colab": {
          "base_uri": "https://localhost:8080/"
        },
        "id": "HxBJa0IitTCy",
        "outputId": "3b1af741-dbd0-463c-e361-af1a768d5d66"
      },
      "execution_count": null,
      "outputs": [
        {
          "output_type": "stream",
          "name": "stdout",
          "text": [
            "[1, 2, 3]\n"
          ]
        }
      ]
    },
    {
      "cell_type": "code",
      "source": [
        "# LEN\n",
        "len(listaVazia)"
      ],
      "metadata": {
        "colab": {
          "base_uri": "https://localhost:8080/"
        },
        "id": "O9rdbT8ftHjf",
        "outputId": "7a3685a8-2769-478f-b166-2a59ea17f2db"
      },
      "execution_count": null,
      "outputs": [
        {
          "output_type": "execute_result",
          "data": {
            "text/plain": [
              "3"
            ]
          },
          "metadata": {},
          "execution_count": 66
        }
      ]
    },
    {
      "cell_type": "code",
      "source": [
        "# []\n",
        "listaVazia[2]\n",
        "listaVazia[0:2]"
      ],
      "metadata": {
        "colab": {
          "base_uri": "https://localhost:8080/"
        },
        "id": "sjlDL1CdtIa6",
        "outputId": "c6d6b844-4f09-41a4-9647-979e149549bf"
      },
      "execution_count": null,
      "outputs": [
        {
          "output_type": "execute_result",
          "data": {
            "text/plain": [
              "[1, 2]"
            ]
          },
          "metadata": {},
          "execution_count": 67
        }
      ]
    },
    {
      "cell_type": "code",
      "source": [
        "# DEL\n",
        "del(listaVazia)\n",
        "\n",
        "print(listaVazia) # deletada"
      ],
      "metadata": {
        "id": "X1Y_NbbUtJgJ"
      },
      "execution_count": null,
      "outputs": []
    },
    {
      "cell_type": "code",
      "source": [
        "# CLEAR\n",
        "listaVazia.clear()\n",
        "\n",
        "print(listaVazia)"
      ],
      "metadata": {
        "colab": {
          "base_uri": "https://localhost:8080/"
        },
        "id": "opJ7euBWtKvH",
        "outputId": "35e230e6-d64f-4696-f021-62b8874c4120"
      },
      "execution_count": null,
      "outputs": [
        {
          "output_type": "stream",
          "name": "stdout",
          "text": [
            "[]\n"
          ]
        }
      ]
    },
    {
      "cell_type": "code",
      "source": [
        "# INSERT: pode definir a posição do elemento que você vai inserir\n",
        "listaVazia.insert(0, 10)\n",
        "print(listaVazia)"
      ],
      "metadata": {
        "colab": {
          "base_uri": "https://localhost:8080/"
        },
        "id": "akJKrn0ztLsB",
        "outputId": "f21f1f60-5b01-425e-ad93-b5a42ed20884"
      },
      "execution_count": null,
      "outputs": [
        {
          "output_type": "stream",
          "name": "stdout",
          "text": [
            "[10, 1, 2, 3]\n"
          ]
        }
      ]
    },
    {
      "cell_type": "code",
      "source": [
        "# EXTEND: ele adiciona uma lista à outra\n",
        "lista1 = [1,2,3]\n",
        "lista2 = [4,5,6]\n",
        "\n",
        "lista1.extend(lista2)\n",
        "print(lista1)"
      ],
      "metadata": {
        "colab": {
          "base_uri": "https://localhost:8080/"
        },
        "id": "zJzNhk05tMlB",
        "outputId": "9144684d-c324-400a-eff0-00ed38ab74d8"
      },
      "execution_count": null,
      "outputs": [
        {
          "output_type": "stream",
          "name": "stdout",
          "text": [
            "[1, 2, 3, 4, 5, 6]\n"
          ]
        }
      ]
    },
    {
      "cell_type": "code",
      "source": [
        "# REMOVE: remove o elemento especificado pelo valor\n",
        "lista1.remove(5)\n",
        "print(lista1)"
      ],
      "metadata": {
        "colab": {
          "base_uri": "https://localhost:8080/"
        },
        "id": "yIScnaYHt3Bh",
        "outputId": "f5c63b27-3ade-44ed-f90b-17ec113aa3da"
      },
      "execution_count": null,
      "outputs": [
        {
          "output_type": "stream",
          "name": "stdout",
          "text": [
            "[1, 2, 3, 4, 6]\n"
          ]
        }
      ]
    },
    {
      "cell_type": "code",
      "source": [
        "# POP: remove o elemento especificado pela posição\n",
        "lista1.pop(4)\n",
        "print(lista1)"
      ],
      "metadata": {
        "colab": {
          "base_uri": "https://localhost:8080/"
        },
        "id": "9jz8g1VRurnp",
        "outputId": "e44b8162-6a31-407d-9e1d-9540926967c1"
      },
      "execution_count": null,
      "outputs": [
        {
          "output_type": "stream",
          "name": "stdout",
          "text": [
            "[1, 2, 3, 4]\n"
          ]
        }
      ]
    },
    {
      "cell_type": "code",
      "source": [
        "# SORT\n",
        "listaAbc = ['a','z','b','f','c']\n",
        "listaAbc.sort()\n",
        "\n",
        "print(listaAbc)\n",
        "\n",
        "# pode ser ordem reversa\n",
        "\n",
        "listaAbc.sort(reverse=True)\n",
        "print(listaAbc)"
      ],
      "metadata": {
        "colab": {
          "base_uri": "https://localhost:8080/"
        },
        "id": "qx1T2YNcvR8a",
        "outputId": "b64fda1d-626f-484f-ae1c-e8caab400da4"
      },
      "execution_count": null,
      "outputs": [
        {
          "output_type": "stream",
          "name": "stdout",
          "text": [
            "['a', 'b', 'c', 'f', 'z']\n",
            "['z', 'f', 'c', 'b', 'a']\n"
          ]
        }
      ]
    },
    {
      "cell_type": "code",
      "source": [
        "# COPY\n",
        "listaNova = listaAbc.copy()\n",
        "print(listaNova)"
      ],
      "metadata": {
        "colab": {
          "base_uri": "https://localhost:8080/"
        },
        "id": "rCjTAbsQvUSX",
        "outputId": "a7f44d4a-cdf4-4b69-950e-ed172dcff938"
      },
      "execution_count": null,
      "outputs": [
        {
          "output_type": "stream",
          "name": "stdout",
          "text": [
            "['z', 'f', 'c', 'b', 'a']\n"
          ]
        }
      ]
    },
    {
      "cell_type": "code",
      "source": [
        "# INDEX\n",
        "listaNova.index('a')"
      ],
      "metadata": {
        "colab": {
          "base_uri": "https://localhost:8080/"
        },
        "id": "8lRHc_3AvVvY",
        "outputId": "528640a1-42cf-44fa-82aa-2aa35cbc5147"
      },
      "execution_count": null,
      "outputs": [
        {
          "output_type": "execute_result",
          "data": {
            "text/plain": [
              "4"
            ]
          },
          "metadata": {},
          "execution_count": 85
        }
      ]
    },
    {
      "cell_type": "markdown",
      "source": [
        "**PACOTES EXTERNOS - FUNÇÕES PRONTAS**"
      ],
      "metadata": {
        "id": "5tTrmJP0wHC1"
      }
    },
    {
      "cell_type": "markdown",
      "source": [
        "**PACOTE DATETIME**\n",
        "\n",
        "O datetime fornece classes para a manipulação de datas e horas."
      ],
      "metadata": {
        "id": "qOueHqGYwLS_"
      }
    },
    {
      "cell_type": "code",
      "source": [
        "type('2023-12-01')"
      ],
      "metadata": {
        "colab": {
          "base_uri": "https://localhost:8080/"
        },
        "id": "_ryA7dP6wY-W",
        "outputId": "4ed6923f-9bcb-48f6-96b3-921b884f27a8"
      },
      "execution_count": null,
      "outputs": [
        {
          "output_type": "execute_result",
          "data": {
            "text/plain": [
              "str"
            ]
          },
          "metadata": {},
          "execution_count": 2
        }
      ]
    },
    {
      "cell_type": "code",
      "source": [
        "import datetime"
      ],
      "metadata": {
        "id": "xBWcfZXtv2t1"
      },
      "execution_count": null,
      "outputs": []
    },
    {
      "cell_type": "code",
      "source": [
        "diaAtual = datetime.datetime.today() # pacote.função.função\n",
        "print(diaAtual)"
      ],
      "metadata": {
        "colab": {
          "base_uri": "https://localhost:8080/"
        },
        "id": "WACZ97nbv5ye",
        "outputId": "744b8bd8-73f6-4cc7-f0b7-09d06b10fe8c"
      },
      "execution_count": null,
      "outputs": [
        {
          "output_type": "stream",
          "name": "stdout",
          "text": [
            "2023-12-01 23:39:37.502026\n"
          ]
        }
      ]
    },
    {
      "cell_type": "code",
      "source": [
        "type(diaAtual)"
      ],
      "metadata": {
        "colab": {
          "base_uri": "https://localhost:8080/"
        },
        "id": "qXrdu0nOwA4m",
        "outputId": "cb4b5502-6614-4fa6-f6e3-180709e93000"
      },
      "execution_count": null,
      "outputs": [
        {
          "output_type": "execute_result",
          "data": {
            "text/plain": [
              "datetime.datetime"
            ]
          },
          "metadata": {},
          "execution_count": 7
        }
      ]
    },
    {
      "cell_type": "code",
      "source": [
        "print(datetime.datetime.today().date())"
      ],
      "metadata": {
        "colab": {
          "base_uri": "https://localhost:8080/"
        },
        "id": "zz4hhOMmwBE0",
        "outputId": "f377ed2e-3fa2-4dd0-a353-e36845ebc3db"
      },
      "execution_count": null,
      "outputs": [
        {
          "output_type": "stream",
          "name": "stdout",
          "text": [
            "2023-12-01\n"
          ]
        }
      ]
    },
    {
      "cell_type": "code",
      "source": [
        "data = datetime.datetime.today().date()\n",
        "ano = data.year\n",
        "mes = data.month\n",
        "dia = data.day\n",
        "\n",
        "print(ano,'/',mes,'/', dia)"
      ],
      "metadata": {
        "colab": {
          "base_uri": "https://localhost:8080/"
        },
        "id": "0EkQSwgNwBLf",
        "outputId": "93d24c08-4017-4995-9cac-052f3889f068"
      },
      "execution_count": null,
      "outputs": [
        {
          "output_type": "stream",
          "name": "stdout",
          "text": [
            "2023 / 12 / 1\n"
          ]
        }
      ]
    },
    {
      "cell_type": "code",
      "source": [
        "dataAntiga = datetime.date(2022,1,1)\n",
        "print(dataAntiga)"
      ],
      "metadata": {
        "colab": {
          "base_uri": "https://localhost:8080/"
        },
        "id": "adHZ6WpqwvqL",
        "outputId": "ab325c10-dae9-4c47-d7e2-9a3a51be3d38"
      },
      "execution_count": null,
      "outputs": [
        {
          "output_type": "stream",
          "name": "stdout",
          "text": [
            "2022-01-01\n"
          ]
        }
      ]
    },
    {
      "cell_type": "code",
      "source": [
        "print(data - dataAntiga)"
      ],
      "metadata": {
        "colab": {
          "base_uri": "https://localhost:8080/"
        },
        "id": "QZ06hzaNw2OD",
        "outputId": "acb36153-af07-4d67-d12f-5b7cc5134fe0"
      },
      "execution_count": null,
      "outputs": [
        {
          "output_type": "stream",
          "name": "stdout",
          "text": [
            "699 days, 0:00:00\n"
          ]
        }
      ]
    },
    {
      "cell_type": "code",
      "source": [
        "data.strftime('%d/%m/%y')"
      ],
      "metadata": {
        "colab": {
          "base_uri": "https://localhost:8080/",
          "height": 35
        },
        "id": "nh0sVwCvxcey",
        "outputId": "6010bfba-47ab-469c-d25b-cc5f87353003"
      },
      "execution_count": null,
      "outputs": [
        {
          "output_type": "execute_result",
          "data": {
            "text/plain": [
              "'01/12/23'"
            ],
            "application/vnd.google.colaboratory.intrinsic+json": {
              "type": "string"
            }
          },
          "metadata": {},
          "execution_count": 19
        }
      ]
    },
    {
      "cell_type": "code",
      "source": [
        "data + datetime.timedelta(days=30) # somar a data mais 30 dias"
      ],
      "metadata": {
        "colab": {
          "base_uri": "https://localhost:8080/"
        },
        "id": "f6K3eMmwx6LY",
        "outputId": "6e1a7437-8e1e-400b-cb3e-aa7c2a6d42e4"
      },
      "execution_count": null,
      "outputs": [
        {
          "output_type": "execute_result",
          "data": {
            "text/plain": [
              "datetime.date(2023, 12, 31)"
            ]
          },
          "metadata": {},
          "execution_count": 20
        }
      ]
    },
    {
      "cell_type": "markdown",
      "source": [
        "**PACOTE TIME**\n",
        "\n",
        "Funções relacionados ao tempo."
      ],
      "metadata": {
        "id": "jsYdXCWuwNyX"
      }
    },
    {
      "cell_type": "code",
      "source": [
        "import time"
      ],
      "metadata": {
        "id": "_8-RuxljyKAK"
      },
      "execution_count": null,
      "outputs": []
    },
    {
      "cell_type": "code",
      "source": [
        "print('Comecei agora..')\n",
        "time.sleep(3)\n",
        "print('Terminei')"
      ],
      "metadata": {
        "colab": {
          "base_uri": "https://localhost:8080/"
        },
        "id": "PHUBBztRyOUP",
        "outputId": "793a5174-d53b-4803-e2e8-dee44039a9d4"
      },
      "execution_count": null,
      "outputs": [
        {
          "output_type": "stream",
          "name": "stdout",
          "text": [
            "Comecei agora..\n",
            "Terminei\n"
          ]
        }
      ]
    },
    {
      "cell_type": "code",
      "source": [
        "agora = time.localtime() # tipo: time.struct_time\n",
        "print(agora)\n",
        "print(type(agora))"
      ],
      "metadata": {
        "colab": {
          "base_uri": "https://localhost:8080/"
        },
        "id": "LtErqbC0ycN0",
        "outputId": "b828469a-18b6-4925-e297-336cd3553cb2"
      },
      "execution_count": null,
      "outputs": [
        {
          "output_type": "stream",
          "name": "stdout",
          "text": [
            "time.struct_time(tm_year=2023, tm_mon=12, tm_mday=1, tm_hour=23, tm_min=50, tm_sec=21, tm_wday=4, tm_yday=335, tm_isdst=0)\n",
            "<class 'time.struct_time'>\n"
          ]
        }
      ]
    },
    {
      "cell_type": "code",
      "source": [
        "time.strftime('%m/%d/%y, %H:%M:%S', agora)"
      ],
      "metadata": {
        "colab": {
          "base_uri": "https://localhost:8080/",
          "height": 35
        },
        "id": "ncP8Qryyymxi",
        "outputId": "118f5af4-e0f4-4e9d-f5f8-d3dc526201e5"
      },
      "execution_count": null,
      "outputs": [
        {
          "output_type": "execute_result",
          "data": {
            "text/plain": [
              "'12/01/23, 23:50:21'"
            ],
            "application/vnd.google.colaboratory.intrinsic+json": {
              "type": "string"
            }
          },
          "metadata": {},
          "execution_count": 29
        }
      ]
    },
    {
      "cell_type": "code",
      "source": [
        "dataString = '21 June, 2021'\n",
        "time.strptime(dataString, '%d %B, %Y') # B é configuração da documentação"
      ],
      "metadata": {
        "colab": {
          "base_uri": "https://localhost:8080/"
        },
        "id": "iDPfmkJFy5Nm",
        "outputId": "bf3fd475-d2e9-418e-f293-272ae7006574"
      },
      "execution_count": null,
      "outputs": [
        {
          "output_type": "execute_result",
          "data": {
            "text/plain": [
              "time.struct_time(tm_year=2021, tm_mon=6, tm_mday=21, tm_hour=0, tm_min=0, tm_sec=0, tm_wday=0, tm_yday=172, tm_isdst=-1)"
            ]
          },
          "metadata": {},
          "execution_count": 35
        }
      ]
    },
    {
      "cell_type": "markdown",
      "source": [
        "**PACOTE MATH**\n",
        "\n",
        "O python possui um conjunto de funções matemáticas integradas, incluindo um extenso módulo matemático, que permite realizar tarefas matemáticas em números."
      ],
      "metadata": {
        "id": "AzcJyCxpz9K4"
      }
    },
    {
      "cell_type": "code",
      "source": [
        "import math"
      ],
      "metadata": {
        "id": "rTpYQH0E6RjZ"
      },
      "execution_count": null,
      "outputs": []
    },
    {
      "cell_type": "code",
      "source": [
        "tupla = (1,2,3,4,5,6)\n",
        "\n",
        "print(min(tupla)) # menor valor encontrado na tupla\n",
        "print(max(tupla)) # maior valor encontrado na tupla"
      ],
      "metadata": {
        "colab": {
          "base_uri": "https://localhost:8080/"
        },
        "id": "QLcDk3VA6VwT",
        "outputId": "3015bab0-dcb2-4cf8-ee2d-976e44ee4c25"
      },
      "execution_count": null,
      "outputs": [
        {
          "output_type": "stream",
          "name": "stdout",
          "text": [
            "1\n",
            "6\n"
          ]
        }
      ]
    },
    {
      "cell_type": "code",
      "source": [
        "abs(-7.25) # converte o valor para o positivo"
      ],
      "metadata": {
        "colab": {
          "base_uri": "https://localhost:8080/"
        },
        "id": "dmPYf0zt6g5x",
        "outputId": "51e073bc-d26e-466d-c4f6-3869dc13eddb"
      },
      "execution_count": null,
      "outputs": [
        {
          "output_type": "execute_result",
          "data": {
            "text/plain": [
              "7.25"
            ]
          },
          "metadata": {},
          "execution_count": 43
        }
      ]
    },
    {
      "cell_type": "code",
      "source": [
        "pow(3,4) # faz o cálculo da potência do primeiro parâmetro pelo segundo valor = 3 * 3 * 3 * 3"
      ],
      "metadata": {
        "colab": {
          "base_uri": "https://localhost:8080/"
        },
        "id": "hJG-bRzl6oIR",
        "outputId": "8b1b56a9-0409-4ede-9634-801f12303f1b"
      },
      "execution_count": null,
      "outputs": [
        {
          "output_type": "execute_result",
          "data": {
            "text/plain": [
              "81"
            ]
          },
          "metadata": {},
          "execution_count": 45
        }
      ]
    },
    {
      "cell_type": "code",
      "source": [
        "math.sqrt(81) # retorna o valor da raiz quadrado do valor passado como parâmetro"
      ],
      "metadata": {
        "colab": {
          "base_uri": "https://localhost:8080/"
        },
        "id": "_7FuSSMX6xjY",
        "outputId": "4a186c21-fce1-4fc4-a727-12b5b66d8f6a"
      },
      "execution_count": null,
      "outputs": [
        {
          "output_type": "execute_result",
          "data": {
            "text/plain": [
              "9.0"
            ]
          },
          "metadata": {},
          "execution_count": 47
        }
      ]
    },
    {
      "cell_type": "code",
      "source": [
        "math.ceil(1.4) # ele arredonda o valor para cima até o número inteiro mais próximo"
      ],
      "metadata": {
        "colab": {
          "base_uri": "https://localhost:8080/"
        },
        "id": "GkC11_um6_EJ",
        "outputId": "5f964b9d-f7e5-430b-b54f-c1dbd3275e93"
      },
      "execution_count": null,
      "outputs": [
        {
          "output_type": "execute_result",
          "data": {
            "text/plain": [
              "2"
            ]
          },
          "metadata": {},
          "execution_count": 48
        }
      ]
    },
    {
      "cell_type": "code",
      "source": [
        "math.floor(1.4) # ele arredonda o valor para baixo até o número inteiro mais próximo"
      ],
      "metadata": {
        "colab": {
          "base_uri": "https://localhost:8080/"
        },
        "id": "Svjr6FvA7E0V",
        "outputId": "d76feb04-2a3c-4afd-9f59-1b38e83a0905"
      },
      "execution_count": null,
      "outputs": [
        {
          "output_type": "execute_result",
          "data": {
            "text/plain": [
              "1"
            ]
          },
          "metadata": {},
          "execution_count": 50
        }
      ]
    },
    {
      "cell_type": "code",
      "source": [
        "math.pi # retorna o valor de PI"
      ],
      "metadata": {
        "colab": {
          "base_uri": "https://localhost:8080/"
        },
        "id": "B0cBouIv7KBP",
        "outputId": "38ba9bb5-4acc-4d5d-c010-0540efc96e9a"
      },
      "execution_count": null,
      "outputs": [
        {
          "output_type": "execute_result",
          "data": {
            "text/plain": [
              "3.141592653589793"
            ]
          },
          "metadata": {},
          "execution_count": 51
        }
      ]
    },
    {
      "cell_type": "markdown",
      "source": [
        "**PACOTE RANDOM**\n",
        "\n",
        "Este módulo implementa geradores de números pseudo-aleatórios para várias distribuições.\n"
      ],
      "metadata": {
        "id": "Mq1HLNLC7WAK"
      }
    },
    {
      "cell_type": "code",
      "source": [
        "import random"
      ],
      "metadata": {
        "id": "wsYXSg89RhWx"
      },
      "execution_count": 2,
      "outputs": []
    },
    {
      "cell_type": "code",
      "source": [
        "lista = [1,2,3,4,5,6,7,8,9,10]\n",
        "\n",
        "random.choice(lista)"
      ],
      "metadata": {
        "colab": {
          "base_uri": "https://localhost:8080/"
        },
        "id": "nUsDDVa-RMwa",
        "outputId": "3a5f3002-7882-49b3-c7fd-e2db8e02f2f3"
      },
      "execution_count": 4,
      "outputs": [
        {
          "output_type": "execute_result",
          "data": {
            "text/plain": [
              "2"
            ]
          },
          "metadata": {},
          "execution_count": 4
        }
      ]
    },
    {
      "cell_type": "code",
      "source": [
        "random.random() # gera número aleatório entre 0 e 1"
      ],
      "metadata": {
        "colab": {
          "base_uri": "https://localhost:8080/"
        },
        "id": "IMVmimSKRvu1",
        "outputId": "d5e27c46-a046-4be3-a8eb-ae1535cbc359"
      },
      "execution_count": 8,
      "outputs": [
        {
          "output_type": "execute_result",
          "data": {
            "text/plain": [
              "0.7007758694904803"
            ]
          },
          "metadata": {},
          "execution_count": 8
        }
      ]
    },
    {
      "cell_type": "code",
      "source": [
        "random.randint(0, 1000) # gera número aleatório entre o primeiro e o segundo valor passado por parâmetro"
      ],
      "metadata": {
        "colab": {
          "base_uri": "https://localhost:8080/"
        },
        "id": "_KRAgL8hR0fj",
        "outputId": "ba757e98-9cd3-431e-a77d-7f76e9ff31e2"
      },
      "execution_count": 10,
      "outputs": [
        {
          "output_type": "execute_result",
          "data": {
            "text/plain": [
              "992"
            ]
          },
          "metadata": {},
          "execution_count": 10
        }
      ]
    },
    {
      "cell_type": "markdown",
      "source": [
        "**PACOTE STATISTICS**\n",
        "\n",
        "Este módulo fornece funções para calcular estatísticas matemáticas de dados numéricos e interage com as listas."
      ],
      "metadata": {
        "id": "uuF33s_QSAM4"
      }
    },
    {
      "cell_type": "code",
      "source": [
        "import statistics"
      ],
      "metadata": {
        "id": "K3kKcbItSIKU"
      },
      "execution_count": 11,
      "outputs": []
    },
    {
      "cell_type": "code",
      "source": [
        "lista = [12,15,28,78,78,80]"
      ],
      "metadata": {
        "id": "7e7NKgkbSKPj"
      },
      "execution_count": 19,
      "outputs": []
    },
    {
      "cell_type": "code",
      "source": [
        "sum(lista)/len(lista) # forma mais difícil de fazer a média"
      ],
      "metadata": {
        "colab": {
          "base_uri": "https://localhost:8080/"
        },
        "id": "gSKi8VXASN8Z",
        "outputId": "94aab773-8f10-48f4-adb0-f72d7d4800f0"
      },
      "execution_count": 20,
      "outputs": [
        {
          "output_type": "execute_result",
          "data": {
            "text/plain": [
              "48.5"
            ]
          },
          "metadata": {},
          "execution_count": 20
        }
      ]
    },
    {
      "cell_type": "code",
      "source": [
        "statistics.mean(lista) # faz a média automaticamente"
      ],
      "metadata": {
        "colab": {
          "base_uri": "https://localhost:8080/"
        },
        "id": "bIwpWUw6SVro",
        "outputId": "c4a5d616-94b4-4239-9c2c-f3020d3cb5d2"
      },
      "execution_count": 21,
      "outputs": [
        {
          "output_type": "execute_result",
          "data": {
            "text/plain": [
              "48.5"
            ]
          },
          "metadata": {},
          "execution_count": 21
        }
      ]
    },
    {
      "cell_type": "code",
      "source": [
        "statistics.median(lista) # faz a mediana automaticamente"
      ],
      "metadata": {
        "colab": {
          "base_uri": "https://localhost:8080/"
        },
        "id": "Z6PJrDpmSfhW",
        "outputId": "24283241-7c03-4dc9-81b8-e6c58c86ea78"
      },
      "execution_count": 22,
      "outputs": [
        {
          "output_type": "execute_result",
          "data": {
            "text/plain": [
              "53.0"
            ]
          },
          "metadata": {},
          "execution_count": 22
        }
      ]
    },
    {
      "cell_type": "code",
      "source": [
        "statistics.mode(lista) # faz a moda automaticamente"
      ],
      "metadata": {
        "colab": {
          "base_uri": "https://localhost:8080/"
        },
        "id": "iNwQr51gSl-W",
        "outputId": "45c34fac-25d0-4170-cef3-c44986d4408c"
      },
      "execution_count": 23,
      "outputs": [
        {
          "output_type": "execute_result",
          "data": {
            "text/plain": [
              "78"
            ]
          },
          "metadata": {},
          "execution_count": 23
        }
      ]
    },
    {
      "cell_type": "markdown",
      "source": [
        "**CONDIÇÃO IF**\n",
        "\n",
        "IF é a declaração mais simples de tomada de decisão. Ele é usado para decidir se uma determinada instrução ou bloco de instruções será executado ou não, ou seja, se uma determinada condição for verdadeira, um bloco será executado, caso contrário, não.\n",
        "\n",
        "IF CONDIÇÃO:\n",
        "\n",
        "*   declarações a serem executadas SE;\n",
        "*   condição é verdadeira."
      ],
      "metadata": {
        "id": "rby7pOb2Sxaz"
      }
    },
    {
      "cell_type": "code",
      "source": [
        "# condição se a pessoa tiver menos de 18 anos, ela entra no sistema\n",
        "idade = 15\n",
        "\n",
        "if idade >= 18:\n",
        "  print('você é maior de idade! :)')"
      ],
      "metadata": {
        "colab": {
          "base_uri": "https://localhost:8080/"
        },
        "id": "UGnV1CXwTMSK",
        "outputId": "3e0c3fab-3a74-4bb6-f9ef-bf34a43da8e3"
      },
      "execution_count": 27,
      "outputs": [
        {
          "output_type": "stream",
          "name": "stdout",
          "text": [
            "você é menor de idade! :(\n"
          ]
        }
      ]
    },
    {
      "cell_type": "code",
      "source": [
        "# condição se a pessoa tiver menos de 18 anos, ela entra no sistema, se não, não entra\n",
        "idade = 15\n",
        "\n",
        "if idade >= 18:\n",
        "  print('você é maior de idade! :)')\n",
        "else:\n",
        "  print('você é menor de idade! :(')"
      ],
      "metadata": {
        "id": "UA6Tqg8STxs8"
      },
      "execution_count": null,
      "outputs": []
    },
    {
      "cell_type": "code",
      "source": [
        "# condição que valida se a pessoa tiver menor de 18, ou maior, ou entre tais idades\n",
        "idade = 15\n",
        "\n",
        "if idade >= 18:\n",
        "  print('você é maior de idade! :)')\n",
        "elif idade >=15 and idade <= 17:\n",
        "  print('Seu pai ou mãe pode autorizar!')\n",
        "else:\n",
        "  print('você é muito novo! :(')"
      ],
      "metadata": {
        "colab": {
          "base_uri": "https://localhost:8080/"
        },
        "id": "_heuOdE6T131",
        "outputId": "4fd595a4-74a2-48a6-b5ff-ca5e82bff361"
      },
      "execution_count": 29,
      "outputs": [
        {
          "output_type": "stream",
          "name": "stdout",
          "text": [
            "Seu pai ou mãe pode autorizar!\n"
          ]
        }
      ]
    }
  ]
}