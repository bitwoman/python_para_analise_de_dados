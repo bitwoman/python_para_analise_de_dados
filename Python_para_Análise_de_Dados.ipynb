{
  "nbformat": 4,
  "nbformat_minor": 0,
  "metadata": {
    "colab": {
      "provenance": [],
      "authorship_tag": "ABX9TyP/O3bDmtu3clCzc3oJM0UM",
      "include_colab_link": true
    },
    "kernelspec": {
      "name": "python3",
      "display_name": "Python 3"
    },
    "language_info": {
      "name": "python"
    }
  },
  "cells": [
    {
      "cell_type": "markdown",
      "metadata": {
        "id": "view-in-github",
        "colab_type": "text"
      },
      "source": [
        "<a href=\"https://colab.research.google.com/github/bitwoman/python_para_analise_de_dados/blob/main/Python_para_An%C3%A1lise_de_Dados.ipynb\" target=\"_parent\"><img src=\"https://colab.research.google.com/assets/colab-badge.svg\" alt=\"Open In Colab\"/></a>"
      ]
    },
    {
      "cell_type": "markdown",
      "source": [
        "# MÓDULO 01"
      ],
      "metadata": {
        "id": "oAIWNn-gSvBo"
      }
    },
    {
      "cell_type": "code",
      "execution_count": null,
      "metadata": {
        "id": "9jTeEl6UI9gD",
        "colab": {
          "base_uri": "https://localhost:8080/"
        },
        "outputId": "16a31880-cec6-4549-e538-1e141bf93b95"
      },
      "outputs": [
        {
          "output_type": "stream",
          "name": "stdout",
          "text": [
            "Olá em apóstrofos\n",
            "Olá aspas duplas\n",
            "\n",
            "Pulando linha com \\ n \n"
          ]
        }
      ],
      "source": [
        "print('Olá em apóstrofos')\n",
        "print(\"Olá aspas duplas\")\n",
        "\n",
        "print('\\nPulando linha com \\ n ')"
      ]
    },
    {
      "cell_type": "markdown",
      "source": [
        "**Operadores aritméticos**\n",
        "\n",
        "```\n",
        "1.   Soma\n",
        "2.   Subtração\n",
        "3.   Multiplicação\n",
        "4.   Divisão\n",
        "5.   Exponenciação\n",
        "6.   Resto da divisão\n",
        "7.   Divisão de chão\n",
        "```"
      ],
      "metadata": {
        "id": "uRFI2CDDfF_E"
      }
    },
    {
      "cell_type": "code",
      "source": [
        "# SOMA\n",
        "print(1 + 3 + 4)"
      ],
      "metadata": {
        "colab": {
          "base_uri": "https://localhost:8080/"
        },
        "id": "Rmcy-mESY4qn",
        "outputId": "9bb361e2-d0d5-472e-b74d-bc11e1985a0d"
      },
      "execution_count": null,
      "outputs": [
        {
          "output_type": "stream",
          "name": "stdout",
          "text": [
            "8\n"
          ]
        }
      ]
    },
    {
      "cell_type": "code",
      "source": [
        "# SUBTRAÇÃO\n",
        "print(4 - 4)"
      ],
      "metadata": {
        "colab": {
          "base_uri": "https://localhost:8080/"
        },
        "id": "uDnTyuTNXY-S",
        "outputId": "50cca5a4-63f7-43df-da3c-fa1b4d8b614e"
      },
      "execution_count": null,
      "outputs": [
        {
          "output_type": "stream",
          "name": "stdout",
          "text": [
            "0\n"
          ]
        }
      ]
    },
    {
      "cell_type": "code",
      "source": [
        "# MULTIPLICAÇÃO\n",
        "print(4 * 4)"
      ],
      "metadata": {
        "colab": {
          "base_uri": "https://localhost:8080/"
        },
        "id": "CtGaKlLzXaIF",
        "outputId": "fd764ec2-0881-4366-ad46-1ab0a634f138"
      },
      "execution_count": null,
      "outputs": [
        {
          "output_type": "stream",
          "name": "stdout",
          "text": [
            "16\n"
          ]
        }
      ]
    },
    {
      "cell_type": "code",
      "source": [
        "# DIVISÃO\n",
        "print(4/4)"
      ],
      "metadata": {
        "colab": {
          "base_uri": "https://localhost:8080/"
        },
        "id": "gZO7ZQFuXbY3",
        "outputId": "279b48c8-d0e4-42ff-e99e-97bcf3ed851f"
      },
      "execution_count": null,
      "outputs": [
        {
          "output_type": "stream",
          "name": "stdout",
          "text": [
            "1.0\n"
          ]
        }
      ]
    },
    {
      "cell_type": "code",
      "source": [
        "# EXPONENCIAÇÃO\n",
        "print(2 ** 2) # 2 * 2"
      ],
      "metadata": {
        "colab": {
          "base_uri": "https://localhost:8080/"
        },
        "id": "6-hAZkc1Xdam",
        "outputId": "9243deea-fcd5-4417-c20e-68f778f382aa"
      },
      "execution_count": null,
      "outputs": [
        {
          "output_type": "stream",
          "name": "stdout",
          "text": [
            "4\n"
          ]
        }
      ]
    },
    {
      "cell_type": "code",
      "source": [
        "# RESTO DA DIVISÃO\n",
        "print(3 % 4)"
      ],
      "metadata": {
        "colab": {
          "base_uri": "https://localhost:8080/"
        },
        "id": "dl0AX0J5Xe0e",
        "outputId": "590af3d7-27ad-4e20-e151-2c9a8bfe0a0d"
      },
      "execution_count": null,
      "outputs": [
        {
          "output_type": "stream",
          "name": "stdout",
          "text": [
            "3\n"
          ]
        }
      ]
    },
    {
      "cell_type": "code",
      "source": [
        "# DIVISÃO DE CHÃO\n",
        "print(3 // 4)"
      ],
      "metadata": {
        "colab": {
          "base_uri": "https://localhost:8080/"
        },
        "id": "TCCHuw3-XgG4",
        "outputId": "fb58baae-2ec0-47b4-83b8-151be6a7f2d4"
      },
      "execution_count": null,
      "outputs": [
        {
          "output_type": "stream",
          "name": "stdout",
          "text": [
            "0\n"
          ]
        }
      ]
    },
    {
      "cell_type": "markdown",
      "source": [
        "**PRIORIZAÇÃO**"
      ],
      "metadata": {
        "id": "qj8YASPCXvuC"
      }
    },
    {
      "cell_type": "code",
      "source": [
        "# Exemplo\n",
        "(2 + 2) * 3 # o parênteses faz a proprização do cálculo que está contido dentro dele"
      ],
      "metadata": {
        "colab": {
          "base_uri": "https://localhost:8080/"
        },
        "id": "h9TFZlHCXyt9",
        "outputId": "ca88ba5d-2450-491e-fe2a-dab2c709bc93"
      },
      "execution_count": null,
      "outputs": [
        {
          "output_type": "execute_result",
          "data": {
            "text/plain": [
              "12"
            ]
          },
          "metadata": {},
          "execution_count": 16
        }
      ]
    },
    {
      "cell_type": "markdown",
      "source": [
        "**VARIÁVEIS**"
      ],
      "metadata": {
        "id": "Bdh4KQI9ZLUq"
      }
    },
    {
      "cell_type": "code",
      "source": [
        " Nome = 'Brenda'"
      ],
      "metadata": {
        "id": "A6Q1-uDqZN7W"
      },
      "execution_count": null,
      "outputs": []
    },
    {
      "cell_type": "code",
      "source": [
        "Nome"
      ],
      "metadata": {
        "colab": {
          "base_uri": "https://localhost:8080/",
          "height": 35
        },
        "id": "55mU5ml2ZR2r",
        "outputId": "c46f8c00-5e8b-4e63-bd04-b726e678c2ad"
      },
      "execution_count": null,
      "outputs": [
        {
          "output_type": "execute_result",
          "data": {
            "text/plain": [
              "'Brenda'"
            ],
            "application/vnd.google.colaboratory.intrinsic+json": {
              "type": "string"
            }
          },
          "metadata": {},
          "execution_count": 20
        }
      ]
    },
    {
      "cell_type": "markdown",
      "source": [
        "**Variáveis de texto**"
      ],
      "metadata": {
        "id": "D9lvy5lhZaI6"
      }
    },
    {
      "cell_type": "code",
      "source": [
        "var_texto1 = 'Primeira variável'\n",
        "var_texto2 = str('Segunda variável') # a função str define que o valor definido dentro dela seja texto (string)\n",
        "\n",
        "print(var_texto1 + '\\t' + var_texto2)"
      ],
      "metadata": {
        "colab": {
          "base_uri": "https://localhost:8080/"
        },
        "id": "JMd48jjqZduj",
        "outputId": "2bf1f77d-e9a2-4fc6-907f-52a67fa0eea6"
      },
      "execution_count": null,
      "outputs": [
        {
          "output_type": "stream",
          "name": "stdout",
          "text": [
            "Primeira variável\tSegunda variável\n"
          ]
        }
      ]
    },
    {
      "cell_type": "markdown",
      "source": [
        "Variáveis numéricas"
      ],
      "metadata": {
        "id": "dbSG2eN8ag31"
      }
    },
    {
      "cell_type": "code",
      "source": [
        "var_int1 = 100\n",
        "var_int2 = int(200) # a função int define que o valor é inteiro\n",
        "\n",
        "print(var_int1, ' ', var_int2)"
      ],
      "metadata": {
        "colab": {
          "base_uri": "https://localhost:8080/"
        },
        "id": "YlWgOuznakj4",
        "outputId": "6c58e3cd-2fc8-442b-d82e-d64afebcafa1"
      },
      "execution_count": null,
      "outputs": [
        {
          "output_type": "stream",
          "name": "stdout",
          "text": [
            "100   200\n"
          ]
        }
      ]
    },
    {
      "cell_type": "markdown",
      "source": [
        "**Variáveis flutuantes**"
      ],
      "metadata": {
        "id": "bA0qT5HKbAh0"
      }
    },
    {
      "cell_type": "code",
      "source": [
        "var_flutuante1 = 10.90\n",
        "var_flutuante2 = float(10.50) # a função float define que o valor é ponto flutuante\n",
        "\n",
        "print(var_flutuante1, ' ', var_flutuante2)"
      ],
      "metadata": {
        "colab": {
          "base_uri": "https://localhost:8080/"
        },
        "id": "wGP5MA7TbC5C",
        "outputId": "bdc4aa31-075a-44a9-8954-04d993984068"
      },
      "execution_count": null,
      "outputs": [
        {
          "output_type": "stream",
          "name": "stdout",
          "text": [
            "10.9   10.5\n"
          ]
        }
      ]
    },
    {
      "cell_type": "markdown",
      "source": [
        "**Variáveis booleanas**"
      ],
      "metadata": {
        "id": "FL0kpfCebTHz"
      }
    },
    {
      "cell_type": "code",
      "source": [
        "var_booleana1 = True  # a condição é verdadeira\n",
        "var_booleana2 = False # a condição é falsa\n",
        "\n",
        "print(var_booleana1, ' ', var_booleana2)"
      ],
      "metadata": {
        "colab": {
          "base_uri": "https://localhost:8080/"
        },
        "id": "5Nw60wpObVmE",
        "outputId": "330b606a-a734-4e49-98b6-c8c802eec9b3"
      },
      "execution_count": null,
      "outputs": [
        {
          "output_type": "stream",
          "name": "stdout",
          "text": [
            "True   False\n"
          ]
        }
      ]
    },
    {
      "cell_type": "markdown",
      "source": [
        "**TIPOS DE DADOS**\n",
        "\n",
        "```\n",
        "1.   Listas - são criadas usando [] (colchetes)\n",
        "2.   Tuplas - são criadas usando () (parênteses)\n",
        "3.   Dicionários - são criados usando {} (chaves)\n",
        "```\n",
        "\n",
        "Esses tipos de dados podem receber qualquer tipo de informação, inclusive operações aritméticas."
      ],
      "metadata": {
        "id": "OJDGx7sGc4o5"
      }
    },
    {
      "cell_type": "markdown",
      "source": [
        "**LISTAS**"
      ],
      "metadata": {
        "id": "ycjdssNshtjZ"
      }
    },
    {
      "cell_type": "code",
      "source": [
        "# Listas\n",
        "lista1 = [1,2,3,4,5,6,7,8,9,10]\n",
        "lista2 = ['Nome', 'Sobrenome','Sexo', 'Idade']\n",
        "lista3 = [1, 'Lista 3', True, [1,2,3]] # lista dentro de uma lista\n",
        "\n",
        "\n",
        "print(lista1)\n",
        "print(lista2)\n",
        "print(lista3)"
      ],
      "metadata": {
        "colab": {
          "base_uri": "https://localhost:8080/"
        },
        "id": "S42yY0tQc_tU",
        "outputId": "2af5fc60-05c3-4213-808a-7246ef67c3d4"
      },
      "execution_count": null,
      "outputs": [
        {
          "output_type": "stream",
          "name": "stdout",
          "text": [
            "[1, 2, 3, 4, 5, 6, 7, 8, 9, 10]\n",
            "['Nome', 'Sobrenome', 'Sexo', 'Idade']\n",
            "[1, 'Lista 3', True, [1, 2, 3]]\n"
          ]
        }
      ]
    },
    {
      "cell_type": "markdown",
      "source": [
        "**TUPLAS**"
      ],
      "metadata": {
        "id": "Ql-LuxqehxCA"
      }
    },
    {
      "cell_type": "code",
      "source": [
        "# TUPLAS - são imutáveis\n",
        "tupla1 = (1, 2, 3, 4)\n",
        "tupla2 = ('Texto', True, 2, 2.90)\n",
        "\n",
        "print(tupla1)\n",
        "print(tupla2)"
      ],
      "metadata": {
        "colab": {
          "base_uri": "https://localhost:8080/"
        },
        "id": "EJboDzEhhybH",
        "outputId": "75a7da24-19a5-410a-c5a9-9bda3303a5f5"
      },
      "execution_count": null,
      "outputs": [
        {
          "output_type": "stream",
          "name": "stdout",
          "text": [
            "(1, 2, 3, 4)\n",
            "('Texto', True, 2, 2.9)\n"
          ]
        }
      ]
    },
    {
      "cell_type": "markdown",
      "source": [
        "**DICIONÁRIOS**"
      ],
      "metadata": {
        "id": "p5nBY6oziHVn"
      }
    },
    {
      "cell_type": "code",
      "source": [
        "# DICIONÁRIOS - organizados por chave-valor\n",
        "telefones = ['1233-1234','5432-1234'] # lista para utilizar no dicionário\n",
        "dicionario1 = {'clientID':1, 'nomeCliente': 'Brenda', 'Telefone (s)': telefones}\n",
        "\n",
        "print(dicionario1)"
      ],
      "metadata": {
        "colab": {
          "base_uri": "https://localhost:8080/"
        },
        "id": "t9Q1yDzfiLqb",
        "outputId": "3b04af3a-4c5a-4a75-dcba-3de242ba371a"
      },
      "execution_count": null,
      "outputs": [
        {
          "output_type": "stream",
          "name": "stdout",
          "text": [
            "{'clientID': 1, 'nomeCliente': 'Brenda', 'Telefone (s)': ['1233-1234', '5432-1234']}\n"
          ]
        }
      ]
    },
    {
      "cell_type": "markdown",
      "source": [
        "**NOMEAÇÃO DE VARIÁVEIS**\n",
        "\n",
        "Podemos nomear variáveis e tipos de dados de diversas formas:\n",
        "\n",
        "```\n",
        "1. Declarar em uma única linha de comando;\n",
        "2. Atribuir um valor à diversas variáveis;\n",
        "3. Declarar usando uma lista;\n",
        "4. Combinar variáveis;\n",
        "5. Operar com operadores matemáticos;\n",
        "6. Muitos outros.\n",
        "```"
      ],
      "metadata": {
        "id": "gobhdbohi9-b"
      }
    },
    {
      "cell_type": "code",
      "source": [
        "# Nomeando\n",
        "fruta1, fruta2, fruta3 = 'laranja', 'melão','abacaxi' # valor segmentado\n",
        "\n",
        "print(fruta1,fruta2,fruta3)"
      ],
      "metadata": {
        "colab": {
          "base_uri": "https://localhost:8080/"
        },
        "id": "HYWpMywzmJqr",
        "outputId": "49b25389-f6e2-4a7d-f8b8-039293ef0f2d"
      },
      "execution_count": null,
      "outputs": [
        {
          "output_type": "stream",
          "name": "stdout",
          "text": [
            "laranja melão abacaxi\n"
          ]
        }
      ]
    },
    {
      "cell_type": "code",
      "source": [
        "# Nomeando\n",
        "morango = uva = kiwi = 100 # valor global\n",
        "\n",
        "print(morango, uva, kiwi)"
      ],
      "metadata": {
        "colab": {
          "base_uri": "https://localhost:8080/"
        },
        "id": "6jVGtZ3HpL4m",
        "outputId": "746fc3f3-ab98-4690-fe14-9e395afc4edf"
      },
      "execution_count": null,
      "outputs": [
        {
          "output_type": "stream",
          "name": "stdout",
          "text": [
            "100 100 100\n"
          ]
        }
      ]
    },
    {
      "cell_type": "code",
      "source": [
        "# Nomeando com listas\n",
        "listaCarros = ['VW', 'Audi', 'Tesla']\n",
        "marca1,marca2,marca3 = listaCarros\n",
        "\n",
        "print(marca1, marca2, marca3)"
      ],
      "metadata": {
        "colab": {
          "base_uri": "https://localhost:8080/"
        },
        "id": "cg147kDopXkh",
        "outputId": "e41d163c-19a6-4937-d9b5-4edbcfd83d28"
      },
      "execution_count": null,
      "outputs": [
        {
          "output_type": "stream",
          "name": "stdout",
          "text": [
            "VW Audi Tesla\n"
          ]
        }
      ]
    },
    {
      "cell_type": "code",
      "source": [
        "# Combinar variáveis\n",
        "nome = 'Taylor'\n",
        "sobrenome = 'Swift'\n",
        "\n",
        "nomeCompleto = nome + ' ' + sobrenome\n",
        "\n",
        "print(nomeCompleto)"
      ],
      "metadata": {
        "colab": {
          "base_uri": "https://localhost:8080/"
        },
        "id": "t9MoQiz5prDi",
        "outputId": "db596d0f-6530-44b9-bc3c-b51033d57e95"
      },
      "execution_count": null,
      "outputs": [
        {
          "output_type": "stream",
          "name": "stdout",
          "text": [
            "Taylor Swift\n"
          ]
        }
      ]
    },
    {
      "cell_type": "code",
      "source": [
        "# Teste 01\n",
        "nome = 'Taylor'\n",
        "idade = 33\n",
        "\n",
        "print(nome + ': ' + str(idade) + ' anos') # se você não converter a idade para string, o script gerará um erro\n"
      ],
      "metadata": {
        "colab": {
          "base_uri": "https://localhost:8080/"
        },
        "id": "7wfB8_gwp1S2",
        "outputId": "841c3a2c-99c6-4189-a3f6-2c41d5047fbc"
      },
      "execution_count": null,
      "outputs": [
        {
          "output_type": "stream",
          "name": "stdout",
          "text": [
            "Taylor: 33 anos\n"
          ]
        }
      ]
    },
    {
      "cell_type": "code",
      "source": [
        "# Teste 02\n",
        "investimento = 1000\n",
        "taxaJuros = float('0.2')\n",
        "\n",
        "print(investimento * taxaJuros) # sem a conversão para float, o valor (dado como string) será multiplicado por 1000 e retornará mil ocorrências dela\n",
        "\n",
        "valorGanho = (investimento * taxaJuros) + investimento\n",
        "print('Valor ganho: ' + str(valorGanho))"
      ],
      "metadata": {
        "colab": {
          "base_uri": "https://localhost:8080/"
        },
        "id": "7yVs3b4kqUhg",
        "outputId": "9e3dd538-b7eb-4a94-9461-9171de83887f"
      },
      "execution_count": null,
      "outputs": [
        {
          "output_type": "stream",
          "name": "stdout",
          "text": [
            "200.0\n",
            "Valor ganho: 1200.0\n"
          ]
        }
      ]
    },
    {
      "cell_type": "markdown",
      "source": [
        "**TIPO DA INFORMAÇÃO**\n",
        "\n",
        "Na programação, o tipo de dados é um conceito importante. Variáveis podem armazenar dados de diferentes tipos, e diferentes tipos podem fazer coisas diferentes. O python tem os seguintes tipos de dados integrados por padrão nessa categorias:\n",
        "\n",
        "```\n",
        "  1.   Text Type: str;\n",
        "  2.   Numeric: int, float, complex;\n",
        "  3.   Sequence Types: list, tuple, range;\n",
        "  4.   Mapping Type: dict;\n",
        "  5.   Set Types: set, frozenset;\n",
        "  6.   Boolean Type: bool;\n",
        "  7.   Binary Types: bytes, bytearray, memoryview.\n",
        "```"
      ],
      "metadata": {
        "id": "atHcL4kH1pM7"
      }
    },
    {
      "cell_type": "code",
      "source": [],
      "metadata": {
        "id": "ftStK5r6e9mT"
      },
      "execution_count": null,
      "outputs": []
    },
    {
      "cell_type": "code",
      "source": [
        "string = str('Hello world - old, but gold')\n",
        "inteiro = int(10)\n",
        "flutuante = float(10.50)\n",
        "complexo = complex(1j)\n",
        "lista = list(('Maçã', 'Morango'))\n",
        "tupla = tuple(('A', 'B'))\n",
        "range = range(6)\n",
        "dicionario = dict(nome = 'Brenda', age = 29)\n",
        "Set = set(('A','B','C'))\n",
        "frozenSet = frozenset(('A','B','C'))\n",
        "booleano = bool(5)\n",
        "bytesType = bytes(5)\n",
        "byteArray = bytearray(5)\n",
        "memoryView = memoryview(bytes(5))\n",
        "\n",
        "from datetime import datetime\n",
        "Data = datetime.today().date()"
      ],
      "metadata": {
        "id": "IXheEo0q3H5e"
      },
      "execution_count": null,
      "outputs": []
    },
    {
      "cell_type": "code",
      "source": [
        "print(type(string)) # type() é uma função que retorna o tipo de dado da variável passada como parâmetro\n",
        "print(type(inteiro))\n",
        "print(type(flutuante))\n",
        "print(type(complexo))\n",
        "print(type(lista))\n",
        "print(type(tupla))\n",
        "print(type(range))\n",
        "print(type(dicionario))\n",
        "print(type(Set))\n",
        "print(type(frozenSet))\n",
        "print(type(booleano))\n",
        "print(type(bytesType))\n",
        "print(type(byteArray))\n",
        "print(type(memoryView))\n",
        "print(type(Data))"
      ],
      "metadata": {
        "colab": {
          "base_uri": "https://localhost:8080/"
        },
        "id": "WaPrAagu-RFO",
        "outputId": "3c9568eb-18c0-4403-b744-11eeb062e63e"
      },
      "execution_count": null,
      "outputs": [
        {
          "output_type": "stream",
          "name": "stdout",
          "text": [
            "<class 'str'>\n",
            "<class 'int'>\n",
            "<class 'float'>\n",
            "<class 'complex'>\n",
            "<class 'list'>\n",
            "<class 'tuple'>\n",
            "<class 'range'>\n",
            "<class 'dict'>\n",
            "<class 'set'>\n",
            "<class 'frozenset'>\n",
            "<class 'bool'>\n",
            "<class 'bytes'>\n",
            "<class 'bytearray'>\n",
            "<class 'memoryview'>\n",
            "<class 'datetime.date'>\n"
          ]
        }
      ]
    },
    {
      "cell_type": "markdown",
      "source": [
        "**COMANDO ROUND**\n",
        "\n",
        "Quando trabalhamos com números flutuantes, podemos arredondar o valor usando um comando nativo do python: round(valor, número de casas decimais)."
      ],
      "metadata": {
        "id": "Hw7EMYHq_ZsF"
      }
    },
    {
      "cell_type": "code",
      "source": [
        "# Exemplo\n",
        "valor = 12.123456789\n",
        "valorArredondado = round(valor, 2) # arredonda para o valor mais próximo\n",
        "\n",
        "print(valor)\n",
        "print(valorArredondado)"
      ],
      "metadata": {
        "colab": {
          "base_uri": "https://localhost:8080/"
        },
        "id": "E2d31s4BTv_g",
        "outputId": "4e0ee0b0-fd7a-40a0-952c-47b18ec53496"
      },
      "execution_count": null,
      "outputs": [
        {
          "output_type": "stream",
          "name": "stdout",
          "text": [
            "12.123456789\n",
            "12.12\n"
          ]
        }
      ]
    },
    {
      "cell_type": "markdown",
      "source": [
        "**COMANDO LEN**\n",
        "\n",
        "Retorna a quantidade de elementos de qualquer lista em python, essa é mais uma função built-in e disponível em qualquer parte dos nossos códigos."
      ],
      "metadata": {
        "id": "bYMHrQj8UkAb"
      }
    },
    {
      "cell_type": "code",
      "source": [
        "lista = [1,2,3,4,5,6,7,8,9,10]\n",
        "dicionario = {'Nome': 'Brenda', 'Idade':29}\n",
        "tupla = (1,2,3)\n",
        "string = 'Hello, World!'\n",
        "\n",
        "print(len(lista))\n",
        "print(len(dicionario))\n",
        "print(len(tupla))\n",
        "print(len(string))"
      ],
      "metadata": {
        "colab": {
          "base_uri": "https://localhost:8080/"
        },
        "id": "WC1uC9BfUwHZ",
        "outputId": "2f56a401-e721-49db-b378-09f9f5b0769d"
      },
      "execution_count": null,
      "outputs": [
        {
          "output_type": "stream",
          "name": "stdout",
          "text": [
            "10\n",
            "2\n",
            "3\n",
            "13\n"
          ]
        }
      ]
    },
    {
      "cell_type": "markdown",
      "source": [
        "**FATIAMENTO DE STRINGs**\n",
        "\n",
        "Strings são listas de bytes representando caracteres. Podemos acessar suas posições usando colchetes.\n",
        "\n",
        "string[posição inicial:posição final]"
      ],
      "metadata": {
        "id": "TDvVSSoPVhqE"
      }
    },
    {
      "cell_type": "code",
      "source": [
        "# Exemplo\n",
        "string = 'My World'\n",
        "cpf = 'CPF:123456789'\n",
        "\n",
        "print(type(string))\n",
        "print(string[0:2])\n",
        "print(cpf[-9:])"
      ],
      "metadata": {
        "colab": {
          "base_uri": "https://localhost:8080/"
        },
        "id": "PgYHMgcMXvtd",
        "outputId": "43ee253b-0f65-4cd1-c0ea-ed97933612e0"
      },
      "execution_count": null,
      "outputs": [
        {
          "output_type": "stream",
          "name": "stdout",
          "text": [
            "<class 'str'>\n",
            "My\n",
            "123456789\n"
          ]
        }
      ]
    },
    {
      "cell_type": "markdown",
      "source": [
        "**MANIPULAÇÃO DE STRINGs**\n",
        "\n",
        "Um tipo de dados bastante usado no dia a dia são as strings, ou cadeias de caracteres (sequência de caracteres). O tipo de dados string, ou str, como é chamado em python, possui várias operações úteis a ele. Essas operações tornam python uma linguagem bastante propícia para manipulação de textos. Algumas funções mais utilizadas:\n",
        "\n",
        "```\n",
        "1.   replace()\n",
        "2.   startswith()\n",
        "3.   endswith()\n",
        "4.   count()\n",
        "5.   capitalize()\n",
        "6.   isdigit()\n",
        "7.   isalnum()\n",
        "8.   upper()\n",
        "9.   lower()\n",
        "10.  find()\n",
        "11.  strip()\n",
        "12.  split()\n",
        "```"
      ],
      "metadata": {
        "id": "bEs2-NJPYR7-"
      }
    },
    {
      "cell_type": "code",
      "source": [
        "# REPLACE > substituir\n",
        "string = 'Hello World!'\n",
        "\n",
        "print(string.replace('World', 'WORLD'))"
      ],
      "metadata": {
        "colab": {
          "base_uri": "https://localhost:8080/"
        },
        "id": "L7xesCAUZDbb",
        "outputId": "e10c36a4-8c71-4736-f49a-aacef3e07aac"
      },
      "execution_count": null,
      "outputs": [
        {
          "output_type": "stream",
          "name": "stdout",
          "text": [
            "Hello WORLD!\n"
          ]
        }
      ]
    },
    {
      "cell_type": "code",
      "source": [
        "# STARTSWITH > verifica se a string inicia com o valor passado por parâmetro\n",
        "print(string.startswith('Olá')) # retorna um valor booleano (true/false)"
      ],
      "metadata": {
        "colab": {
          "base_uri": "https://localhost:8080/"
        },
        "id": "L13oNYdTKojW",
        "outputId": "3da135ae-1c9d-4aa0-f035-a449d0f3fd07"
      },
      "execution_count": null,
      "outputs": [
        {
          "output_type": "stream",
          "name": "stdout",
          "text": [
            "False\n"
          ]
        }
      ]
    },
    {
      "cell_type": "code",
      "source": [
        "# ENDSWITH: verifica se a string finaliza com o valor passado por parâmetro\n",
        "print(string.endswith('!')) # retorna um valor booleano (true/false)"
      ],
      "metadata": {
        "colab": {
          "base_uri": "https://localhost:8080/"
        },
        "id": "mF5Dx9nVK21A",
        "outputId": "6e33e50d-cbb0-49d0-f24d-5c4c892e5780"
      },
      "execution_count": null,
      "outputs": [
        {
          "output_type": "stream",
          "name": "stdout",
          "text": [
            "True\n"
          ]
        }
      ]
    },
    {
      "cell_type": "code",
      "source": [
        "# COUNT: tem a função de contar o número de ocorrências do valor passado por parâmetro\n",
        "print(string.count('M'))"
      ],
      "metadata": {
        "colab": {
          "base_uri": "https://localhost:8080/"
        },
        "id": "aR8BdqLELOrY",
        "outputId": "b3088637-133e-43f4-fb1d-cc6adf573890"
      },
      "execution_count": null,
      "outputs": [
        {
          "output_type": "stream",
          "name": "stdout",
          "text": [
            "0\n"
          ]
        }
      ]
    },
    {
      "cell_type": "code",
      "source": [
        "# CAPITALIZE (Transformação): se o primeiro valor for uma letra minúscula, ele transoforma para maiúscula\n",
        "nome = 'brenda'\n",
        "print(nome.capitalize())"
      ],
      "metadata": {
        "colab": {
          "base_uri": "https://localhost:8080/"
        },
        "id": "STpoGdXiLbqW",
        "outputId": "0c07f488-8192-4386-cf9e-f4ff4602acd2"
      },
      "execution_count": null,
      "outputs": [
        {
          "output_type": "stream",
          "name": "stdout",
          "text": [
            "Brenda\n"
          ]
        }
      ]
    },
    {
      "cell_type": "code",
      "source": [
        "# ISDIGIT: verificar se é valor numérico\n",
        "cpf = '123456789'\n",
        "\n",
        "print(cpf.isdigit()) # retorna um valor booleano (true/false)"
      ],
      "metadata": {
        "colab": {
          "base_uri": "https://localhost:8080/"
        },
        "id": "dectDXdgLq02",
        "outputId": "cbf949fc-6229-4f8b-88e4-83a9acfeb01d"
      },
      "execution_count": null,
      "outputs": [
        {
          "output_type": "stream",
          "name": "stdout",
          "text": [
            "True\n"
          ]
        }
      ]
    },
    {
      "cell_type": "code",
      "source": [
        "# ISALNUM: verificar se é alfa numérico\n",
        "print(string.isalnum()) # retorna um valor booleano (true/false)"
      ],
      "metadata": {
        "colab": {
          "base_uri": "https://localhost:8080/"
        },
        "id": "mIkms_h0M0t1",
        "outputId": "7cc576d5-1e5e-43d8-db76-93cc0cd65cad"
      },
      "execution_count": null,
      "outputs": [
        {
          "output_type": "stream",
          "name": "stdout",
          "text": [
            "False\n"
          ]
        }
      ]
    },
    {
      "cell_type": "code",
      "source": [
        "# UPPER: deixar o texto em caixa alta (maiúscula)\n",
        "print(nome.upper())"
      ],
      "metadata": {
        "colab": {
          "base_uri": "https://localhost:8080/"
        },
        "id": "qmuct4s-ikis",
        "outputId": "1abcc5ab-c9df-4a06-ec52-463466c3dd89"
      },
      "execution_count": null,
      "outputs": [
        {
          "output_type": "stream",
          "name": "stdout",
          "text": [
            "BRENDA\n"
          ]
        }
      ]
    },
    {
      "cell_type": "code",
      "source": [
        "# LOWER: deixar o texto em caixa baixa (minúscula)\n",
        "print(nome.lower())"
      ],
      "metadata": {
        "colab": {
          "base_uri": "https://localhost:8080/"
        },
        "id": "d0XhRapei3V6",
        "outputId": "c63cb35d-fcca-4555-f412-6586ffeea295"
      },
      "execution_count": null,
      "outputs": [
        {
          "output_type": "stream",
          "name": "stdout",
          "text": [
            "brenda\n"
          ]
        }
      ]
    },
    {
      "cell_type": "code",
      "source": [
        "# FIND: para localizar algum elemento específico\n",
        "frase = 'hoje está calor!'\n",
        "\n",
        "print(frase.find('calor')) # ele retorna a posição do elemento dentro da string (ou onde ela se inicia)"
      ],
      "metadata": {
        "id": "ZbRfXNUTi7E-",
        "colab": {
          "base_uri": "https://localhost:8080/"
        },
        "outputId": "a1e0c029-295d-43cb-bdef-723ecabeeeab"
      },
      "execution_count": null,
      "outputs": [
        {
          "output_type": "stream",
          "name": "stdout",
          "text": [
            "10\n"
          ]
        }
      ]
    },
    {
      "cell_type": "code",
      "source": [
        "# STRIP: ele remover os espaços entre o começo e o final das palavras\n",
        "endereco = ' R. Augusto 120, SP ' # espaço no início e no final da string\n",
        "\n",
        "print(endereco.strip())"
      ],
      "metadata": {
        "colab": {
          "base_uri": "https://localhost:8080/"
        },
        "id": "VSzBaeXVeQ3Y",
        "outputId": "545f8478-af48-4016-94bd-28e54e76f4f3"
      },
      "execution_count": null,
      "outputs": [
        {
          "output_type": "stream",
          "name": "stdout",
          "text": [
            "R. Augusto 120, SP\n"
          ]
        }
      ]
    },
    {
      "cell_type": "code",
      "source": [
        "# SPLIT: ele divide a string em várias partes\n",
        "\n",
        "print(endereco.split(',')) # dá para utilizar o parâmetro onde você deseja, especificamente, realizar a quebra"
      ],
      "metadata": {
        "colab": {
          "base_uri": "https://localhost:8080/"
        },
        "id": "FKFo623PeS3Y",
        "outputId": "31727d27-4743-4e90-b874-0a5f0be0beaf"
      },
      "execution_count": null,
      "outputs": [
        {
          "output_type": "stream",
          "name": "stdout",
          "text": [
            "[' R. Augusto 120', ' SP ']\n"
          ]
        }
      ]
    },
    {
      "cell_type": "markdown",
      "source": [
        "**INPUT**\n",
        "\n",
        "Recebe como parâmetro uma string que será mostrada como auxílio ao usuário, geralmente o informando que tipo de dado o programa está aguardando receber."
      ],
      "metadata": {
        "id": "HG02UydUg8lv"
      }
    },
    {
      "cell_type": "code",
      "source": [
        "input('input 1!')"
      ],
      "metadata": {
        "colab": {
          "base_uri": "https://localhost:8080/",
          "height": 53
        },
        "id": "INAkZeiug-LV",
        "outputId": "509121c4-f230-4df8-9c89-e7da6ffe4d27"
      },
      "execution_count": null,
      "outputs": [
        {
          "name": "stdout",
          "output_type": "stream",
          "text": [
            "input 1!2\n"
          ]
        },
        {
          "output_type": "execute_result",
          "data": {
            "text/plain": [
              "'2'"
            ],
            "application/vnd.google.colaboratory.intrinsic+json": {
              "type": "string"
            }
          },
          "metadata": {},
          "execution_count": 11
        }
      ]
    },
    {
      "cell_type": "code",
      "source": [
        "# FORM\n",
        "nome = input('qual o seu nome? ')\n",
        "\n",
        "print('Meu nome é ' + nome)"
      ],
      "metadata": {
        "colab": {
          "base_uri": "https://localhost:8080/"
        },
        "id": "yoXJ0nT7izdR",
        "outputId": "e8af0747-db36-463f-87c8-eb3c6057440e"
      },
      "execution_count": null,
      "outputs": [
        {
          "output_type": "stream",
          "name": "stdout",
          "text": [
            "qual o seu nome? brenda linda\n",
            "Meu nome é brenda linda\n"
          ]
        }
      ]
    },
    {
      "cell_type": "markdown",
      "source": [
        "**OPERADORES DE COMPARAÇÃO**\n",
        "\n",
        "Os operadores de comparação são usados para comparar dois valores:\n",
        "\n",
        "```\n",
        "1.   == (igual à)\n",
        "2.   != (diferente)\n",
        "3.   > (maior)\n",
        "4.   < (menor)\n",
        "5.   >= (maior igual)\n",
        "6.   <= (menor igual)\n",
        "```\n",
        "\n"
      ],
      "metadata": {
        "id": "NKFDGPeOjLlg"
      }
    },
    {
      "cell_type": "code",
      "source": [
        "10 == 10 # igual à"
      ],
      "metadata": {
        "colab": {
          "base_uri": "https://localhost:8080/"
        },
        "id": "WU9_aARqkwOl",
        "outputId": "d3416deb-3868-4ba2-90f8-7e56ccefcffc"
      },
      "execution_count": null,
      "outputs": [
        {
          "output_type": "execute_result",
          "data": {
            "text/plain": [
              "True"
            ]
          },
          "metadata": {},
          "execution_count": 15
        }
      ]
    },
    {
      "cell_type": "code",
      "source": [
        "10 != 8 # diferente"
      ],
      "metadata": {
        "colab": {
          "base_uri": "https://localhost:8080/"
        },
        "id": "eBsaJV_fkzIY",
        "outputId": "6c2c7759-65e6-4a80-d181-9b6073d53b16"
      },
      "execution_count": null,
      "outputs": [
        {
          "output_type": "execute_result",
          "data": {
            "text/plain": [
              "True"
            ]
          },
          "metadata": {},
          "execution_count": 16
        }
      ]
    },
    {
      "cell_type": "code",
      "source": [
        "10 > 5 # maior"
      ],
      "metadata": {
        "colab": {
          "base_uri": "https://localhost:8080/"
        },
        "id": "IlBfQuG6k40P",
        "outputId": "b03c0dea-1958-49a3-d251-3f02dc382cb5"
      },
      "execution_count": null,
      "outputs": [
        {
          "output_type": "execute_result",
          "data": {
            "text/plain": [
              "True"
            ]
          },
          "metadata": {},
          "execution_count": 17
        }
      ]
    },
    {
      "cell_type": "code",
      "source": [
        "10 < 20 # menor"
      ],
      "metadata": {
        "colab": {
          "base_uri": "https://localhost:8080/"
        },
        "id": "nGHwHEpfk7GW",
        "outputId": "6c281744-a3a8-4dbd-b210-6df283681148"
      },
      "execution_count": null,
      "outputs": [
        {
          "output_type": "execute_result",
          "data": {
            "text/plain": [
              "True"
            ]
          },
          "metadata": {},
          "execution_count": 18
        }
      ]
    },
    {
      "cell_type": "code",
      "source": [
        "10 >= 10 # maior ou igual à"
      ],
      "metadata": {
        "colab": {
          "base_uri": "https://localhost:8080/"
        },
        "id": "yv5qLmyVk89x",
        "outputId": "71314750-a17f-48b1-d40a-913372844a8b"
      },
      "execution_count": null,
      "outputs": [
        {
          "output_type": "execute_result",
          "data": {
            "text/plain": [
              "True"
            ]
          },
          "metadata": {},
          "execution_count": 19
        }
      ]
    },
    {
      "cell_type": "code",
      "source": [
        "10 <= 10 # menor ou igual à"
      ],
      "metadata": {
        "colab": {
          "base_uri": "https://localhost:8080/"
        },
        "id": "JVGP3ymolA-A",
        "outputId": "f84ffc5a-3c03-4361-af70-c188c8a14382"
      },
      "execution_count": null,
      "outputs": [
        {
          "output_type": "execute_result",
          "data": {
            "text/plain": [
              "True"
            ]
          },
          "metadata": {},
          "execution_count": 20
        }
      ]
    },
    {
      "cell_type": "markdown",
      "source": [
        "**OPERADORES LÓGICOS**\n",
        "\n",
        "Os operadores lógicos são usados para combinar instruções condicionais:\n",
        "\n",
        "\n",
        "1.   and (retorna True se ambas as declarações forem verdadeiras);\n",
        "2.   or (retorna True se uma das declarações forem verdadeira);\n",
        "3.   not (inverte o resultado, retorna False se o resultado for verdadeiro).\n",
        "\n"
      ],
      "metadata": {
        "id": "bb-tImCHlEty"
      }
    },
    {
      "cell_type": "code",
      "source": [
        "10 > 2 and 10 > 3"
      ],
      "metadata": {
        "colab": {
          "base_uri": "https://localhost:8080/"
        },
        "id": "VSGdqb-8lG-c",
        "outputId": "82faa441-1250-4ef6-8fd6-1a5ec1fca713"
      },
      "execution_count": null,
      "outputs": [
        {
          "output_type": "execute_result",
          "data": {
            "text/plain": [
              "True"
            ]
          },
          "metadata": {},
          "execution_count": 23
        }
      ]
    },
    {
      "cell_type": "code",
      "source": [
        "10 == 2 or 10 < 20"
      ],
      "metadata": {
        "colab": {
          "base_uri": "https://localhost:8080/"
        },
        "id": "eSrVR70DlvyZ",
        "outputId": "557f3b49-d3e8-4c29-cda4-af07e76b5a25"
      },
      "execution_count": null,
      "outputs": [
        {
          "output_type": "execute_result",
          "data": {
            "text/plain": [
              "True"
            ]
          },
          "metadata": {},
          "execution_count": 29
        }
      ]
    },
    {
      "cell_type": "code",
      "source": [
        "not(10 > 2)"
      ],
      "metadata": {
        "colab": {
          "base_uri": "https://localhost:8080/"
        },
        "id": "PjktTxjJlzvJ",
        "outputId": "dec518ae-a399-48ef-af72-c7df268793bb"
      },
      "execution_count": null,
      "outputs": [
        {
          "output_type": "execute_result",
          "data": {
            "text/plain": [
              "False"
            ]
          },
          "metadata": {},
          "execution_count": 28
        }
      ]
    },
    {
      "cell_type": "code",
      "source": [
        "lista = [1,2,3,4,5]\n",
        "\n",
        "10 not in lista"
      ],
      "metadata": {
        "colab": {
          "base_uri": "https://localhost:8080/"
        },
        "id": "Qb8jzTLNmayq",
        "outputId": "cd3d5cb4-1799-4884-d399-4fa1177366bc"
      },
      "execution_count": null,
      "outputs": [
        {
          "output_type": "execute_result",
          "data": {
            "text/plain": [
              "True"
            ]
          },
          "metadata": {},
          "execution_count": 31
        }
      ]
    },
    {
      "cell_type": "markdown",
      "source": [
        "**OPERADORES DE IDENTIDADE**\n",
        "\n",
        "Os operadores de identidade são usados para comparar os objetos, não se forem iguais, mas se forem realmente o mesmo objeto, com a mesma localização de memória.\n",
        "\n",
        "1.   is (retorna True se ambas as variáveis forem o mesmo objeto)\n",
        "2.   is not (retorna True se ambas as variáveis não forem o mesmo objeto)"
      ],
      "metadata": {
        "id": "fmhD1UdlmyZv"
      }
    },
    {
      "cell_type": "code",
      "source": [
        "string1 = 'hello, world'\n",
        "string2 = 'hello, world'\n",
        "\n",
        "type(string1) == type(string2)"
      ],
      "metadata": {
        "colab": {
          "base_uri": "https://localhost:8080/"
        },
        "id": "9Mz6bo69nJWT",
        "outputId": "25bde3a1-9e7c-4f7c-82e9-cb1752dbba8c"
      },
      "execution_count": null,
      "outputs": [
        {
          "output_type": "execute_result",
          "data": {
            "text/plain": [
              "True"
            ]
          },
          "metadata": {},
          "execution_count": 38
        }
      ]
    },
    {
      "cell_type": "code",
      "source": [
        "type(string1) is type(string2)"
      ],
      "metadata": {
        "colab": {
          "base_uri": "https://localhost:8080/"
        },
        "id": "cZdux_utnUKf",
        "outputId": "e0f79b67-9721-4cf6-d91b-d23480805bf7"
      },
      "execution_count": null,
      "outputs": [
        {
          "output_type": "execute_result",
          "data": {
            "text/plain": [
              "True"
            ]
          },
          "metadata": {},
          "execution_count": 36
        }
      ]
    },
    {
      "cell_type": "code",
      "source": [
        "type(string1) is not type(string2)"
      ],
      "metadata": {
        "colab": {
          "base_uri": "https://localhost:8080/"
        },
        "id": "XXgddbA4nedq",
        "outputId": "91cbe768-c650-4f1d-ffcb-506555214f03"
      },
      "execution_count": null,
      "outputs": [
        {
          "output_type": "execute_result",
          "data": {
            "text/plain": [
              "False"
            ]
          },
          "metadata": {},
          "execution_count": 37
        }
      ]
    },
    {
      "cell_type": "markdown",
      "source": [
        "**OPERADORES DE ASSOCIAÇÃO**\n",
        "\n",
        "Os operadores de associação são usados para testar se uma sequência é apresentada em um objeto:\n",
        "\n",
        "\n",
        "\n",
        "1.   in (retorna true se uma sequência com o valor especificado estiver presente no objeto);\n",
        "2.   not in (retorna true se uma sequência com o valor especifico não estiver presente no objeto)."
      ],
      "metadata": {
        "id": "NRYkkwovniri"
      }
    },
    {
      "cell_type": "code",
      "source": [
        "listaMusicas = ['Julho','Alinhamento Milenar','Idiota']\n",
        "\n",
        "'Pilantra' in listaMusicas"
      ],
      "metadata": {
        "colab": {
          "base_uri": "https://localhost:8080/"
        },
        "id": "ji5IJgudn7Xc",
        "outputId": "81430ca3-11e6-43e3-86bc-116900b68c43"
      },
      "execution_count": null,
      "outputs": [
        {
          "output_type": "execute_result",
          "data": {
            "text/plain": [
              "False"
            ]
          },
          "metadata": {},
          "execution_count": 40
        }
      ]
    },
    {
      "cell_type": "code",
      "source": [
        "listaMusicas = ['Julho','Alinhamento Milenar','Idiota']\n",
        "\n",
        "'Pilantra' not in listaMusicas"
      ],
      "metadata": {
        "colab": {
          "base_uri": "https://localhost:8080/"
        },
        "id": "xjDX889HoVyn",
        "outputId": "6e7052c8-9af1-4fd2-8a1f-5f9bf3b3fed8"
      },
      "execution_count": null,
      "outputs": [
        {
          "output_type": "execute_result",
          "data": {
            "text/plain": [
              "True"
            ]
          },
          "metadata": {},
          "execution_count": 41
        }
      ]
    },
    {
      "cell_type": "markdown",
      "source": [
        "**MANIPULANDO LISTAS**\n",
        "\n",
        "As listas são usadas para armazenar vários itens em uma única variável. As listas são um dos 4 tipos de dados internos do python usados para armazenar coleções de dados, os outros 3 são tuple, set e dictionary. Todos com qualidades e usos diferentes.\n",
        "\n",
        "Comandos mais utilizados:\n",
        "\n",
        "1.   append() (para adicionar um item ao final da lista)\n",
        "2.   len() (calcular o tamanho da lista)  \n",
        "3.   [] (colchetes - acessar posições)\n",
        "4.   del() (excluir um elemento)\n",
        "5.   clear() (limpar a lista)\n",
        "6.   insert() (para inserir um item de lista em um índice especificado)\n",
        "7.   extend() (anexar elemementos de outra lista à lista atual)\n",
        "8.   remove() (remove o item especificado)\n",
        "9.   pop() (remove o índice especificado)\n",
        "10.  sort() (ordenar os valores)\n",
        "11.  copy() (faz uma cópia da lista)\n",
        "12.  index() (retorna o index do elemento da lista)"
      ],
      "metadata": {
        "id": "W_D400esoZte"
      }
    },
    {
      "cell_type": "code",
      "source": [
        "# APPEND\n",
        "listaVazia = []\n",
        "print(listaVazia)"
      ],
      "metadata": {
        "colab": {
          "base_uri": "https://localhost:8080/"
        },
        "id": "g4WqSYJQszW7",
        "outputId": "291321f1-05a0-4534-a652-76fb9f18ab21"
      },
      "execution_count": null,
      "outputs": [
        {
          "output_type": "stream",
          "name": "stdout",
          "text": [
            "[]\n"
          ]
        }
      ]
    },
    {
      "cell_type": "code",
      "source": [
        "listaVazia.append(1) # ele insere de maneira em que os elementos vão empilhando\n",
        "listaVazia.append(2)\n",
        "listaVazia.append(3)\n",
        "\n",
        "print(listaVazia)"
      ],
      "metadata": {
        "colab": {
          "base_uri": "https://localhost:8080/"
        },
        "id": "HxBJa0IitTCy",
        "outputId": "3b1af741-dbd0-463c-e361-af1a768d5d66"
      },
      "execution_count": null,
      "outputs": [
        {
          "output_type": "stream",
          "name": "stdout",
          "text": [
            "[1, 2, 3]\n"
          ]
        }
      ]
    },
    {
      "cell_type": "code",
      "source": [
        "# LEN\n",
        "len(listaVazia)"
      ],
      "metadata": {
        "colab": {
          "base_uri": "https://localhost:8080/"
        },
        "id": "O9rdbT8ftHjf",
        "outputId": "7a3685a8-2769-478f-b166-2a59ea17f2db"
      },
      "execution_count": null,
      "outputs": [
        {
          "output_type": "execute_result",
          "data": {
            "text/plain": [
              "3"
            ]
          },
          "metadata": {},
          "execution_count": 66
        }
      ]
    },
    {
      "cell_type": "code",
      "source": [
        "# []\n",
        "listaVazia[2]\n",
        "listaVazia[0:2]"
      ],
      "metadata": {
        "colab": {
          "base_uri": "https://localhost:8080/"
        },
        "id": "sjlDL1CdtIa6",
        "outputId": "c6d6b844-4f09-41a4-9647-979e149549bf"
      },
      "execution_count": null,
      "outputs": [
        {
          "output_type": "execute_result",
          "data": {
            "text/plain": [
              "[1, 2]"
            ]
          },
          "metadata": {},
          "execution_count": 67
        }
      ]
    },
    {
      "cell_type": "code",
      "source": [
        "# DEL\n",
        "del(listaVazia)\n",
        "\n",
        "print(listaVazia) # deletada"
      ],
      "metadata": {
        "id": "X1Y_NbbUtJgJ"
      },
      "execution_count": null,
      "outputs": []
    },
    {
      "cell_type": "code",
      "source": [
        "# CLEAR\n",
        "listaVazia.clear()\n",
        "\n",
        "print(listaVazia)"
      ],
      "metadata": {
        "colab": {
          "base_uri": "https://localhost:8080/"
        },
        "id": "opJ7euBWtKvH",
        "outputId": "35e230e6-d64f-4696-f021-62b8874c4120"
      },
      "execution_count": null,
      "outputs": [
        {
          "output_type": "stream",
          "name": "stdout",
          "text": [
            "[]\n"
          ]
        }
      ]
    },
    {
      "cell_type": "code",
      "source": [
        "# INSERT: pode definir a posição do elemento que você vai inserir\n",
        "listaVazia.insert(0, 10)\n",
        "print(listaVazia)"
      ],
      "metadata": {
        "colab": {
          "base_uri": "https://localhost:8080/"
        },
        "id": "akJKrn0ztLsB",
        "outputId": "f21f1f60-5b01-425e-ad93-b5a42ed20884"
      },
      "execution_count": null,
      "outputs": [
        {
          "output_type": "stream",
          "name": "stdout",
          "text": [
            "[10, 1, 2, 3]\n"
          ]
        }
      ]
    },
    {
      "cell_type": "code",
      "source": [
        "# EXTEND: ele adiciona uma lista à outra\n",
        "lista1 = [1,2,3]\n",
        "lista2 = [4,5,6]\n",
        "\n",
        "lista1.extend(lista2)\n",
        "print(lista1)"
      ],
      "metadata": {
        "colab": {
          "base_uri": "https://localhost:8080/"
        },
        "id": "zJzNhk05tMlB",
        "outputId": "9144684d-c324-400a-eff0-00ed38ab74d8"
      },
      "execution_count": null,
      "outputs": [
        {
          "output_type": "stream",
          "name": "stdout",
          "text": [
            "[1, 2, 3, 4, 5, 6]\n"
          ]
        }
      ]
    },
    {
      "cell_type": "code",
      "source": [
        "# REMOVE: remove o elemento especificado pelo valor\n",
        "lista1.remove(5)\n",
        "print(lista1)"
      ],
      "metadata": {
        "colab": {
          "base_uri": "https://localhost:8080/"
        },
        "id": "yIScnaYHt3Bh",
        "outputId": "f5c63b27-3ade-44ed-f90b-17ec113aa3da"
      },
      "execution_count": null,
      "outputs": [
        {
          "output_type": "stream",
          "name": "stdout",
          "text": [
            "[1, 2, 3, 4, 6]\n"
          ]
        }
      ]
    },
    {
      "cell_type": "code",
      "source": [
        "# POP: remove o elemento especificado pela posição\n",
        "lista1.pop(4)\n",
        "print(lista1)"
      ],
      "metadata": {
        "colab": {
          "base_uri": "https://localhost:8080/"
        },
        "id": "9jz8g1VRurnp",
        "outputId": "e44b8162-6a31-407d-9e1d-9540926967c1"
      },
      "execution_count": null,
      "outputs": [
        {
          "output_type": "stream",
          "name": "stdout",
          "text": [
            "[1, 2, 3, 4]\n"
          ]
        }
      ]
    },
    {
      "cell_type": "code",
      "source": [
        "# SORT\n",
        "listaAbc = ['a','z','b','f','c']\n",
        "listaAbc.sort()\n",
        "\n",
        "print(listaAbc)\n",
        "\n",
        "# pode ser ordem reversa\n",
        "\n",
        "listaAbc.sort(reverse=True)\n",
        "print(listaAbc)"
      ],
      "metadata": {
        "colab": {
          "base_uri": "https://localhost:8080/"
        },
        "id": "qx1T2YNcvR8a",
        "outputId": "b64fda1d-626f-484f-ae1c-e8caab400da4"
      },
      "execution_count": null,
      "outputs": [
        {
          "output_type": "stream",
          "name": "stdout",
          "text": [
            "['a', 'b', 'c', 'f', 'z']\n",
            "['z', 'f', 'c', 'b', 'a']\n"
          ]
        }
      ]
    },
    {
      "cell_type": "code",
      "source": [
        "# COPY\n",
        "listaNova = listaAbc.copy()\n",
        "print(listaNova)"
      ],
      "metadata": {
        "colab": {
          "base_uri": "https://localhost:8080/"
        },
        "id": "rCjTAbsQvUSX",
        "outputId": "a7f44d4a-cdf4-4b69-950e-ed172dcff938"
      },
      "execution_count": null,
      "outputs": [
        {
          "output_type": "stream",
          "name": "stdout",
          "text": [
            "['z', 'f', 'c', 'b', 'a']\n"
          ]
        }
      ]
    },
    {
      "cell_type": "code",
      "source": [
        "# INDEX\n",
        "listaNova.index('a')"
      ],
      "metadata": {
        "colab": {
          "base_uri": "https://localhost:8080/"
        },
        "id": "8lRHc_3AvVvY",
        "outputId": "528640a1-42cf-44fa-82aa-2aa35cbc5147"
      },
      "execution_count": null,
      "outputs": [
        {
          "output_type": "execute_result",
          "data": {
            "text/plain": [
              "4"
            ]
          },
          "metadata": {},
          "execution_count": 85
        }
      ]
    },
    {
      "cell_type": "markdown",
      "source": [
        "**PACOTES EXTERNOS - FUNÇÕES PRONTAS**"
      ],
      "metadata": {
        "id": "5tTrmJP0wHC1"
      }
    },
    {
      "cell_type": "markdown",
      "source": [
        "**PACOTE DATETIME**\n",
        "\n",
        "O datetime fornece classes para a manipulação de datas e horas."
      ],
      "metadata": {
        "id": "qOueHqGYwLS_"
      }
    },
    {
      "cell_type": "code",
      "source": [
        "type('2023-12-01')"
      ],
      "metadata": {
        "colab": {
          "base_uri": "https://localhost:8080/"
        },
        "id": "_ryA7dP6wY-W",
        "outputId": "4ed6923f-9bcb-48f6-96b3-921b884f27a8"
      },
      "execution_count": null,
      "outputs": [
        {
          "output_type": "execute_result",
          "data": {
            "text/plain": [
              "str"
            ]
          },
          "metadata": {},
          "execution_count": 2
        }
      ]
    },
    {
      "cell_type": "code",
      "source": [
        "import datetime"
      ],
      "metadata": {
        "id": "xBWcfZXtv2t1"
      },
      "execution_count": null,
      "outputs": []
    },
    {
      "cell_type": "code",
      "source": [
        "diaAtual = datetime.datetime.today() # pacote.função.função\n",
        "print(diaAtual)"
      ],
      "metadata": {
        "colab": {
          "base_uri": "https://localhost:8080/"
        },
        "id": "WACZ97nbv5ye",
        "outputId": "744b8bd8-73f6-4cc7-f0b7-09d06b10fe8c"
      },
      "execution_count": null,
      "outputs": [
        {
          "output_type": "stream",
          "name": "stdout",
          "text": [
            "2023-12-01 23:39:37.502026\n"
          ]
        }
      ]
    },
    {
      "cell_type": "code",
      "source": [
        "type(diaAtual)"
      ],
      "metadata": {
        "colab": {
          "base_uri": "https://localhost:8080/"
        },
        "id": "qXrdu0nOwA4m",
        "outputId": "cb4b5502-6614-4fa6-f6e3-180709e93000"
      },
      "execution_count": null,
      "outputs": [
        {
          "output_type": "execute_result",
          "data": {
            "text/plain": [
              "datetime.datetime"
            ]
          },
          "metadata": {},
          "execution_count": 7
        }
      ]
    },
    {
      "cell_type": "code",
      "source": [
        "print(datetime.datetime.today().date())"
      ],
      "metadata": {
        "colab": {
          "base_uri": "https://localhost:8080/"
        },
        "id": "zz4hhOMmwBE0",
        "outputId": "f377ed2e-3fa2-4dd0-a353-e36845ebc3db"
      },
      "execution_count": null,
      "outputs": [
        {
          "output_type": "stream",
          "name": "stdout",
          "text": [
            "2023-12-01\n"
          ]
        }
      ]
    },
    {
      "cell_type": "code",
      "source": [
        "data = datetime.datetime.today().date()\n",
        "ano = data.year\n",
        "mes = data.month\n",
        "dia = data.day\n",
        "\n",
        "print(ano,'/',mes,'/', dia)"
      ],
      "metadata": {
        "colab": {
          "base_uri": "https://localhost:8080/"
        },
        "id": "0EkQSwgNwBLf",
        "outputId": "93d24c08-4017-4995-9cac-052f3889f068"
      },
      "execution_count": null,
      "outputs": [
        {
          "output_type": "stream",
          "name": "stdout",
          "text": [
            "2023 / 12 / 1\n"
          ]
        }
      ]
    },
    {
      "cell_type": "code",
      "source": [
        "dataAntiga = datetime.date(2022,1,1)\n",
        "print(dataAntiga)"
      ],
      "metadata": {
        "colab": {
          "base_uri": "https://localhost:8080/"
        },
        "id": "adHZ6WpqwvqL",
        "outputId": "ab325c10-dae9-4c47-d7e2-9a3a51be3d38"
      },
      "execution_count": null,
      "outputs": [
        {
          "output_type": "stream",
          "name": "stdout",
          "text": [
            "2022-01-01\n"
          ]
        }
      ]
    },
    {
      "cell_type": "code",
      "source": [
        "print(data - dataAntiga)"
      ],
      "metadata": {
        "colab": {
          "base_uri": "https://localhost:8080/"
        },
        "id": "QZ06hzaNw2OD",
        "outputId": "acb36153-af07-4d67-d12f-5b7cc5134fe0"
      },
      "execution_count": null,
      "outputs": [
        {
          "output_type": "stream",
          "name": "stdout",
          "text": [
            "699 days, 0:00:00\n"
          ]
        }
      ]
    },
    {
      "cell_type": "code",
      "source": [
        "data.strftime('%d/%m/%y')"
      ],
      "metadata": {
        "colab": {
          "base_uri": "https://localhost:8080/",
          "height": 35
        },
        "id": "nh0sVwCvxcey",
        "outputId": "6010bfba-47ab-469c-d25b-cc5f87353003"
      },
      "execution_count": null,
      "outputs": [
        {
          "output_type": "execute_result",
          "data": {
            "text/plain": [
              "'01/12/23'"
            ],
            "application/vnd.google.colaboratory.intrinsic+json": {
              "type": "string"
            }
          },
          "metadata": {},
          "execution_count": 19
        }
      ]
    },
    {
      "cell_type": "code",
      "source": [
        "data + datetime.timedelta(days=30) # somar a data mais 30 dias"
      ],
      "metadata": {
        "colab": {
          "base_uri": "https://localhost:8080/"
        },
        "id": "f6K3eMmwx6LY",
        "outputId": "6e1a7437-8e1e-400b-cb3e-aa7c2a6d42e4"
      },
      "execution_count": null,
      "outputs": [
        {
          "output_type": "execute_result",
          "data": {
            "text/plain": [
              "datetime.date(2023, 12, 31)"
            ]
          },
          "metadata": {},
          "execution_count": 20
        }
      ]
    },
    {
      "cell_type": "markdown",
      "source": [
        "**PACOTE TIME**\n",
        "\n",
        "Funções relacionados ao tempo."
      ],
      "metadata": {
        "id": "jsYdXCWuwNyX"
      }
    },
    {
      "cell_type": "code",
      "source": [
        "import time"
      ],
      "metadata": {
        "id": "_8-RuxljyKAK"
      },
      "execution_count": null,
      "outputs": []
    },
    {
      "cell_type": "code",
      "source": [
        "print('Comecei agora..')\n",
        "time.sleep(3)\n",
        "print('Terminei')"
      ],
      "metadata": {
        "colab": {
          "base_uri": "https://localhost:8080/"
        },
        "id": "PHUBBztRyOUP",
        "outputId": "793a5174-d53b-4803-e2e8-dee44039a9d4"
      },
      "execution_count": null,
      "outputs": [
        {
          "output_type": "stream",
          "name": "stdout",
          "text": [
            "Comecei agora..\n",
            "Terminei\n"
          ]
        }
      ]
    },
    {
      "cell_type": "code",
      "source": [
        "agora = time.localtime() # tipo: time.struct_time\n",
        "print(agora)\n",
        "print(type(agora))"
      ],
      "metadata": {
        "colab": {
          "base_uri": "https://localhost:8080/"
        },
        "id": "LtErqbC0ycN0",
        "outputId": "b828469a-18b6-4925-e297-336cd3553cb2"
      },
      "execution_count": null,
      "outputs": [
        {
          "output_type": "stream",
          "name": "stdout",
          "text": [
            "time.struct_time(tm_year=2023, tm_mon=12, tm_mday=1, tm_hour=23, tm_min=50, tm_sec=21, tm_wday=4, tm_yday=335, tm_isdst=0)\n",
            "<class 'time.struct_time'>\n"
          ]
        }
      ]
    },
    {
      "cell_type": "code",
      "source": [
        "time.strftime('%m/%d/%y, %H:%M:%S', agora)"
      ],
      "metadata": {
        "colab": {
          "base_uri": "https://localhost:8080/",
          "height": 35
        },
        "id": "ncP8Qryyymxi",
        "outputId": "118f5af4-e0f4-4e9d-f5f8-d3dc526201e5"
      },
      "execution_count": null,
      "outputs": [
        {
          "output_type": "execute_result",
          "data": {
            "text/plain": [
              "'12/01/23, 23:50:21'"
            ],
            "application/vnd.google.colaboratory.intrinsic+json": {
              "type": "string"
            }
          },
          "metadata": {},
          "execution_count": 29
        }
      ]
    },
    {
      "cell_type": "code",
      "source": [
        "dataString = '21 June, 2021'\n",
        "time.strptime(dataString, '%d %B, %Y') # B é configuração da documentação"
      ],
      "metadata": {
        "colab": {
          "base_uri": "https://localhost:8080/"
        },
        "id": "iDPfmkJFy5Nm",
        "outputId": "bf3fd475-d2e9-418e-f293-272ae7006574"
      },
      "execution_count": null,
      "outputs": [
        {
          "output_type": "execute_result",
          "data": {
            "text/plain": [
              "time.struct_time(tm_year=2021, tm_mon=6, tm_mday=21, tm_hour=0, tm_min=0, tm_sec=0, tm_wday=0, tm_yday=172, tm_isdst=-1)"
            ]
          },
          "metadata": {},
          "execution_count": 35
        }
      ]
    },
    {
      "cell_type": "markdown",
      "source": [
        "**PACOTE MATH**\n",
        "\n",
        "O python possui um conjunto de funções matemáticas integradas, incluindo um extenso módulo matemático, que permite realizar tarefas matemáticas em números."
      ],
      "metadata": {
        "id": "AzcJyCxpz9K4"
      }
    },
    {
      "cell_type": "code",
      "source": [
        "import math"
      ],
      "metadata": {
        "id": "rTpYQH0E6RjZ"
      },
      "execution_count": null,
      "outputs": []
    },
    {
      "cell_type": "code",
      "source": [
        "tupla = (1,2,3,4,5,6)\n",
        "\n",
        "print(min(tupla)) # menor valor encontrado na tupla\n",
        "print(max(tupla)) # maior valor encontrado na tupla"
      ],
      "metadata": {
        "colab": {
          "base_uri": "https://localhost:8080/"
        },
        "id": "QLcDk3VA6VwT",
        "outputId": "3015bab0-dcb2-4cf8-ee2d-976e44ee4c25"
      },
      "execution_count": null,
      "outputs": [
        {
          "output_type": "stream",
          "name": "stdout",
          "text": [
            "1\n",
            "6\n"
          ]
        }
      ]
    },
    {
      "cell_type": "code",
      "source": [
        "abs(-7.25) # converte o valor para o positivo"
      ],
      "metadata": {
        "colab": {
          "base_uri": "https://localhost:8080/"
        },
        "id": "dmPYf0zt6g5x",
        "outputId": "51e073bc-d26e-466d-c4f6-3869dc13eddb"
      },
      "execution_count": null,
      "outputs": [
        {
          "output_type": "execute_result",
          "data": {
            "text/plain": [
              "7.25"
            ]
          },
          "metadata": {},
          "execution_count": 43
        }
      ]
    },
    {
      "cell_type": "code",
      "source": [
        "pow(3,4) # faz o cálculo da potência do primeiro parâmetro pelo segundo valor = 3 * 3 * 3 * 3"
      ],
      "metadata": {
        "colab": {
          "base_uri": "https://localhost:8080/"
        },
        "id": "hJG-bRzl6oIR",
        "outputId": "8b1b56a9-0409-4ede-9634-801f12303f1b"
      },
      "execution_count": null,
      "outputs": [
        {
          "output_type": "execute_result",
          "data": {
            "text/plain": [
              "81"
            ]
          },
          "metadata": {},
          "execution_count": 45
        }
      ]
    },
    {
      "cell_type": "code",
      "source": [
        "math.sqrt(81) # retorna o valor da raiz quadrado do valor passado como parâmetro"
      ],
      "metadata": {
        "colab": {
          "base_uri": "https://localhost:8080/"
        },
        "id": "_7FuSSMX6xjY",
        "outputId": "4a186c21-fce1-4fc4-a727-12b5b66d8f6a"
      },
      "execution_count": null,
      "outputs": [
        {
          "output_type": "execute_result",
          "data": {
            "text/plain": [
              "9.0"
            ]
          },
          "metadata": {},
          "execution_count": 47
        }
      ]
    },
    {
      "cell_type": "code",
      "source": [
        "math.ceil(1.4) # ele arredonda o valor para cima até o número inteiro mais próximo"
      ],
      "metadata": {
        "colab": {
          "base_uri": "https://localhost:8080/"
        },
        "id": "GkC11_um6_EJ",
        "outputId": "5f964b9d-f7e5-430b-b54f-c1dbd3275e93"
      },
      "execution_count": null,
      "outputs": [
        {
          "output_type": "execute_result",
          "data": {
            "text/plain": [
              "2"
            ]
          },
          "metadata": {},
          "execution_count": 48
        }
      ]
    },
    {
      "cell_type": "code",
      "source": [
        "math.floor(1.4) # ele arredonda o valor para baixo até o número inteiro mais próximo"
      ],
      "metadata": {
        "colab": {
          "base_uri": "https://localhost:8080/"
        },
        "id": "Svjr6FvA7E0V",
        "outputId": "d76feb04-2a3c-4afd-9f59-1b38e83a0905"
      },
      "execution_count": null,
      "outputs": [
        {
          "output_type": "execute_result",
          "data": {
            "text/plain": [
              "1"
            ]
          },
          "metadata": {},
          "execution_count": 50
        }
      ]
    },
    {
      "cell_type": "code",
      "source": [
        "math.pi # retorna o valor de PI"
      ],
      "metadata": {
        "colab": {
          "base_uri": "https://localhost:8080/"
        },
        "id": "B0cBouIv7KBP",
        "outputId": "38ba9bb5-4acc-4d5d-c010-0540efc96e9a"
      },
      "execution_count": null,
      "outputs": [
        {
          "output_type": "execute_result",
          "data": {
            "text/plain": [
              "3.141592653589793"
            ]
          },
          "metadata": {},
          "execution_count": 51
        }
      ]
    },
    {
      "cell_type": "markdown",
      "source": [
        "**PACOTE RANDOM**\n",
        "\n",
        "Este módulo implementa geradores de números pseudo-aleatórios para várias distribuições.\n"
      ],
      "metadata": {
        "id": "Mq1HLNLC7WAK"
      }
    },
    {
      "cell_type": "code",
      "source": [
        "import random"
      ],
      "metadata": {
        "id": "wsYXSg89RhWx"
      },
      "execution_count": null,
      "outputs": []
    },
    {
      "cell_type": "code",
      "source": [
        "lista = [1,2,3,4,5,6,7,8,9,10]\n",
        "\n",
        "random.choice(lista)"
      ],
      "metadata": {
        "colab": {
          "base_uri": "https://localhost:8080/"
        },
        "id": "nUsDDVa-RMwa",
        "outputId": "3a5f3002-7882-49b3-c7fd-e2db8e02f2f3"
      },
      "execution_count": null,
      "outputs": [
        {
          "output_type": "execute_result",
          "data": {
            "text/plain": [
              "2"
            ]
          },
          "metadata": {},
          "execution_count": 4
        }
      ]
    },
    {
      "cell_type": "code",
      "source": [
        "random.random() # gera número aleatório entre 0 e 1"
      ],
      "metadata": {
        "colab": {
          "base_uri": "https://localhost:8080/"
        },
        "id": "IMVmimSKRvu1",
        "outputId": "d5e27c46-a046-4be3-a8eb-ae1535cbc359"
      },
      "execution_count": null,
      "outputs": [
        {
          "output_type": "execute_result",
          "data": {
            "text/plain": [
              "0.7007758694904803"
            ]
          },
          "metadata": {},
          "execution_count": 8
        }
      ]
    },
    {
      "cell_type": "code",
      "source": [
        "random.randint(0, 1000) # gera número aleatório entre o primeiro e o segundo valor passado por parâmetro"
      ],
      "metadata": {
        "colab": {
          "base_uri": "https://localhost:8080/"
        },
        "id": "_KRAgL8hR0fj",
        "outputId": "ba757e98-9cd3-431e-a77d-7f76e9ff31e2"
      },
      "execution_count": null,
      "outputs": [
        {
          "output_type": "execute_result",
          "data": {
            "text/plain": [
              "992"
            ]
          },
          "metadata": {},
          "execution_count": 10
        }
      ]
    },
    {
      "cell_type": "markdown",
      "source": [
        "**PACOTE STATISTICS**\n",
        "\n",
        "Este módulo fornece funções para calcular estatísticas matemáticas de dados numéricos e interage com as listas."
      ],
      "metadata": {
        "id": "uuF33s_QSAM4"
      }
    },
    {
      "cell_type": "code",
      "source": [
        "import statistics"
      ],
      "metadata": {
        "id": "K3kKcbItSIKU"
      },
      "execution_count": null,
      "outputs": []
    },
    {
      "cell_type": "code",
      "source": [
        "lista = [12,15,28,78,78,80]"
      ],
      "metadata": {
        "id": "7e7NKgkbSKPj"
      },
      "execution_count": null,
      "outputs": []
    },
    {
      "cell_type": "code",
      "source": [
        "sum(lista)/len(lista) # forma mais difícil de fazer a média"
      ],
      "metadata": {
        "colab": {
          "base_uri": "https://localhost:8080/"
        },
        "id": "gSKi8VXASN8Z",
        "outputId": "94aab773-8f10-48f4-adb0-f72d7d4800f0"
      },
      "execution_count": null,
      "outputs": [
        {
          "output_type": "execute_result",
          "data": {
            "text/plain": [
              "48.5"
            ]
          },
          "metadata": {},
          "execution_count": 20
        }
      ]
    },
    {
      "cell_type": "code",
      "source": [
        "statistics.mean(lista) # faz a média automaticamente"
      ],
      "metadata": {
        "colab": {
          "base_uri": "https://localhost:8080/"
        },
        "id": "bIwpWUw6SVro",
        "outputId": "c4a5d616-94b4-4239-9c2c-f3020d3cb5d2"
      },
      "execution_count": null,
      "outputs": [
        {
          "output_type": "execute_result",
          "data": {
            "text/plain": [
              "48.5"
            ]
          },
          "metadata": {},
          "execution_count": 21
        }
      ]
    },
    {
      "cell_type": "code",
      "source": [
        "statistics.median(lista) # faz a mediana automaticamente"
      ],
      "metadata": {
        "colab": {
          "base_uri": "https://localhost:8080/"
        },
        "id": "Z6PJrDpmSfhW",
        "outputId": "24283241-7c03-4dc9-81b8-e6c58c86ea78"
      },
      "execution_count": null,
      "outputs": [
        {
          "output_type": "execute_result",
          "data": {
            "text/plain": [
              "53.0"
            ]
          },
          "metadata": {},
          "execution_count": 22
        }
      ]
    },
    {
      "cell_type": "code",
      "source": [
        "statistics.mode(lista) # faz a moda automaticamente"
      ],
      "metadata": {
        "colab": {
          "base_uri": "https://localhost:8080/"
        },
        "id": "iNwQr51gSl-W",
        "outputId": "45c34fac-25d0-4170-cef3-c44986d4408c"
      },
      "execution_count": null,
      "outputs": [
        {
          "output_type": "execute_result",
          "data": {
            "text/plain": [
              "78"
            ]
          },
          "metadata": {},
          "execution_count": 23
        }
      ]
    },
    {
      "cell_type": "markdown",
      "source": [
        "**CONDIÇÃO IF**\n",
        "\n",
        "IF é a declaração mais simples de tomada de decisão. Ele é usado para decidir se uma determinada instrução ou bloco de instruções será executado ou não, ou seja, se uma determinada condição for verdadeira, um bloco será executado, caso contrário, não.\n",
        "\n",
        "IF CONDIÇÃO:\n",
        "\n",
        "*   declarações a serem executadas SE;\n",
        "*   condição é verdadeira."
      ],
      "metadata": {
        "id": "rby7pOb2Sxaz"
      }
    },
    {
      "cell_type": "code",
      "source": [
        "# condição se a pessoa tiver menos de 18 anos, ela entra no sistema\n",
        "idade = 15\n",
        "\n",
        "if idade >= 18:\n",
        "  print('você é maior de idade! :)')"
      ],
      "metadata": {
        "colab": {
          "base_uri": "https://localhost:8080/"
        },
        "id": "UGnV1CXwTMSK",
        "outputId": "3e0c3fab-3a74-4bb6-f9ef-bf34a43da8e3"
      },
      "execution_count": null,
      "outputs": [
        {
          "output_type": "stream",
          "name": "stdout",
          "text": [
            "você é menor de idade! :(\n"
          ]
        }
      ]
    },
    {
      "cell_type": "code",
      "source": [
        "# condição se a pessoa tiver menos de 18 anos, ela entra no sistema, se não, não entra\n",
        "idade = 15\n",
        "\n",
        "if idade >= 18:\n",
        "  print('você é maior de idade! :)')\n",
        "else:\n",
        "  print('você é menor de idade! :(')"
      ],
      "metadata": {
        "id": "UA6Tqg8STxs8"
      },
      "execution_count": null,
      "outputs": []
    },
    {
      "cell_type": "code",
      "source": [
        "# condição que valida se a pessoa tiver menor de 18, ou maior, ou entre tais idades\n",
        "idade = 15\n",
        "\n",
        "if idade >= 18:\n",
        "  print('você é maior de idade! :)')\n",
        "elif idade >=15 and idade <= 17:\n",
        "  print('Seu pai ou mãe pode autorizar!')\n",
        "else:\n",
        "  print('você é muito novo! :(')"
      ],
      "metadata": {
        "colab": {
          "base_uri": "https://localhost:8080/"
        },
        "id": "_heuOdE6T131",
        "outputId": "4fd595a4-74a2-48a6-b5ff-ca5e82bff361"
      },
      "execution_count": null,
      "outputs": [
        {
          "output_type": "stream",
          "name": "stdout",
          "text": [
            "Seu pai ou mãe pode autorizar!\n"
          ]
        }
      ]
    },
    {
      "cell_type": "markdown",
      "source": [
        "**LAÇO FOR**\n",
        "O loop FOR do python é usado para travessia sequencial, ou seja, é usado para iterar sobre um iterável como string, tupl,a lista, etc. Ele se enquadra na categoria de iteração definida. Iterações definidas significam que o número de repetições é especificado explicitamente com antecedência.\n",
        "\n",
        "for variável in objeto:\n",
        "*   loop"
      ],
      "metadata": {
        "id": "qSiO9uW3UvWL"
      }
    },
    {
      "cell_type": "code",
      "source": [
        "for x in range(10): # 0 à 9 = 10 valores\n",
        "  print(x, end = ' ') # 'end = ' utilizado para que o script não pule para a próxima linha automaticamente"
      ],
      "metadata": {
        "id": "n3OcJZ7FVFoA",
        "colab": {
          "base_uri": "https://localhost:8080/"
        },
        "outputId": "b6809216-5a57-4a10-b09d-881714c0b884"
      },
      "execution_count": null,
      "outputs": [
        {
          "output_type": "stream",
          "name": "stdout",
          "text": [
            "0 1 2 3 4 5 6 7 8 9 "
          ]
        }
      ]
    },
    {
      "cell_type": "code",
      "source": [
        "for x in range(1, 50, 2): # de 1 à 50, pulando de 2 em 2\n",
        "  print(x, end = ' ') # 'end = ' utilizado para que o script não pule para a próxima linha automaticamente"
      ],
      "metadata": {
        "colab": {
          "base_uri": "https://localhost:8080/"
        },
        "id": "ehKvCwNKEL7i",
        "outputId": "ff0d0f9e-756a-4d75-c127-6520d446c6bf"
      },
      "execution_count": null,
      "outputs": [
        {
          "output_type": "stream",
          "name": "stdout",
          "text": [
            "1 3 5 7 9 11 13 15 17 19 21 23 25 27 29 31 33 35 37 39 41 43 45 47 49 "
          ]
        }
      ]
    },
    {
      "cell_type": "code",
      "source": [
        "lista = ['Brasil', 'Argentina','Uruguai','Paraguai']\n",
        "\n",
        "for x in lista:\n",
        "  print(x, end = ', ') # o for percorre todos os registros da lista\n",
        "\n",
        "print('\\n')\n",
        "\n",
        "for sigla in lista:\n",
        "  print(sigla[0:3].upper(), end=' ') # percorre a lista pegando apenas as 3 primeiras letras de cada registro"
      ],
      "metadata": {
        "colab": {
          "base_uri": "https://localhost:8080/"
        },
        "id": "pcIlmuQUEyAm",
        "outputId": "30099196-22de-4b3e-d91b-7030edbfccee"
      },
      "execution_count": null,
      "outputs": [
        {
          "output_type": "stream",
          "name": "stdout",
          "text": [
            "Brasil, Argentina, Uruguai, Paraguai, \n",
            "\n",
            "BRA ARG URU PAR "
          ]
        }
      ]
    },
    {
      "cell_type": "code",
      "source": [
        "# forma menos iterativa\n",
        "for x in lista:\n",
        "  if x == 'Uruguai':\n",
        "    print('Bi campeão da copa do mundo!')"
      ],
      "metadata": {
        "colab": {
          "base_uri": "https://localhost:8080/"
        },
        "id": "a9IMTEgXFEdz",
        "outputId": "616860fa-acdd-4df6-b158-36c2af74aba5"
      },
      "execution_count": null,
      "outputs": [
        {
          "output_type": "stream",
          "name": "stdout",
          "text": [
            "Bi campeão da copa do mundo!\n"
          ]
        }
      ]
    },
    {
      "cell_type": "code",
      "source": [
        "# forma mais iterativa\n",
        "for x in range(len(lista)):\n",
        "  print(lista[x], end=' ')"
      ],
      "metadata": {
        "colab": {
          "base_uri": "https://localhost:8080/"
        },
        "id": "XTxiSS-ZFmsu",
        "outputId": "f8bc437d-d48e-4ef2-e991-c0e0cc796c21"
      },
      "execution_count": null,
      "outputs": [
        {
          "output_type": "stream",
          "name": "stdout",
          "text": [
            "Brasil Argentina Uruguai Paraguai "
          ]
        }
      ]
    },
    {
      "cell_type": "code",
      "source": [
        "for index, x in enumerate(lista): # enumerando itens da lista\n",
        "  print(index, x)"
      ],
      "metadata": {
        "colab": {
          "base_uri": "https://localhost:8080/"
        },
        "id": "ea6P6BlMGEIn",
        "outputId": "613bbde3-ec6a-427a-b049-ea6a857eeead"
      },
      "execution_count": null,
      "outputs": [
        {
          "output_type": "stream",
          "name": "stdout",
          "text": [
            "0 Brasil\n",
            "1 Argentina\n",
            "2 Uruguai\n",
            "3 Paraguai\n"
          ]
        }
      ]
    },
    {
      "cell_type": "code",
      "source": [
        "# ou\n",
        "y = 0\n",
        "\n",
        "for x in lista:\n",
        "  print(y, x)\n",
        "  y += 1"
      ],
      "metadata": {
        "colab": {
          "base_uri": "https://localhost:8080/"
        },
        "id": "JVMCqamVGrd_",
        "outputId": "abf399d4-d2f7-4963-868a-1e42a00f0f02"
      },
      "execution_count": null,
      "outputs": [
        {
          "output_type": "stream",
          "name": "stdout",
          "text": [
            "0 Brasil\n",
            "1 Argentina\n",
            "2 Uruguai\n",
            "3 Paraguai\n"
          ]
        }
      ]
    },
    {
      "cell_type": "code",
      "source": [
        "# for dentro de uma lista para gerar os valores dela\n",
        "lista1 = [numero for numero in range(0,10)]\n",
        "lista2 = [numero ** 2 for numero in range(0,10)]\n",
        "\n",
        "print(lista1)\n",
        "print(lista2)"
      ],
      "metadata": {
        "colab": {
          "base_uri": "https://localhost:8080/"
        },
        "id": "ClPno8lXGs6v",
        "outputId": "5dd571a4-e885-4cf1-8b07-633b445c5137"
      },
      "execution_count": null,
      "outputs": [
        {
          "output_type": "stream",
          "name": "stdout",
          "text": [
            "[0, 1, 2, 3, 4, 5, 6, 7, 8, 9]\n",
            "[0, 1, 4, 9, 16, 25, 36, 49, 64, 81]\n"
          ]
        }
      ]
    },
    {
      "cell_type": "code",
      "source": [
        "# utilizando append pra fazer o mesmo resultado\n",
        "lista = []\n",
        "\n",
        "for x in range(0, 10):\n",
        "  lista.append(x)\n",
        "\n",
        "print(lista)"
      ],
      "metadata": {
        "colab": {
          "base_uri": "https://localhost:8080/"
        },
        "id": "1oKusDT8HGRs",
        "outputId": "7d790d4d-ebc2-4977-ed42-36ccb74cc506"
      },
      "execution_count": null,
      "outputs": [
        {
          "output_type": "stream",
          "name": "stdout",
          "text": [
            "[0, 1, 2, 3, 4, 5, 6, 7, 8, 9]\n"
          ]
        }
      ]
    },
    {
      "cell_type": "markdown",
      "source": [
        "**LOOP WHILE**\n",
        "\n",
        "Python While loop é usado para executar um bloco de instruções repetidamente até que uma determinada condição seja satisfeita. E quando a condição se torna falsa, a linha imediatamente após o loop no programa é executado. Se enquadra na categoria de iteração indefinida. A iteração indefinida significa que o número de vezes que o loop é executado não é especificado explicitamente com antecedência.\n",
        "\n",
        "while expressão:\n",
        "*   loop"
      ],
      "metadata": {
        "id": "Rt28TVmIHVYV"
      }
    },
    {
      "cell_type": "code",
      "source": [
        "stop = 0\n",
        "\n",
        "while stop <= 10:\n",
        "  print(stop)\n",
        "  stop += 1"
      ],
      "metadata": {
        "colab": {
          "base_uri": "https://localhost:8080/"
        },
        "id": "zraeQghDHw6z",
        "outputId": "e922779c-dad8-4313-9566-1d8ae5b9f3c1"
      },
      "execution_count": null,
      "outputs": [
        {
          "output_type": "stream",
          "name": "stdout",
          "text": [
            "0\n",
            "1\n",
            "2\n",
            "3\n",
            "4\n",
            "5\n",
            "6\n",
            "7\n",
            "8\n",
            "9\n",
            "10\n"
          ]
        }
      ]
    },
    {
      "cell_type": "code",
      "source": [
        "loop = 0\n",
        "\n",
        "while loop <= 10:\n",
        "  print(loop)\n",
        "\n",
        "  if loop == 5:\n",
        "    for x in range(10):\n",
        "      print(x)\n",
        "\n",
        "  loop += 1"
      ],
      "metadata": {
        "colab": {
          "base_uri": "https://localhost:8080/"
        },
        "id": "3kBY87oVIG8i",
        "outputId": "4a5a39be-19ed-4ea1-8f47-0673664cd039"
      },
      "execution_count": null,
      "outputs": [
        {
          "output_type": "stream",
          "name": "stdout",
          "text": [
            "0\n",
            "1\n",
            "2\n",
            "3\n",
            "4\n",
            "5\n",
            "0\n",
            "1\n",
            "2\n",
            "3\n",
            "4\n",
            "5\n",
            "6\n",
            "7\n",
            "8\n",
            "9\n",
            "6\n",
            "7\n",
            "8\n",
            "9\n",
            "10\n"
          ]
        }
      ]
    },
    {
      "cell_type": "code",
      "source": [
        "# joguinho\n",
        "import random\n",
        "\n",
        "while True:\n",
        "  eu = random.randint(0,3)\n",
        "  adversario = random.randint(2,10)\n",
        "\n",
        "  print('Eu tirei o valor: ', eu)\n",
        "  print('Vocês tiraram o valor: ', adversario)\n",
        "\n",
        "  if eu > adversario:\n",
        "    print('EU GANHEI')\n",
        "    break\n",
        "\n",
        "  print('\\n')"
      ],
      "metadata": {
        "colab": {
          "base_uri": "https://localhost:8080/"
        },
        "id": "G_e8qpEaJbhI",
        "outputId": "79317d2a-7e82-48a5-cf0f-72661440da1e"
      },
      "execution_count": null,
      "outputs": [
        {
          "output_type": "stream",
          "name": "stdout",
          "text": [
            "Eu tirei o valor:  2\n",
            "Vocês tiraram o valor:  4\n",
            "\n",
            "\n",
            "Eu tirei o valor:  0\n",
            "Vocês tiraram o valor:  8\n",
            "\n",
            "\n",
            "Eu tirei o valor:  1\n",
            "Vocês tiraram o valor:  9\n",
            "\n",
            "\n",
            "Eu tirei o valor:  3\n",
            "Vocês tiraram o valor:  6\n",
            "\n",
            "\n",
            "Eu tirei o valor:  1\n",
            "Vocês tiraram o valor:  6\n",
            "\n",
            "\n",
            "Eu tirei o valor:  2\n",
            "Vocês tiraram o valor:  2\n",
            "\n",
            "\n",
            "Eu tirei o valor:  2\n",
            "Vocês tiraram o valor:  3\n",
            "\n",
            "\n",
            "Eu tirei o valor:  3\n",
            "Vocês tiraram o valor:  3\n",
            "\n",
            "\n",
            "Eu tirei o valor:  3\n",
            "Vocês tiraram o valor:  9\n",
            "\n",
            "\n",
            "Eu tirei o valor:  2\n",
            "Vocês tiraram o valor:  6\n",
            "\n",
            "\n",
            "Eu tirei o valor:  1\n",
            "Vocês tiraram o valor:  7\n",
            "\n",
            "\n",
            "Eu tirei o valor:  3\n",
            "Vocês tiraram o valor:  5\n",
            "\n",
            "\n",
            "Eu tirei o valor:  0\n",
            "Vocês tiraram o valor:  10\n",
            "\n",
            "\n",
            "Eu tirei o valor:  1\n",
            "Vocês tiraram o valor:  3\n",
            "\n",
            "\n",
            "Eu tirei o valor:  3\n",
            "Vocês tiraram o valor:  2\n",
            "EU GANHEI\n"
          ]
        }
      ]
    },
    {
      "cell_type": "markdown",
      "source": [
        "**BREAK e CONTINUE**\n",
        "\n",
        "O uso de loops no python automatiza e repete as tarefas de maneira eficiente. Mas, às vezes, pode surgir uma condição em que você deseja sair completamente do loop, pular uma iteração ou ignorar essa condição. Isso pode ser feito por instrução de controle de loop. As instruções de controle de loop alteram a execução de sua sequência normal. Quando a execução sai de um escopo, todos os objetos automáticos que foram criados nesse escopo são destruídos. Python suporta as seguintes instruções de controle:"
      ],
      "metadata": {
        "id": "Y2mxsHM3Jhvd"
      }
    },
    {
      "cell_type": "code",
      "source": [
        "#BREAK\n",
        "frutas = ['Morango','Pêra','Uva','Abacaxi']\n",
        "\n",
        "for fruta in frutas:\n",
        "  print(fruta)\n",
        "\n",
        "  if fruta == 'uva':\n",
        "    break"
      ],
      "metadata": {
        "colab": {
          "base_uri": "https://localhost:8080/"
        },
        "id": "q7B-HnM8J_R0",
        "outputId": "b5e5e9ea-eb29-4691-9bc9-70eacb7a9ddd"
      },
      "execution_count": null,
      "outputs": [
        {
          "output_type": "stream",
          "name": "stdout",
          "text": [
            "Morango\n",
            "Pêra\n",
            "Uva\n",
            "Abacaxi\n"
          ]
        }
      ]
    },
    {
      "cell_type": "code",
      "source": [
        "# CONTINUE\n",
        "frutas = ['Morango','Pêra','Uva','Abacaxi']\n",
        "\n",
        "for fruta in frutas:\n",
        "\n",
        "  if fruta == 'Pêra':\n",
        "    continue\n",
        "\n",
        "  print(fruta)"
      ],
      "metadata": {
        "colab": {
          "base_uri": "https://localhost:8080/"
        },
        "id": "TDmZV3l5M_EZ",
        "outputId": "1089562f-d78c-4bd8-8fe6-1dff127f4485"
      },
      "execution_count": null,
      "outputs": [
        {
          "output_type": "stream",
          "name": "stdout",
          "text": [
            "Morango\n",
            "Uva\n",
            "Abacaxi\n"
          ]
        }
      ]
    },
    {
      "cell_type": "markdown",
      "source": [
        "**ESTRUTURA DE FUNÇÕES**\n",
        "\n",
        "Uma função é um bloco de código que só é executado quando é chamado. Você pode passar dados, conhecidos como parâmetros, para uma função. Uma função pode retornar dados como resultado.\n"
      ],
      "metadata": {
        "id": "yfrvFZxXNQua"
      }
    },
    {
      "cell_type": "code",
      "source": [
        "# você apenas cria a função\n",
        "def welcome():\n",
        "    print('Welcome!')"
      ],
      "metadata": {
        "id": "ia7FxtuNULUy"
      },
      "execution_count": null,
      "outputs": []
    },
    {
      "cell_type": "code",
      "source": [
        "# para que ela seja executada, você precisa chamá-la\n",
        "welcome()"
      ],
      "metadata": {
        "colab": {
          "base_uri": "https://localhost:8080/"
        },
        "id": "QUQOIKoiXcls",
        "outputId": "98370185-1371-4520-aa47-e458fbd82935"
      },
      "execution_count": null,
      "outputs": [
        {
          "output_type": "stream",
          "name": "stdout",
          "text": [
            "Welcome!\n"
          ]
        }
      ]
    },
    {
      "cell_type": "code",
      "source": [
        "# função que realiza a soma de 2 valores\n",
        "def somar(valor1, valor2):\n",
        "\n",
        "  soma = valor1 + valor2\n",
        "\n",
        "  print(soma)"
      ],
      "metadata": {
        "id": "UbMFD5iKXmpz"
      },
      "execution_count": null,
      "outputs": []
    },
    {
      "cell_type": "code",
      "source": [
        "somar(2,3) # executa a função com os parâmetros passados para realizar a soma"
      ],
      "metadata": {
        "colab": {
          "base_uri": "https://localhost:8080/"
        },
        "id": "g0feSXNxXwMm",
        "outputId": "3d32752e-a936-4969-e8cb-5e9b3364fbac"
      },
      "execution_count": null,
      "outputs": [
        {
          "output_type": "stream",
          "name": "stdout",
          "text": [
            "5\n"
          ]
        }
      ]
    },
    {
      "cell_type": "code",
      "source": [
        "# mas a passagem de parâmetros pode ser feita de forma dinâmica também\n",
        "for x in range(0, 10):\n",
        "  import random\n",
        "\n",
        "  v1 = random.random()\n",
        "  v2 = random.random()\n",
        "\n",
        "  somar(v1,v2)"
      ],
      "metadata": {
        "colab": {
          "base_uri": "https://localhost:8080/"
        },
        "id": "PIersiKUYaoJ",
        "outputId": "aa2a30d6-5acc-47c4-bce7-d179e4029360"
      },
      "execution_count": null,
      "outputs": [
        {
          "output_type": "stream",
          "name": "stdout",
          "text": [
            "1.2315730691678153\n",
            "1.2437029219285596\n",
            "1.0404812283874172\n",
            "0.9858434415977668\n",
            "0.7987485910330993\n",
            "0.8757536570548325\n",
            "1.2711209164556085\n",
            "1.5387071874654703\n",
            "0.9252281650018147\n",
            "0.9169079360916014\n"
          ]
        }
      ]
    },
    {
      "cell_type": "markdown",
      "source": [
        "**FUNÇÃO LAMBDA**\n",
        "\n",
        "É uma pequena função anônima. Uma função lambda pode receber qualquer número de argumentos, mas pode ter apenas uma expressão.\n"
      ],
      "metadata": {
        "id": "jDf4EtKXYsgc"
      }
    },
    {
      "cell_type": "code",
      "source": [
        "# exemplo da função de soma utilizando lambda\n",
        "lambdaSoma = lambda valor_1, valor_2: valor_1 + valor_2"
      ],
      "metadata": {
        "id": "a__2KysYY6mq"
      },
      "execution_count": null,
      "outputs": []
    },
    {
      "cell_type": "code",
      "source": [
        "lambdaSoma(1,5)"
      ],
      "metadata": {
        "colab": {
          "base_uri": "https://localhost:8080/"
        },
        "id": "a0hW8WtRbQtq",
        "outputId": "8c942d51-6372-40bd-d5ab-d7d45fd9ee25"
      },
      "execution_count": null,
      "outputs": [
        {
          "output_type": "execute_result",
          "data": {
            "text/plain": [
              "6"
            ]
          },
          "metadata": {},
          "execution_count": 22
        }
      ]
    },
    {
      "cell_type": "code",
      "source": [
        "# exemplo com condição IF. retorna verdadeiro se o número for par, se não, retorna falso\n",
        "lambdaParOuImpar = lambda numero: 'True' if numero % 2 == 0 else 'False'"
      ],
      "metadata": {
        "id": "7wWCsOpObVPi"
      },
      "execution_count": null,
      "outputs": []
    },
    {
      "cell_type": "code",
      "source": [
        "lambdaParOuImpar(1)"
      ],
      "metadata": {
        "colab": {
          "base_uri": "https://localhost:8080/",
          "height": 35
        },
        "id": "2H6Hoc-_bjCG",
        "outputId": "384e2e91-1f03-4e87-d173-fbd4441b2000"
      },
      "execution_count": null,
      "outputs": [
        {
          "output_type": "execute_result",
          "data": {
            "text/plain": [
              "'False'"
            ],
            "application/vnd.google.colaboratory.intrinsic+json": {
              "type": "string"
            }
          },
          "metadata": {},
          "execution_count": 26
        }
      ]
    },
    {
      "cell_type": "markdown",
      "source": [
        "**ESTRUTURA TRY**\n",
        "\n",
        "O *try* permite testar um bloco de código quanto a erros.  \n",
        "O *except* permite que você lide com o erro.  \n",
        "O *else* permite que você execute código quando não há erros.  \n",
        "O *finally* permite que você execute código, independentemente do resultado dos blocos *try* e *except*.  \n"
      ],
      "metadata": {
        "id": "InPUyl-ocLH3"
      }
    },
    {
      "cell_type": "code",
      "source": [
        "try:\n",
        "   0/0\n",
        "\n",
        "except:\n",
        "    print('Não deu certo!')\n",
        "\n",
        "finally:\n",
        "    print('Mas vou executar mesmo assim!')"
      ],
      "metadata": {
        "colab": {
          "base_uri": "https://localhost:8080/"
        },
        "id": "w_vTgO30iF8G",
        "outputId": "9397a8cf-8fa8-4fc5-8638-c3c55911ee8b"
      },
      "execution_count": null,
      "outputs": [
        {
          "output_type": "stream",
          "name": "stdout",
          "text": [
            "Não deu certo!\n",
            "Mas vou executar mesmo assim!\n"
          ]
        }
      ]
    },
    {
      "cell_type": "markdown",
      "source": [
        "**ESTRUTURA DE CLASSES E OBJETOS**\n",
        "\n",
        "Python é uma linguagem de programação orientada à objetos. Quase tudo em python é um objeto, com seus propriedades e métodos. Uma classe é como um construtor de objetos, ou um 'projeto' para criar objetos.\n",
        "\n"
      ],
      "metadata": {
        "id": "3_WzeV7dqzbG"
      }
    },
    {
      "cell_type": "code",
      "source": [
        "class Pessoa:\n",
        "\n",
        "  # Método construtor\n",
        "  def __init__(self, nome, idade):\n",
        "    self.nome = nome\n",
        "    self.idade = idade\n",
        "\n",
        "  def bemVindo(self):\n",
        "    print('Olá, ', self.nome, ' seja bem vindo!')\n",
        "\n",
        "  def recusado(self):\n",
        "    print('Seu acesso foi recusado,', self.nome)\n",
        "\n",
        "  # Função\n",
        "  def maiorIdade(self):\n",
        "    if self.idade >= 18:\n",
        "      print('Usuário é maior de idade!')\n",
        "      self.bemVindo()\n",
        "\n",
        "    else:\n",
        "      print('Usuário é menor de idade!')\n",
        "      self.recusado()"
      ],
      "metadata": {
        "id": "QQG-H--M5VP4"
      },
      "execution_count": null,
      "outputs": []
    },
    {
      "cell_type": "code",
      "source": [
        "dadosPessoa = Pessoa('Brenda', 12)"
      ],
      "metadata": {
        "id": "tw461MXh9jcr"
      },
      "execution_count": null,
      "outputs": []
    },
    {
      "cell_type": "code",
      "source": [
        "dadosPessoa.bemVindo()\n",
        "\n",
        "print('\\n')\n",
        "\n",
        "dadosPessoa.maiorIdade()"
      ],
      "metadata": {
        "colab": {
          "base_uri": "https://localhost:8080/"
        },
        "id": "-RxIYDiD92ug",
        "outputId": "6cf12254-8555-4001-f425-87b40b06720d"
      },
      "execution_count": null,
      "outputs": [
        {
          "output_type": "stream",
          "name": "stdout",
          "text": [
            "Olá,  Brenda  seja bem vindo!\n",
            "\n",
            "\n",
            "Usuário é menor de idade!\n",
            "Seu acesso foi recusado, Brenda\n"
          ]
        }
      ]
    },
    {
      "cell_type": "markdown",
      "source": [
        "**MÓDULOS/PACOTES**\n",
        "\n",
        "Considere um módulo como sendo o mesmo que uma biblioteca de código. Para instalar um pacote utiliza o 'pip install'."
      ],
      "metadata": {
        "id": "FPjt6n8E_D6M"
      }
    },
    {
      "cell_type": "code",
      "source": [
        "# para importar um módulo, o pacote dele já deve estar instalado, se não, é necessário que seja instalado.\n",
        "# exemplo:\n",
        "\n",
        "import pandas         # já estiver instalado\n",
        "#pip install pandas   #instalar"
      ],
      "metadata": {
        "id": "0F0wnrAy_ddI"
      },
      "execution_count": null,
      "outputs": []
    },
    {
      "cell_type": "markdown",
      "source": [
        "**PRINT FORMATADO**\n",
        "\n",
        "Existe diversas formas de utilizar print's no python."
      ],
      "metadata": {
        "id": "b_dlP3AeAONQ"
      }
    },
    {
      "cell_type": "code",
      "source": [
        "# Exemplos\n",
        "print('Soma de 2 + 0 é:', 2+0)\n",
        "print(f'Soma de 2 + 2 é: {2+2}')\n",
        "print('Soma de 2 + 4 é: {}'.format(2+4))"
      ],
      "metadata": {
        "colab": {
          "base_uri": "https://localhost:8080/"
        },
        "id": "t33yhZKyASXy",
        "outputId": "9a607f6b-a4d4-40b5-e8d5-fc356135d928"
      },
      "execution_count": null,
      "outputs": [
        {
          "output_type": "stream",
          "name": "stdout",
          "text": [
            "Soma de 2 + 0 é: 2\n",
            "Soma de 2 + 2 é: 4\n",
            "Soma de 2 + 4 é: 6\n"
          ]
        }
      ]
    },
    {
      "cell_type": "markdown",
      "source": [
        "**MATPLOT LIB** (PULAR)"
      ],
      "metadata": {
        "id": "Qa-r7qkwe_U9"
      }
    },
    {
      "cell_type": "code",
      "source": [],
      "metadata": {
        "id": "cbI7sslpfCN_"
      },
      "execution_count": null,
      "outputs": []
    },
    {
      "cell_type": "markdown",
      "source": [
        "**ESTATÍSTICA DESCRITIVA**\n",
        "\n",
        "Em sua essência, a estatística é a ciência que apresenta procesos próprios para coletar, apresentar e interpretar adequadamente conjuntos de dados, sejam eles numéricos ou não. Pode se dizer que seu objetivo é o de apresentar informações sobre dados em análise para que se tenha maior compreensão dos fatos que os mesmos representam.\n",
        "\n",
        "A estatística descritiva, como o próprio nome já diz, se preocupa em descrever os dados."
      ],
      "metadata": {
        "id": "Tsewqs44fC7_"
      }
    },
    {
      "cell_type": "markdown",
      "source": [
        "**MÓDULO 1 - MEDIDAS DE TENDÊNCIA CENTRAL**\n",
        "\n",
        "As medidas de tendência central são assim denominadas por indicarem um ponto em torno do qual se concentram os dados."
      ],
      "metadata": {
        "id": "Wij1N8o8braw"
      }
    },
    {
      "cell_type": "code",
      "source": [
        "import pandas as pd\n",
        "import seaborn as sns\n",
        "import matplotlib.pyplot as plt\n",
        "\n",
        "import warnings\n",
        "warnings.filterwarnings('ignore')"
      ],
      "metadata": {
        "id": "OcDY06yrfOvv"
      },
      "execution_count": null,
      "outputs": []
    },
    {
      "cell_type": "code",
      "source": [
        "baseDados = sns.load_dataset('iris') # o pacote seaborn tem datasets prontos pra serem utilizados"
      ],
      "metadata": {
        "id": "GMKk1qbafeSB"
      },
      "execution_count": null,
      "outputs": []
    },
    {
      "cell_type": "code",
      "source": [
        "baseDados.shape # retorna quantos registros contém e quantas colunas (150 registros e 5 colunas)"
      ],
      "metadata": {
        "colab": {
          "base_uri": "https://localhost:8080/"
        },
        "id": "WeYZo4mKh4AU",
        "outputId": "30dd8bdb-8c00-4545-e033-6adfe2e642e5"
      },
      "execution_count": null,
      "outputs": [
        {
          "output_type": "execute_result",
          "data": {
            "text/plain": [
              "(150, 5)"
            ]
          },
          "metadata": {},
          "execution_count": 3
        }
      ]
    },
    {
      "cell_type": "code",
      "source": [
        "baseDados.head() # head mostra as primeiras 5 linhas do datatset (a contagem de linhas não inclui o cabeçalho)"
      ],
      "metadata": {
        "colab": {
          "base_uri": "https://localhost:8080/",
          "height": 206
        },
        "id": "2ELVpcQdgDsy",
        "outputId": "f378b705-7338-48fd-91e0-5400846f942b"
      },
      "execution_count": null,
      "outputs": [
        {
          "output_type": "execute_result",
          "data": {
            "text/plain": [
              "   sepal_length  sepal_width  petal_length  petal_width species\n",
              "0           5.1          3.5           1.4          0.2  setosa\n",
              "1           4.9          3.0           1.4          0.2  setosa\n",
              "2           4.7          3.2           1.3          0.2  setosa\n",
              "3           4.6          3.1           1.5          0.2  setosa\n",
              "4           5.0          3.6           1.4          0.2  setosa"
            ],
            "text/html": [
              "\n",
              "  <div id=\"df-9c972c22-eefd-4484-a58c-c744032fe566\" class=\"colab-df-container\">\n",
              "    <div>\n",
              "<style scoped>\n",
              "    .dataframe tbody tr th:only-of-type {\n",
              "        vertical-align: middle;\n",
              "    }\n",
              "\n",
              "    .dataframe tbody tr th {\n",
              "        vertical-align: top;\n",
              "    }\n",
              "\n",
              "    .dataframe thead th {\n",
              "        text-align: right;\n",
              "    }\n",
              "</style>\n",
              "<table border=\"1\" class=\"dataframe\">\n",
              "  <thead>\n",
              "    <tr style=\"text-align: right;\">\n",
              "      <th></th>\n",
              "      <th>sepal_length</th>\n",
              "      <th>sepal_width</th>\n",
              "      <th>petal_length</th>\n",
              "      <th>petal_width</th>\n",
              "      <th>species</th>\n",
              "    </tr>\n",
              "  </thead>\n",
              "  <tbody>\n",
              "    <tr>\n",
              "      <th>0</th>\n",
              "      <td>5.1</td>\n",
              "      <td>3.5</td>\n",
              "      <td>1.4</td>\n",
              "      <td>0.2</td>\n",
              "      <td>setosa</td>\n",
              "    </tr>\n",
              "    <tr>\n",
              "      <th>1</th>\n",
              "      <td>4.9</td>\n",
              "      <td>3.0</td>\n",
              "      <td>1.4</td>\n",
              "      <td>0.2</td>\n",
              "      <td>setosa</td>\n",
              "    </tr>\n",
              "    <tr>\n",
              "      <th>2</th>\n",
              "      <td>4.7</td>\n",
              "      <td>3.2</td>\n",
              "      <td>1.3</td>\n",
              "      <td>0.2</td>\n",
              "      <td>setosa</td>\n",
              "    </tr>\n",
              "    <tr>\n",
              "      <th>3</th>\n",
              "      <td>4.6</td>\n",
              "      <td>3.1</td>\n",
              "      <td>1.5</td>\n",
              "      <td>0.2</td>\n",
              "      <td>setosa</td>\n",
              "    </tr>\n",
              "    <tr>\n",
              "      <th>4</th>\n",
              "      <td>5.0</td>\n",
              "      <td>3.6</td>\n",
              "      <td>1.4</td>\n",
              "      <td>0.2</td>\n",
              "      <td>setosa</td>\n",
              "    </tr>\n",
              "  </tbody>\n",
              "</table>\n",
              "</div>\n",
              "    <div class=\"colab-df-buttons\">\n",
              "\n",
              "  <div class=\"colab-df-container\">\n",
              "    <button class=\"colab-df-convert\" onclick=\"convertToInteractive('df-9c972c22-eefd-4484-a58c-c744032fe566')\"\n",
              "            title=\"Convert this dataframe to an interactive table.\"\n",
              "            style=\"display:none;\">\n",
              "\n",
              "  <svg xmlns=\"http://www.w3.org/2000/svg\" height=\"24px\" viewBox=\"0 -960 960 960\">\n",
              "    <path d=\"M120-120v-720h720v720H120Zm60-500h600v-160H180v160Zm220 220h160v-160H400v160Zm0 220h160v-160H400v160ZM180-400h160v-160H180v160Zm440 0h160v-160H620v160ZM180-180h160v-160H180v160Zm440 0h160v-160H620v160Z\"/>\n",
              "  </svg>\n",
              "    </button>\n",
              "\n",
              "  <style>\n",
              "    .colab-df-container {\n",
              "      display:flex;\n",
              "      gap: 12px;\n",
              "    }\n",
              "\n",
              "    .colab-df-convert {\n",
              "      background-color: #E8F0FE;\n",
              "      border: none;\n",
              "      border-radius: 50%;\n",
              "      cursor: pointer;\n",
              "      display: none;\n",
              "      fill: #1967D2;\n",
              "      height: 32px;\n",
              "      padding: 0 0 0 0;\n",
              "      width: 32px;\n",
              "    }\n",
              "\n",
              "    .colab-df-convert:hover {\n",
              "      background-color: #E2EBFA;\n",
              "      box-shadow: 0px 1px 2px rgba(60, 64, 67, 0.3), 0px 1px 3px 1px rgba(60, 64, 67, 0.15);\n",
              "      fill: #174EA6;\n",
              "    }\n",
              "\n",
              "    .colab-df-buttons div {\n",
              "      margin-bottom: 4px;\n",
              "    }\n",
              "\n",
              "    [theme=dark] .colab-df-convert {\n",
              "      background-color: #3B4455;\n",
              "      fill: #D2E3FC;\n",
              "    }\n",
              "\n",
              "    [theme=dark] .colab-df-convert:hover {\n",
              "      background-color: #434B5C;\n",
              "      box-shadow: 0px 1px 3px 1px rgba(0, 0, 0, 0.15);\n",
              "      filter: drop-shadow(0px 1px 2px rgba(0, 0, 0, 0.3));\n",
              "      fill: #FFFFFF;\n",
              "    }\n",
              "  </style>\n",
              "\n",
              "    <script>\n",
              "      const buttonEl =\n",
              "        document.querySelector('#df-9c972c22-eefd-4484-a58c-c744032fe566 button.colab-df-convert');\n",
              "      buttonEl.style.display =\n",
              "        google.colab.kernel.accessAllowed ? 'block' : 'none';\n",
              "\n",
              "      async function convertToInteractive(key) {\n",
              "        const element = document.querySelector('#df-9c972c22-eefd-4484-a58c-c744032fe566');\n",
              "        const dataTable =\n",
              "          await google.colab.kernel.invokeFunction('convertToInteractive',\n",
              "                                                    [key], {});\n",
              "        if (!dataTable) return;\n",
              "\n",
              "        const docLinkHtml = 'Like what you see? Visit the ' +\n",
              "          '<a target=\"_blank\" href=https://colab.research.google.com/notebooks/data_table.ipynb>data table notebook</a>'\n",
              "          + ' to learn more about interactive tables.';\n",
              "        element.innerHTML = '';\n",
              "        dataTable['output_type'] = 'display_data';\n",
              "        await google.colab.output.renderOutput(dataTable, element);\n",
              "        const docLink = document.createElement('div');\n",
              "        docLink.innerHTML = docLinkHtml;\n",
              "        element.appendChild(docLink);\n",
              "      }\n",
              "    </script>\n",
              "  </div>\n",
              "\n",
              "\n",
              "<div id=\"df-4c1808a5-5579-4746-8c9b-d99d2aaf2f22\">\n",
              "  <button class=\"colab-df-quickchart\" onclick=\"quickchart('df-4c1808a5-5579-4746-8c9b-d99d2aaf2f22')\"\n",
              "            title=\"Suggest charts\"\n",
              "            style=\"display:none;\">\n",
              "\n",
              "<svg xmlns=\"http://www.w3.org/2000/svg\" height=\"24px\"viewBox=\"0 0 24 24\"\n",
              "     width=\"24px\">\n",
              "    <g>\n",
              "        <path d=\"M19 3H5c-1.1 0-2 .9-2 2v14c0 1.1.9 2 2 2h14c1.1 0 2-.9 2-2V5c0-1.1-.9-2-2-2zM9 17H7v-7h2v7zm4 0h-2V7h2v10zm4 0h-2v-4h2v4z\"/>\n",
              "    </g>\n",
              "</svg>\n",
              "  </button>\n",
              "\n",
              "<style>\n",
              "  .colab-df-quickchart {\n",
              "      --bg-color: #E8F0FE;\n",
              "      --fill-color: #1967D2;\n",
              "      --hover-bg-color: #E2EBFA;\n",
              "      --hover-fill-color: #174EA6;\n",
              "      --disabled-fill-color: #AAA;\n",
              "      --disabled-bg-color: #DDD;\n",
              "  }\n",
              "\n",
              "  [theme=dark] .colab-df-quickchart {\n",
              "      --bg-color: #3B4455;\n",
              "      --fill-color: #D2E3FC;\n",
              "      --hover-bg-color: #434B5C;\n",
              "      --hover-fill-color: #FFFFFF;\n",
              "      --disabled-bg-color: #3B4455;\n",
              "      --disabled-fill-color: #666;\n",
              "  }\n",
              "\n",
              "  .colab-df-quickchart {\n",
              "    background-color: var(--bg-color);\n",
              "    border: none;\n",
              "    border-radius: 50%;\n",
              "    cursor: pointer;\n",
              "    display: none;\n",
              "    fill: var(--fill-color);\n",
              "    height: 32px;\n",
              "    padding: 0;\n",
              "    width: 32px;\n",
              "  }\n",
              "\n",
              "  .colab-df-quickchart:hover {\n",
              "    background-color: var(--hover-bg-color);\n",
              "    box-shadow: 0 1px 2px rgba(60, 64, 67, 0.3), 0 1px 3px 1px rgba(60, 64, 67, 0.15);\n",
              "    fill: var(--button-hover-fill-color);\n",
              "  }\n",
              "\n",
              "  .colab-df-quickchart-complete:disabled,\n",
              "  .colab-df-quickchart-complete:disabled:hover {\n",
              "    background-color: var(--disabled-bg-color);\n",
              "    fill: var(--disabled-fill-color);\n",
              "    box-shadow: none;\n",
              "  }\n",
              "\n",
              "  .colab-df-spinner {\n",
              "    border: 2px solid var(--fill-color);\n",
              "    border-color: transparent;\n",
              "    border-bottom-color: var(--fill-color);\n",
              "    animation:\n",
              "      spin 1s steps(1) infinite;\n",
              "  }\n",
              "\n",
              "  @keyframes spin {\n",
              "    0% {\n",
              "      border-color: transparent;\n",
              "      border-bottom-color: var(--fill-color);\n",
              "      border-left-color: var(--fill-color);\n",
              "    }\n",
              "    20% {\n",
              "      border-color: transparent;\n",
              "      border-left-color: var(--fill-color);\n",
              "      border-top-color: var(--fill-color);\n",
              "    }\n",
              "    30% {\n",
              "      border-color: transparent;\n",
              "      border-left-color: var(--fill-color);\n",
              "      border-top-color: var(--fill-color);\n",
              "      border-right-color: var(--fill-color);\n",
              "    }\n",
              "    40% {\n",
              "      border-color: transparent;\n",
              "      border-right-color: var(--fill-color);\n",
              "      border-top-color: var(--fill-color);\n",
              "    }\n",
              "    60% {\n",
              "      border-color: transparent;\n",
              "      border-right-color: var(--fill-color);\n",
              "    }\n",
              "    80% {\n",
              "      border-color: transparent;\n",
              "      border-right-color: var(--fill-color);\n",
              "      border-bottom-color: var(--fill-color);\n",
              "    }\n",
              "    90% {\n",
              "      border-color: transparent;\n",
              "      border-bottom-color: var(--fill-color);\n",
              "    }\n",
              "  }\n",
              "</style>\n",
              "\n",
              "  <script>\n",
              "    async function quickchart(key) {\n",
              "      const quickchartButtonEl =\n",
              "        document.querySelector('#' + key + ' button');\n",
              "      quickchartButtonEl.disabled = true;  // To prevent multiple clicks.\n",
              "      quickchartButtonEl.classList.add('colab-df-spinner');\n",
              "      try {\n",
              "        const charts = await google.colab.kernel.invokeFunction(\n",
              "            'suggestCharts', [key], {});\n",
              "      } catch (error) {\n",
              "        console.error('Error during call to suggestCharts:', error);\n",
              "      }\n",
              "      quickchartButtonEl.classList.remove('colab-df-spinner');\n",
              "      quickchartButtonEl.classList.add('colab-df-quickchart-complete');\n",
              "    }\n",
              "    (() => {\n",
              "      let quickchartButtonEl =\n",
              "        document.querySelector('#df-4c1808a5-5579-4746-8c9b-d99d2aaf2f22 button');\n",
              "      quickchartButtonEl.style.display =\n",
              "        google.colab.kernel.accessAllowed ? 'block' : 'none';\n",
              "    })();\n",
              "  </script>\n",
              "</div>\n",
              "\n",
              "    </div>\n",
              "  </div>\n"
            ]
          },
          "metadata": {},
          "execution_count": 4
        }
      ]
    },
    {
      "cell_type": "markdown",
      "source": [
        "Média aritmética: é a soma de todos os valores observados da variável dividida pelo número total de observações."
      ],
      "metadata": {
        "id": "DYvFTFmwcqlr"
      }
    },
    {
      "cell_type": "code",
      "source": [
        "# extraindo a média aritmética da base de dados 'iris' da coluna petal_length:\n",
        "baseDados['petal_length'].mean()"
      ],
      "metadata": {
        "colab": {
          "base_uri": "https://localhost:8080/"
        },
        "id": "jk2TqqXMgltw",
        "outputId": "69813ffe-a2fb-4812-ffbd-0c428bed3e3b"
      },
      "execution_count": null,
      "outputs": [
        {
          "output_type": "execute_result",
          "data": {
            "text/plain": [
              "3.7580000000000005"
            ]
          },
          "metadata": {},
          "execution_count": 5
        }
      ]
    },
    {
      "cell_type": "markdown",
      "source": [
        "Moda: a moda (Mo) é o valor que apresenta a maior frequência da variável entre os valores observados."
      ],
      "metadata": {
        "id": "GQU59I_zhKpG"
      }
    },
    {
      "cell_type": "code",
      "source": [
        "baseDados['petal_length'].mode()"
      ],
      "metadata": {
        "colab": {
          "base_uri": "https://localhost:8080/"
        },
        "id": "eNq9UHu7hTvB",
        "outputId": "8728bd68-72e9-4a6a-a823-bfeb0c117f7f"
      },
      "execution_count": null,
      "outputs": [
        {
          "output_type": "execute_result",
          "data": {
            "text/plain": [
              "0    1.4\n",
              "1    1.5\n",
              "Name: petal_length, dtype: float64"
            ]
          },
          "metadata": {},
          "execution_count": 6
        }
      ]
    },
    {
      "cell_type": "markdown",
      "source": [
        "Mediana: a mediana (Md) é o valor que ocupa a posição central da série de observações de uma variável, em rol, dividindo o conjunto em duas partes iguais, ou seja, a quantidade de valores inferiores à mediana é igual a quantidade de valores superiores a mesma."
      ],
      "metadata": {
        "id": "lrKHBFFchUd3"
      }
    },
    {
      "cell_type": "code",
      "source": [
        "baseDados['petal_length'].median()"
      ],
      "metadata": {
        "colab": {
          "base_uri": "https://localhost:8080/"
        },
        "id": "oh_VT7mEhk3W",
        "outputId": "16c5afdb-829a-4f4a-d0be-247d4fd6b804"
      },
      "execution_count": null,
      "outputs": [
        {
          "output_type": "execute_result",
          "data": {
            "text/plain": [
              "4.35"
            ]
          },
          "metadata": {},
          "execution_count": 7
        }
      ]
    },
    {
      "cell_type": "markdown",
      "source": [
        "**Exemplo:** ticket médio da semana\n",
        "# loja de sapatos - 1a semana de vendas\n",
        "(1.000 + 1.200 + 1.400 + 1.100 + 5.000)/5 > isso daria 1.94 devido ao 5k\n",
        "\n",
        "# mas o 5 distoa, nesse caso, a melhor ação seria fazer a mediana ao invés de uma média\n",
        "\n",
        "1.000 + 1.100 + '1.200' + 1.400 + 5.000\n",
        "\n",
        "# a mediana retornaria nossa medida central, que é 1.200. e agora faz mais sentido\n",
        "\n",
        "\n",
        "**A MÉDIA É SENSÍVEL A OUTLIERS**\n"
      ],
      "metadata": {
        "id": "uGPQevu5iFKD"
      }
    },
    {
      "cell_type": "markdown",
      "source": [
        "**MÓDULO 2 - MEDIDAS SEPARATRIZES**\n",
        "\n",
        "Estas medidas são valores que ocupam posições no conjunto de dados, em rol, dividindo em partes iguais e podem ser:\n",
        "- 1o quartil: 25% dos dados são valores menores ou iguais ao valor do primeiro quartil;\n",
        "- 2o quartil: (2o quartil = Md) 50% dos dados são valores menores ou iguais ao valor do segundo quartil;\n",
        "- 3o quartil: 75% dos dados são valores menores ou iguais ao valor do terceiro quartil."
      ],
      "metadata": {
        "id": "3YLOcWE7leOH"
      }
    },
    {
      "cell_type": "code",
      "source": [
        "baseDados['petal_length'].describe()"
      ],
      "metadata": {
        "colab": {
          "base_uri": "https://localhost:8080/"
        },
        "id": "gTd0RcVoxgQE",
        "outputId": "cc9411ce-153e-4be3-92e1-71605f11e1d8"
      },
      "execution_count": null,
      "outputs": [
        {
          "output_type": "execute_result",
          "data": {
            "text/plain": [
              "count    150.000000\n",
              "mean       3.758000\n",
              "std        1.765298\n",
              "min        1.000000\n",
              "25%        1.600000\n",
              "50%        4.350000\n",
              "75%        5.100000\n",
              "max        6.900000\n",
              "Name: petal_length, dtype: float64"
            ]
          },
          "metadata": {},
          "execution_count": 8
        }
      ]
    },
    {
      "cell_type": "code",
      "source": [
        "sns.boxplot(baseDados['petal_length'])"
      ],
      "metadata": {
        "colab": {
          "base_uri": "https://localhost:8080/",
          "height": 448
        },
        "id": "c10U5_r5xzrt",
        "outputId": "5bc2e557-3f34-4b4f-81f6-8ffe3359d1a0"
      },
      "execution_count": null,
      "outputs": [
        {
          "output_type": "execute_result",
          "data": {
            "text/plain": [
              "<Axes: >"
            ]
          },
          "metadata": {},
          "execution_count": 9
        },
        {
          "output_type": "display_data",
          "data": {
            "text/plain": [
              "<Figure size 640x480 with 1 Axes>"
            ],
            "image/png": "[encoded data removed]"
          },
          "metadata": {}
        }
      ]
    },
    {
      "cell_type": "markdown",
      "source": [
        "**MÓDULO 3 - MEDIDAS DE DISPERSÃO**\n",
        "\n",
        "As medidas de dispersão auxiliam as medidas de tendência central a descrever o conjunto de dados adequadamente. Indicam se os dados estão ou não próximos uns dos outros."
      ],
      "metadata": {
        "id": "gicM9fnA0E_I"
      }
    },
    {
      "cell_type": "markdown",
      "source": [
        "**Amplitude total**\n",
        "\n",
        "A amplitude total de um conjunto de dados é a diferença entre o maior e o menor valor observado."
      ],
      "metadata": {
        "id": "QnoaLZJW0l7k"
      }
    },
    {
      "cell_type": "code",
      "source": [
        "baseDados['sepal_length'].max() - baseDados['sepal_length'].min()"
      ],
      "metadata": {
        "colab": {
          "base_uri": "https://localhost:8080/"
        },
        "id": "A5-617K61OpC",
        "outputId": "35aeb634-bb44-4890-c113-28145f0fae6e"
      },
      "execution_count": null,
      "outputs": [
        {
          "output_type": "execute_result",
          "data": {
            "text/plain": [
              "3.6000000000000005"
            ]
          },
          "metadata": {},
          "execution_count": 10
        }
      ]
    },
    {
      "cell_type": "markdown",
      "source": [
        "**Amplitude Interquartílica**\n",
        "\n",
        "É a diferença entre o terceiro e o primeiro quartil. Esta medida é mais estável que a amplitude total por não considerar os valores mais extremos."
      ],
      "metadata": {
        "id": "akWbV2U803fD"
      }
    },
    {
      "cell_type": "code",
      "source": [
        "baseDados['sepal_length'].describe()[6:7].values - baseDados['sepal_length'].describe()[4:5].values"
      ],
      "metadata": {
        "colab": {
          "base_uri": "https://localhost:8080/"
        },
        "id": "dcMYPPHQ1PNH",
        "outputId": "4d54ec14-d92b-4430-8623-67e7075abf8f"
      },
      "execution_count": null,
      "outputs": [
        {
          "output_type": "execute_result",
          "data": {
            "text/plain": [
              "array([1.3])"
            ]
          },
          "metadata": {},
          "execution_count": 15
        }
      ]
    },
    {
      "cell_type": "markdown",
      "source": [
        "**Amplitude Semi-Interquartílica**\n",
        "\n",
        "É definida como a média aritmética da diferença entre a mediana e os quartis."
      ],
      "metadata": {
        "id": "A3XIFJ5Y1FNh"
      }
    },
    {
      "cell_type": "code",
      "source": [
        "baseDados['sepal_length'].describe()[6:7].values - baseDados['sepal_length'].describe()[4:5].values/2"
      ],
      "metadata": {
        "colab": {
          "base_uri": "https://localhost:8080/"
        },
        "id": "iq7zdw6Y1NMY",
        "outputId": "1ef00984-78f6-47ac-e48c-e48cc110bbe2"
      },
      "execution_count": null,
      "outputs": [
        {
          "output_type": "execute_result",
          "data": {
            "text/plain": [
              "array([3.85])"
            ]
          },
          "metadata": {},
          "execution_count": 16
        }
      ]
    },
    {
      "cell_type": "markdown",
      "source": [
        "**VARIÂNCIA**\n",
        "\n",
        "Uma medida de dispersão que mostra quão distantes os valores estão da média."
      ],
      "metadata": {
        "id": "qiKwRRUt2GAQ"
      }
    },
    {
      "cell_type": "code",
      "source": [
        "baseDados['sepal_length'].var()"
      ],
      "metadata": {
        "colab": {
          "base_uri": "https://localhost:8080/"
        },
        "id": "L_BP1Lhm2LIa",
        "outputId": "763c0263-d94c-41e3-bfd1-d666f8f52f90"
      },
      "execution_count": null,
      "outputs": [
        {
          "output_type": "execute_result",
          "data": {
            "text/plain": [
              "0.6856935123042507"
            ]
          },
          "metadata": {},
          "execution_count": 18
        }
      ]
    },
    {
      "cell_type": "markdown",
      "source": [
        "**DESVIO PADRÃO**\n",
        "\n",
        "É simplesmente o resultado positivo da raiz quadrada da variância."
      ],
      "metadata": {
        "id": "aXJfqpD02MB2"
      }
    },
    {
      "cell_type": "code",
      "source": [
        "baseDados['sepal_length'].std()"
      ],
      "metadata": {
        "colab": {
          "base_uri": "https://localhost:8080/"
        },
        "id": "AOFOJeRI2SoU",
        "outputId": "8185e610-626f-4741-e157-9edd35475be4"
      },
      "execution_count": null,
      "outputs": [
        {
          "output_type": "execute_result",
          "data": {
            "text/plain": [
              "0.828066127977863"
            ]
          },
          "metadata": {},
          "execution_count": 20
        }
      ]
    },
    {
      "cell_type": "markdown",
      "source": [
        "**MEDIDAS DE ASSIMETRIA**\n",
        "\n",
        "A medida de assimetria é um indicador da forma da distribuição dos dados. Ao construir uma distribuição de frequências e/ou um histograma, está-se buscando, também, identificar visualmente, a forma da distribuição dos dados.\n",
        "\n",
        "\n",
        "\n",
        "**Simétrica** se média = mediana = moda ou AS = 0;\n",
        "**Assimétrica** negativa se média < mediana < moda ou AS > 0;\n",
        "**Assimétrica** positiva se moda < mediana < média ou AS > 0."
      ],
      "metadata": {
        "id": "vhuRUHIG2Tdb"
      }
    },
    {
      "cell_type": "code",
      "source": [
        "baseDados['sepal_length'].skew()"
      ],
      "metadata": {
        "colab": {
          "base_uri": "https://localhost:8080/"
        },
        "id": "IW2vdeAx3Xqf",
        "outputId": "d2412bbb-b5f6-4357-8f50-56da766ef609"
      },
      "execution_count": null,
      "outputs": [
        {
          "output_type": "execute_result",
          "data": {
            "text/plain": [
              "0.3149109566369728"
            ]
          },
          "metadata": {},
          "execution_count": 21
        }
      ]
    },
    {
      "cell_type": "code",
      "source": [
        "sns.kdeplot(baseDados['sepal_length'])"
      ],
      "metadata": {
        "colab": {
          "base_uri": "https://localhost:8080/",
          "height": 468
        },
        "id": "ISBjqg10MHTk",
        "outputId": "e239bdcc-b7d6-4fc4-e6b5-981bbe05e14c"
      },
      "execution_count": null,
      "outputs": [
        {
          "output_type": "execute_result",
          "data": {
            "text/plain": [
              "<Axes: xlabel='sepal_length', ylabel='Density'>"
            ]
          },
          "metadata": {},
          "execution_count": 22
        },
        {
          "output_type": "display_data",
          "data": {
            "text/plain": [
              "<Figure size 640x480 with 1 Axes>"
            ],
            "image/png": "[encoded data removed]"
          },
          "metadata": {}
        }
      ]
    },
    {
      "cell_type": "markdown",
      "source": [
        "MEDIDAS DE CURTOSE\n",
        "\n",
        "É o grau de achatamento da distribuição, é um indicador da forma desta distribuição.\n",
        "\n",
        "\n",
        "LEPTOCÚRTICA: quando a distribuição apresenta uma curva de frequência bastante fechada, com os dados fortemente concentrados em torno do seu centro, K < 0,263;\n",
        "\n",
        "MESOCÚRTICA: quando os dados estão razoavelmente concentrados em torno de seu centro, k = 0,263;\n",
        "\n",
        "PLATICÚRTICA: quando a distribuição apresenta uma curva de frequência mais aberta, com os dados fracamente concentrados em torno de seu centro, K > 0,263."
      ],
      "metadata": {
        "id": "NjeVh9QJMpup"
      }
    },
    {
      "cell_type": "code",
      "source": [
        "baseDados['sepal_length'].kurtosis() # LELPTOCÚRTICA"
      ],
      "metadata": {
        "colab": {
          "base_uri": "https://localhost:8080/"
        },
        "id": "4vw56YwDMwmP",
        "outputId": "a0c88c50-f62b-452d-d28b-dc4c469ae49a"
      },
      "execution_count": null,
      "outputs": [
        {
          "output_type": "execute_result",
          "data": {
            "text/plain": [
              "-0.5520640413156395"
            ]
          },
          "metadata": {},
          "execution_count": 23
        }
      ]
    },
    {
      "cell_type": "markdown",
      "source": [
        "**MÓDULO 4 - CORRELAÇÃO**\n",
        "\n",
        "**Quando fazer anális de correlação?**\n",
        "\n",
        "Quando você tem uma hipótese de que o aumento ou a queda em uma variável estão associados à evolução de outra variável, por exemplo, se aumentar o desconto, as vendas também aumentam.\n"
      ],
      "metadata": {
        "id": "YFkeFUK6NiNS"
      }
    },
    {
      "cell_type": "markdown",
      "source": [
        "**Correlação de Pearson**\n",
        "\n",
        "O coeficiente de correlação de pearson pode ter um intervalo de valores de +1 a -1. Um valor de 0 indica que não há associação entre as duas variáveis. Um valor maior que 0 indica uma associação positiva. Isto é, a medida que o valor de uma variável aumenta, o valor da outra diminui."
      ],
      "metadata": {
        "id": "bBiCrLBSZpkD"
      }
    },
    {
      "cell_type": "code",
      "source": [
        "baseDados.corr()"
      ],
      "metadata": {
        "colab": {
          "base_uri": "https://localhost:8080/",
          "height": 175
        },
        "id": "hO5g3u99aSgW",
        "outputId": "fb6805bd-5e28-4d7d-8296-7a24b72d60be"
      },
      "execution_count": null,
      "outputs": [
        {
          "output_type": "execute_result",
          "data": {
            "text/plain": [
              "              sepal_length  sepal_width  petal_length  petal_width\n",
              "sepal_length      1.000000    -0.117570      0.871754     0.817941\n",
              "sepal_width      -0.117570     1.000000     -0.428440    -0.366126\n",
              "petal_length      0.871754    -0.428440      1.000000     0.962865\n",
              "petal_width       0.817941    -0.366126      0.962865     1.000000"
            ],
            "text/html": [
              "\n",
              "  <div id=\"df-bc8a7dd1-99c5-4d32-94c1-11006b93f99c\" class=\"colab-df-container\">\n",
              "    <div>\n",
              "<style scoped>\n",
              "    .dataframe tbody tr th:only-of-type {\n",
              "        vertical-align: middle;\n",
              "    }\n",
              "\n",
              "    .dataframe tbody tr th {\n",
              "        vertical-align: top;\n",
              "    }\n",
              "\n",
              "    .dataframe thead th {\n",
              "        text-align: right;\n",
              "    }\n",
              "</style>\n",
              "<table border=\"1\" class=\"dataframe\">\n",
              "  <thead>\n",
              "    <tr style=\"text-align: right;\">\n",
              "      <th></th>\n",
              "      <th>sepal_length</th>\n",
              "      <th>sepal_width</th>\n",
              "      <th>petal_length</th>\n",
              "      <th>petal_width</th>\n",
              "    </tr>\n",
              "  </thead>\n",
              "  <tbody>\n",
              "    <tr>\n",
              "      <th>sepal_length</th>\n",
              "      <td>1.000000</td>\n",
              "      <td>-0.117570</td>\n",
              "      <td>0.871754</td>\n",
              "      <td>0.817941</td>\n",
              "    </tr>\n",
              "    <tr>\n",
              "      <th>sepal_width</th>\n",
              "      <td>-0.117570</td>\n",
              "      <td>1.000000</td>\n",
              "      <td>-0.428440</td>\n",
              "      <td>-0.366126</td>\n",
              "    </tr>\n",
              "    <tr>\n",
              "      <th>petal_length</th>\n",
              "      <td>0.871754</td>\n",
              "      <td>-0.428440</td>\n",
              "      <td>1.000000</td>\n",
              "      <td>0.962865</td>\n",
              "    </tr>\n",
              "    <tr>\n",
              "      <th>petal_width</th>\n",
              "      <td>0.817941</td>\n",
              "      <td>-0.366126</td>\n",
              "      <td>0.962865</td>\n",
              "      <td>1.000000</td>\n",
              "    </tr>\n",
              "  </tbody>\n",
              "</table>\n",
              "</div>\n",
              "    <div class=\"colab-df-buttons\">\n",
              "\n",
              "  <div class=\"colab-df-container\">\n",
              "    <button class=\"colab-df-convert\" onclick=\"convertToInteractive('df-bc8a7dd1-99c5-4d32-94c1-11006b93f99c')\"\n",
              "            title=\"Convert this dataframe to an interactive table.\"\n",
              "            style=\"display:none;\">\n",
              "\n",
              "  <svg xmlns=\"http://www.w3.org/2000/svg\" height=\"24px\" viewBox=\"0 -960 960 960\">\n",
              "    <path d=\"M120-120v-720h720v720H120Zm60-500h600v-160H180v160Zm220 220h160v-160H400v160Zm0 220h160v-160H400v160ZM180-400h160v-160H180v160Zm440 0h160v-160H620v160ZM180-180h160v-160H180v160Zm440 0h160v-160H620v160Z\"/>\n",
              "  </svg>\n",
              "    </button>\n",
              "\n",
              "  <style>\n",
              "    .colab-df-container {\n",
              "      display:flex;\n",
              "      gap: 12px;\n",
              "    }\n",
              "\n",
              "    .colab-df-convert {\n",
              "      background-color: #E8F0FE;\n",
              "      border: none;\n",
              "      border-radius: 50%;\n",
              "      cursor: pointer;\n",
              "      display: none;\n",
              "      fill: #1967D2;\n",
              "      height: 32px;\n",
              "      padding: 0 0 0 0;\n",
              "      width: 32px;\n",
              "    }\n",
              "\n",
              "    .colab-df-convert:hover {\n",
              "      background-color: #E2EBFA;\n",
              "      box-shadow: 0px 1px 2px rgba(60, 64, 67, 0.3), 0px 1px 3px 1px rgba(60, 64, 67, 0.15);\n",
              "      fill: #174EA6;\n",
              "    }\n",
              "\n",
              "    .colab-df-buttons div {\n",
              "      margin-bottom: 4px;\n",
              "    }\n",
              "\n",
              "    [theme=dark] .colab-df-convert {\n",
              "      background-color: #3B4455;\n",
              "      fill: #D2E3FC;\n",
              "    }\n",
              "\n",
              "    [theme=dark] .colab-df-convert:hover {\n",
              "      background-color: #434B5C;\n",
              "      box-shadow: 0px 1px 3px 1px rgba(0, 0, 0, 0.15);\n",
              "      filter: drop-shadow(0px 1px 2px rgba(0, 0, 0, 0.3));\n",
              "      fill: #FFFFFF;\n",
              "    }\n",
              "  </style>\n",
              "\n",
              "    <script>\n",
              "      const buttonEl =\n",
              "        document.querySelector('#df-bc8a7dd1-99c5-4d32-94c1-11006b93f99c button.colab-df-convert');\n",
              "      buttonEl.style.display =\n",
              "        google.colab.kernel.accessAllowed ? 'block' : 'none';\n",
              "\n",
              "      async function convertToInteractive(key) {\n",
              "        const element = document.querySelector('#df-bc8a7dd1-99c5-4d32-94c1-11006b93f99c');\n",
              "        const dataTable =\n",
              "          await google.colab.kernel.invokeFunction('convertToInteractive',\n",
              "                                                    [key], {});\n",
              "        if (!dataTable) return;\n",
              "\n",
              "        const docLinkHtml = 'Like what you see? Visit the ' +\n",
              "          '<a target=\"_blank\" href=https://colab.research.google.com/notebooks/data_table.ipynb>data table notebook</a>'\n",
              "          + ' to learn more about interactive tables.';\n",
              "        element.innerHTML = '';\n",
              "        dataTable['output_type'] = 'display_data';\n",
              "        await google.colab.output.renderOutput(dataTable, element);\n",
              "        const docLink = document.createElement('div');\n",
              "        docLink.innerHTML = docLinkHtml;\n",
              "        element.appendChild(docLink);\n",
              "      }\n",
              "    </script>\n",
              "  </div>\n",
              "\n",
              "\n",
              "<div id=\"df-a8cf6ad8-3ca5-45b7-af53-4fa6ace4b19f\">\n",
              "  <button class=\"colab-df-quickchart\" onclick=\"quickchart('df-a8cf6ad8-3ca5-45b7-af53-4fa6ace4b19f')\"\n",
              "            title=\"Suggest charts\"\n",
              "            style=\"display:none;\">\n",
              "\n",
              "<svg xmlns=\"http://www.w3.org/2000/svg\" height=\"24px\"viewBox=\"0 0 24 24\"\n",
              "     width=\"24px\">\n",
              "    <g>\n",
              "        <path d=\"M19 3H5c-1.1 0-2 .9-2 2v14c0 1.1.9 2 2 2h14c1.1 0 2-.9 2-2V5c0-1.1-.9-2-2-2zM9 17H7v-7h2v7zm4 0h-2V7h2v10zm4 0h-2v-4h2v4z\"/>\n",
              "    </g>\n",
              "</svg>\n",
              "  </button>\n",
              "\n",
              "<style>\n",
              "  .colab-df-quickchart {\n",
              "      --bg-color: #E8F0FE;\n",
              "      --fill-color: #1967D2;\n",
              "      --hover-bg-color: #E2EBFA;\n",
              "      --hover-fill-color: #174EA6;\n",
              "      --disabled-fill-color: #AAA;\n",
              "      --disabled-bg-color: #DDD;\n",
              "  }\n",
              "\n",
              "  [theme=dark] .colab-df-quickchart {\n",
              "      --bg-color: #3B4455;\n",
              "      --fill-color: #D2E3FC;\n",
              "      --hover-bg-color: #434B5C;\n",
              "      --hover-fill-color: #FFFFFF;\n",
              "      --disabled-bg-color: #3B4455;\n",
              "      --disabled-fill-color: #666;\n",
              "  }\n",
              "\n",
              "  .colab-df-quickchart {\n",
              "    background-color: var(--bg-color);\n",
              "    border: none;\n",
              "    border-radius: 50%;\n",
              "    cursor: pointer;\n",
              "    display: none;\n",
              "    fill: var(--fill-color);\n",
              "    height: 32px;\n",
              "    padding: 0;\n",
              "    width: 32px;\n",
              "  }\n",
              "\n",
              "  .colab-df-quickchart:hover {\n",
              "    background-color: var(--hover-bg-color);\n",
              "    box-shadow: 0 1px 2px rgba(60, 64, 67, 0.3), 0 1px 3px 1px rgba(60, 64, 67, 0.15);\n",
              "    fill: var(--button-hover-fill-color);\n",
              "  }\n",
              "\n",
              "  .colab-df-quickchart-complete:disabled,\n",
              "  .colab-df-quickchart-complete:disabled:hover {\n",
              "    background-color: var(--disabled-bg-color);\n",
              "    fill: var(--disabled-fill-color);\n",
              "    box-shadow: none;\n",
              "  }\n",
              "\n",
              "  .colab-df-spinner {\n",
              "    border: 2px solid var(--fill-color);\n",
              "    border-color: transparent;\n",
              "    border-bottom-color: var(--fill-color);\n",
              "    animation:\n",
              "      spin 1s steps(1) infinite;\n",
              "  }\n",
              "\n",
              "  @keyframes spin {\n",
              "    0% {\n",
              "      border-color: transparent;\n",
              "      border-bottom-color: var(--fill-color);\n",
              "      border-left-color: var(--fill-color);\n",
              "    }\n",
              "    20% {\n",
              "      border-color: transparent;\n",
              "      border-left-color: var(--fill-color);\n",
              "      border-top-color: var(--fill-color);\n",
              "    }\n",
              "    30% {\n",
              "      border-color: transparent;\n",
              "      border-left-color: var(--fill-color);\n",
              "      border-top-color: var(--fill-color);\n",
              "      border-right-color: var(--fill-color);\n",
              "    }\n",
              "    40% {\n",
              "      border-color: transparent;\n",
              "      border-right-color: var(--fill-color);\n",
              "      border-top-color: var(--fill-color);\n",
              "    }\n",
              "    60% {\n",
              "      border-color: transparent;\n",
              "      border-right-color: var(--fill-color);\n",
              "    }\n",
              "    80% {\n",
              "      border-color: transparent;\n",
              "      border-right-color: var(--fill-color);\n",
              "      border-bottom-color: var(--fill-color);\n",
              "    }\n",
              "    90% {\n",
              "      border-color: transparent;\n",
              "      border-bottom-color: var(--fill-color);\n",
              "    }\n",
              "  }\n",
              "</style>\n",
              "\n",
              "  <script>\n",
              "    async function quickchart(key) {\n",
              "      const quickchartButtonEl =\n",
              "        document.querySelector('#' + key + ' button');\n",
              "      quickchartButtonEl.disabled = true;  // To prevent multiple clicks.\n",
              "      quickchartButtonEl.classList.add('colab-df-spinner');\n",
              "      try {\n",
              "        const charts = await google.colab.kernel.invokeFunction(\n",
              "            'suggestCharts', [key], {});\n",
              "      } catch (error) {\n",
              "        console.error('Error during call to suggestCharts:', error);\n",
              "      }\n",
              "      quickchartButtonEl.classList.remove('colab-df-spinner');\n",
              "      quickchartButtonEl.classList.add('colab-df-quickchart-complete');\n",
              "    }\n",
              "    (() => {\n",
              "      let quickchartButtonEl =\n",
              "        document.querySelector('#df-a8cf6ad8-3ca5-45b7-af53-4fa6ace4b19f button');\n",
              "      quickchartButtonEl.style.display =\n",
              "        google.colab.kernel.accessAllowed ? 'block' : 'none';\n",
              "    })();\n",
              "  </script>\n",
              "</div>\n",
              "\n",
              "    </div>\n",
              "  </div>\n"
            ]
          },
          "metadata": {},
          "execution_count": 24
        }
      ]
    },
    {
      "cell_type": "code",
      "source": [
        "sns.heatmap(baseDados.corr(), annot=True) # quando está mais linear"
      ],
      "metadata": {
        "colab": {
          "base_uri": "https://localhost:8080/",
          "height": 453
        },
        "id": "aGcdPRWcaxck",
        "outputId": "75f446a2-c078-4613-9d7c-aca1452cc9e5"
      },
      "execution_count": null,
      "outputs": [
        {
          "output_type": "execute_result",
          "data": {
            "text/plain": [
              "<Axes: >"
            ]
          },
          "metadata": {},
          "execution_count": 25
        },
        {
          "output_type": "display_data",
          "data": {
            "text/plain": [
              "<Figure size 640x480 with 2 Axes>"
            ],
            "image/png": "[encoded data removed]"
          },
          "metadata": {}
        }
      ]
    },
    {
      "cell_type": "code",
      "source": [
        "sns.scatterplot(data=baseDados, x='petal_length', y='petal_width')"
      ],
      "metadata": {
        "colab": {
          "base_uri": "https://localhost:8080/",
          "height": 468
        },
        "id": "sOQoX4t5bQbJ",
        "outputId": "b5ba8fc6-5636-4370-fff3-f2b446510970"
      },
      "execution_count": null,
      "outputs": [
        {
          "output_type": "execute_result",
          "data": {
            "text/plain": [
              "<Axes: xlabel='petal_length', ylabel='petal_width'>"
            ]
          },
          "metadata": {},
          "execution_count": 27
        },
        {
          "output_type": "display_data",
          "data": {
            "text/plain": [
              "<Figure size 640x480 with 1 Axes>"
            ],
            "image/png": "[encoded data removed]"
          },
          "metadata": {}
        }
      ]
    },
    {
      "cell_type": "markdown",
      "source": [
        "**CORRELAÇÃO SPEARMAN**\n",
        "\n",
        "Uma vez que a correlação de spearman segue uma lógica monotética, e não tem pressupostos lineares como na correlação de pearson, é possível utilizar o rs para relações não lineares."
      ],
      "metadata": {
        "id": "S4pXYP4FcQl6"
      }
    },
    {
      "cell_type": "code",
      "source": [
        "baseDados.corr('spearman')"
      ],
      "metadata": {
        "colab": {
          "base_uri": "https://localhost:8080/",
          "height": 175
        },
        "id": "liZKQNKtciZO",
        "outputId": "0349a659-dcad-407b-861e-acaaf54140aa"
      },
      "execution_count": null,
      "outputs": [
        {
          "output_type": "execute_result",
          "data": {
            "text/plain": [
              "              sepal_length  sepal_width  petal_length  petal_width\n",
              "sepal_length      1.000000    -0.166778      0.881898     0.834289\n",
              "sepal_width      -0.166778     1.000000     -0.309635    -0.289032\n",
              "petal_length      0.881898    -0.309635      1.000000     0.937667\n",
              "petal_width       0.834289    -0.289032      0.937667     1.000000"
            ],
            "text/html": [
              "\n",
              "  <div id=\"df-df403ed7-1814-4881-86ee-c2fc9e2f050e\" class=\"colab-df-container\">\n",
              "    <div>\n",
              "<style scoped>\n",
              "    .dataframe tbody tr th:only-of-type {\n",
              "        vertical-align: middle;\n",
              "    }\n",
              "\n",
              "    .dataframe tbody tr th {\n",
              "        vertical-align: top;\n",
              "    }\n",
              "\n",
              "    .dataframe thead th {\n",
              "        text-align: right;\n",
              "    }\n",
              "</style>\n",
              "<table border=\"1\" class=\"dataframe\">\n",
              "  <thead>\n",
              "    <tr style=\"text-align: right;\">\n",
              "      <th></th>\n",
              "      <th>sepal_length</th>\n",
              "      <th>sepal_width</th>\n",
              "      <th>petal_length</th>\n",
              "      <th>petal_width</th>\n",
              "    </tr>\n",
              "  </thead>\n",
              "  <tbody>\n",
              "    <tr>\n",
              "      <th>sepal_length</th>\n",
              "      <td>1.000000</td>\n",
              "      <td>-0.166778</td>\n",
              "      <td>0.881898</td>\n",
              "      <td>0.834289</td>\n",
              "    </tr>\n",
              "    <tr>\n",
              "      <th>sepal_width</th>\n",
              "      <td>-0.166778</td>\n",
              "      <td>1.000000</td>\n",
              "      <td>-0.309635</td>\n",
              "      <td>-0.289032</td>\n",
              "    </tr>\n",
              "    <tr>\n",
              "      <th>petal_length</th>\n",
              "      <td>0.881898</td>\n",
              "      <td>-0.309635</td>\n",
              "      <td>1.000000</td>\n",
              "      <td>0.937667</td>\n",
              "    </tr>\n",
              "    <tr>\n",
              "      <th>petal_width</th>\n",
              "      <td>0.834289</td>\n",
              "      <td>-0.289032</td>\n",
              "      <td>0.937667</td>\n",
              "      <td>1.000000</td>\n",
              "    </tr>\n",
              "  </tbody>\n",
              "</table>\n",
              "</div>\n",
              "    <div class=\"colab-df-buttons\">\n",
              "\n",
              "  <div class=\"colab-df-container\">\n",
              "    <button class=\"colab-df-convert\" onclick=\"convertToInteractive('df-df403ed7-1814-4881-86ee-c2fc9e2f050e')\"\n",
              "            title=\"Convert this dataframe to an interactive table.\"\n",
              "            style=\"display:none;\">\n",
              "\n",
              "  <svg xmlns=\"http://www.w3.org/2000/svg\" height=\"24px\" viewBox=\"0 -960 960 960\">\n",
              "    <path d=\"M120-120v-720h720v720H120Zm60-500h600v-160H180v160Zm220 220h160v-160H400v160Zm0 220h160v-160H400v160ZM180-400h160v-160H180v160Zm440 0h160v-160H620v160ZM180-180h160v-160H180v160Zm440 0h160v-160H620v160Z\"/>\n",
              "  </svg>\n",
              "    </button>\n",
              "\n",
              "  <style>\n",
              "    .colab-df-container {\n",
              "      display:flex;\n",
              "      gap: 12px;\n",
              "    }\n",
              "\n",
              "    .colab-df-convert {\n",
              "      background-color: #E8F0FE;\n",
              "      border: none;\n",
              "      border-radius: 50%;\n",
              "      cursor: pointer;\n",
              "      display: none;\n",
              "      fill: #1967D2;\n",
              "      height: 32px;\n",
              "      padding: 0 0 0 0;\n",
              "      width: 32px;\n",
              "    }\n",
              "\n",
              "    .colab-df-convert:hover {\n",
              "      background-color: #E2EBFA;\n",
              "      box-shadow: 0px 1px 2px rgba(60, 64, 67, 0.3), 0px 1px 3px 1px rgba(60, 64, 67, 0.15);\n",
              "      fill: #174EA6;\n",
              "    }\n",
              "\n",
              "    .colab-df-buttons div {\n",
              "      margin-bottom: 4px;\n",
              "    }\n",
              "\n",
              "    [theme=dark] .colab-df-convert {\n",
              "      background-color: #3B4455;\n",
              "      fill: #D2E3FC;\n",
              "    }\n",
              "\n",
              "    [theme=dark] .colab-df-convert:hover {\n",
              "      background-color: #434B5C;\n",
              "      box-shadow: 0px 1px 3px 1px rgba(0, 0, 0, 0.15);\n",
              "      filter: drop-shadow(0px 1px 2px rgba(0, 0, 0, 0.3));\n",
              "      fill: #FFFFFF;\n",
              "    }\n",
              "  </style>\n",
              "\n",
              "    <script>\n",
              "      const buttonEl =\n",
              "        document.querySelector('#df-df403ed7-1814-4881-86ee-c2fc9e2f050e button.colab-df-convert');\n",
              "      buttonEl.style.display =\n",
              "        google.colab.kernel.accessAllowed ? 'block' : 'none';\n",
              "\n",
              "      async function convertToInteractive(key) {\n",
              "        const element = document.querySelector('#df-df403ed7-1814-4881-86ee-c2fc9e2f050e');\n",
              "        const dataTable =\n",
              "          await google.colab.kernel.invokeFunction('convertToInteractive',\n",
              "                                                    [key], {});\n",
              "        if (!dataTable) return;\n",
              "\n",
              "        const docLinkHtml = 'Like what you see? Visit the ' +\n",
              "          '<a target=\"_blank\" href=https://colab.research.google.com/notebooks/data_table.ipynb>data table notebook</a>'\n",
              "          + ' to learn more about interactive tables.';\n",
              "        element.innerHTML = '';\n",
              "        dataTable['output_type'] = 'display_data';\n",
              "        await google.colab.output.renderOutput(dataTable, element);\n",
              "        const docLink = document.createElement('div');\n",
              "        docLink.innerHTML = docLinkHtml;\n",
              "        element.appendChild(docLink);\n",
              "      }\n",
              "    </script>\n",
              "  </div>\n",
              "\n",
              "\n",
              "<div id=\"df-f9edd11c-5714-4896-888b-6a716dd618b1\">\n",
              "  <button class=\"colab-df-quickchart\" onclick=\"quickchart('df-f9edd11c-5714-4896-888b-6a716dd618b1')\"\n",
              "            title=\"Suggest charts\"\n",
              "            style=\"display:none;\">\n",
              "\n",
              "<svg xmlns=\"http://www.w3.org/2000/svg\" height=\"24px\"viewBox=\"0 0 24 24\"\n",
              "     width=\"24px\">\n",
              "    <g>\n",
              "        <path d=\"M19 3H5c-1.1 0-2 .9-2 2v14c0 1.1.9 2 2 2h14c1.1 0 2-.9 2-2V5c0-1.1-.9-2-2-2zM9 17H7v-7h2v7zm4 0h-2V7h2v10zm4 0h-2v-4h2v4z\"/>\n",
              "    </g>\n",
              "</svg>\n",
              "  </button>\n",
              "\n",
              "<style>\n",
              "  .colab-df-quickchart {\n",
              "      --bg-color: #E8F0FE;\n",
              "      --fill-color: #1967D2;\n",
              "      --hover-bg-color: #E2EBFA;\n",
              "      --hover-fill-color: #174EA6;\n",
              "      --disabled-fill-color: #AAA;\n",
              "      --disabled-bg-color: #DDD;\n",
              "  }\n",
              "\n",
              "  [theme=dark] .colab-df-quickchart {\n",
              "      --bg-color: #3B4455;\n",
              "      --fill-color: #D2E3FC;\n",
              "      --hover-bg-color: #434B5C;\n",
              "      --hover-fill-color: #FFFFFF;\n",
              "      --disabled-bg-color: #3B4455;\n",
              "      --disabled-fill-color: #666;\n",
              "  }\n",
              "\n",
              "  .colab-df-quickchart {\n",
              "    background-color: var(--bg-color);\n",
              "    border: none;\n",
              "    border-radius: 50%;\n",
              "    cursor: pointer;\n",
              "    display: none;\n",
              "    fill: var(--fill-color);\n",
              "    height: 32px;\n",
              "    padding: 0;\n",
              "    width: 32px;\n",
              "  }\n",
              "\n",
              "  .colab-df-quickchart:hover {\n",
              "    background-color: var(--hover-bg-color);\n",
              "    box-shadow: 0 1px 2px rgba(60, 64, 67, 0.3), 0 1px 3px 1px rgba(60, 64, 67, 0.15);\n",
              "    fill: var(--button-hover-fill-color);\n",
              "  }\n",
              "\n",
              "  .colab-df-quickchart-complete:disabled,\n",
              "  .colab-df-quickchart-complete:disabled:hover {\n",
              "    background-color: var(--disabled-bg-color);\n",
              "    fill: var(--disabled-fill-color);\n",
              "    box-shadow: none;\n",
              "  }\n",
              "\n",
              "  .colab-df-spinner {\n",
              "    border: 2px solid var(--fill-color);\n",
              "    border-color: transparent;\n",
              "    border-bottom-color: var(--fill-color);\n",
              "    animation:\n",
              "      spin 1s steps(1) infinite;\n",
              "  }\n",
              "\n",
              "  @keyframes spin {\n",
              "    0% {\n",
              "      border-color: transparent;\n",
              "      border-bottom-color: var(--fill-color);\n",
              "      border-left-color: var(--fill-color);\n",
              "    }\n",
              "    20% {\n",
              "      border-color: transparent;\n",
              "      border-left-color: var(--fill-color);\n",
              "      border-top-color: var(--fill-color);\n",
              "    }\n",
              "    30% {\n",
              "      border-color: transparent;\n",
              "      border-left-color: var(--fill-color);\n",
              "      border-top-color: var(--fill-color);\n",
              "      border-right-color: var(--fill-color);\n",
              "    }\n",
              "    40% {\n",
              "      border-color: transparent;\n",
              "      border-right-color: var(--fill-color);\n",
              "      border-top-color: var(--fill-color);\n",
              "    }\n",
              "    60% {\n",
              "      border-color: transparent;\n",
              "      border-right-color: var(--fill-color);\n",
              "    }\n",
              "    80% {\n",
              "      border-color: transparent;\n",
              "      border-right-color: var(--fill-color);\n",
              "      border-bottom-color: var(--fill-color);\n",
              "    }\n",
              "    90% {\n",
              "      border-color: transparent;\n",
              "      border-bottom-color: var(--fill-color);\n",
              "    }\n",
              "  }\n",
              "</style>\n",
              "\n",
              "  <script>\n",
              "    async function quickchart(key) {\n",
              "      const quickchartButtonEl =\n",
              "        document.querySelector('#' + key + ' button');\n",
              "      quickchartButtonEl.disabled = true;  // To prevent multiple clicks.\n",
              "      quickchartButtonEl.classList.add('colab-df-spinner');\n",
              "      try {\n",
              "        const charts = await google.colab.kernel.invokeFunction(\n",
              "            'suggestCharts', [key], {});\n",
              "      } catch (error) {\n",
              "        console.error('Error during call to suggestCharts:', error);\n",
              "      }\n",
              "      quickchartButtonEl.classList.remove('colab-df-spinner');\n",
              "      quickchartButtonEl.classList.add('colab-df-quickchart-complete');\n",
              "    }\n",
              "    (() => {\n",
              "      let quickchartButtonEl =\n",
              "        document.querySelector('#df-f9edd11c-5714-4896-888b-6a716dd618b1 button');\n",
              "      quickchartButtonEl.style.display =\n",
              "        google.colab.kernel.accessAllowed ? 'block' : 'none';\n",
              "    })();\n",
              "  </script>\n",
              "</div>\n",
              "\n",
              "    </div>\n",
              "  </div>\n"
            ]
          },
          "metadata": {},
          "execution_count": 28
        }
      ]
    },
    {
      "cell_type": "code",
      "source": [
        "sns.heatmap(baseDados.corr('spearman'), annot=True)"
      ],
      "metadata": {
        "colab": {
          "base_uri": "https://localhost:8080/",
          "height": 453
        },
        "id": "3PncHddZczPF",
        "outputId": "af8e5904-cebf-45ef-88a2-ba24ae50cafb"
      },
      "execution_count": null,
      "outputs": [
        {
          "output_type": "execute_result",
          "data": {
            "text/plain": [
              "<Axes: >"
            ]
          },
          "metadata": {},
          "execution_count": 29
        },
        {
          "output_type": "display_data",
          "data": {
            "text/plain": [
              "<Figure size 640x480 with 2 Axes>"
            ],
            "image/png": "[encoded data removed]"
          },
          "metadata": {}
        }
      ]
    },
    {
      "cell_type": "code",
      "source": [
        "sns.scatterplot(data=baseDados, x='petal_length', y='petal_width')"
      ],
      "metadata": {
        "colab": {
          "base_uri": "https://localhost:8080/",
          "height": 468
        },
        "id": "_rNzsi65c575",
        "outputId": "a650ba38-d6a1-4b34-e609-53a81972a1e8"
      },
      "execution_count": null,
      "outputs": [
        {
          "output_type": "execute_result",
          "data": {
            "text/plain": [
              "<Axes: xlabel='petal_length', ylabel='petal_width'>"
            ]
          },
          "metadata": {},
          "execution_count": 30
        },
        {
          "output_type": "display_data",
          "data": {
            "text/plain": [
              "<Figure size 640x480 with 1 Axes>"
            ],
            "image/png": "[encoded data removed]"
          },
          "metadata": {}
        }
      ]
    },
    {
      "cell_type": "markdown",
      "source": [
        "**NUMPY**\n",
        "\n",
        "Fornece um grande conjunto de funções e operações de biblioteca que ajudam os programadores a executar facilmente os cálculos numéricos.\n",
        "\n",
        "Mas, em numpy, as dimensões são chamadas de eixos. O número de eixos é classificado. Em termos mais simples, quando você tem mais de uma matriz unidimensional, então o conceito do eixo surge. Por exemplo, a matriz 2-D tem dois eixos."
      ],
      "metadata": {
        "id": "X3_iw86vdI6_"
      }
    },
    {
      "cell_type": "code",
      "source": [
        "# importar a lib > np tem um processamento melhor do que o pandas\n",
        "import numpy as np"
      ],
      "metadata": {
        "id": "7X1QyNGBdYwS"
      },
      "execution_count": 1,
      "outputs": []
    },
    {
      "cell_type": "code",
      "source": [
        "# versão\n",
        "print(np.__version__)"
      ],
      "metadata": {
        "id": "3Dzv0IK3d0kN",
        "colab": {
          "base_uri": "https://localhost:8080/"
        },
        "outputId": "5e8f6d34-6165-4475-b972-9509361b56f4"
      },
      "execution_count": 2,
      "outputs": [
        {
          "output_type": "stream",
          "name": "stdout",
          "text": [
            "1.23.5\n"
          ]
        }
      ]
    },
    {
      "cell_type": "code",
      "source": [
        "# criar uma matriz de 1 dimensão (1D)\n",
        "arrayUmaDimensao = np.array([1,2,3,4,5,6])\n",
        "arrayUmaDimensao"
      ],
      "metadata": {
        "colab": {
          "base_uri": "https://localhost:8080/"
        },
        "id": "XLe33dHNbBpb",
        "outputId": "75426d38-308c-459d-974c-f2e2dc6f9e69"
      },
      "execution_count": 4,
      "outputs": [
        {
          "output_type": "execute_result",
          "data": {
            "text/plain": [
              "array([1, 2, 3, 4, 5, 6])"
            ]
          },
          "metadata": {},
          "execution_count": 4
        }
      ]
    },
    {
      "cell_type": "code",
      "source": [
        "# tipo de dado\n",
        "type(arrayUmaDimensao) #ndarray"
      ],
      "metadata": {
        "colab": {
          "base_uri": "https://localhost:8080/"
        },
        "id": "aghNxFD6bGVw",
        "outputId": "01c4756f-ace2-41ff-d00d-6b72f08ab333"
      },
      "execution_count": 5,
      "outputs": [
        {
          "output_type": "execute_result",
          "data": {
            "text/plain": [
              "numpy.ndarray"
            ]
          },
          "metadata": {},
          "execution_count": 5
        }
      ]
    },
    {
      "cell_type": "code",
      "source": [
        "# criar uma matriz de 2 dimensões (2D)\n",
        "arrayDuasDimensoes = np.array([\n",
        "                              [1,2,3,4,5,6],\n",
        "                              [7,8,9,10,11,12]\n",
        "                              ]\n",
        "                             )\n",
        "arrayDuasDimensoes"
      ],
      "metadata": {
        "colab": {
          "base_uri": "https://localhost:8080/"
        },
        "id": "ODbVL-gWbP_9",
        "outputId": "3f4b068d-e60c-4daf-fd24-0dff844c0ac0"
      },
      "execution_count": 6,
      "outputs": [
        {
          "output_type": "execute_result",
          "data": {
            "text/plain": [
              "array([[ 1,  2,  3,  4,  5,  6],\n",
              "       [ 7,  8,  9, 10, 11, 12]])"
            ]
          },
          "metadata": {},
          "execution_count": 6
        }
      ]
    },
    {
      "cell_type": "code",
      "source": [
        "# criar uma matriz de 3 dimensões (3D)\n",
        "arrayTresDimensoes = np.array([\n",
        "                              [1,2,3,4,5,6],\n",
        "                              [7,8,9,10,11,12],\n",
        "                              [13,14,15,16,17,18]\n",
        "                              ]\n",
        "                             )\n",
        "arrayTresDimensoes"
      ],
      "metadata": {
        "colab": {
          "base_uri": "https://localhost:8080/"
        },
        "id": "z_U2-Q-Ybn-d",
        "outputId": "55f8aab0-d4e2-446b-f61d-d05750470d6b"
      },
      "execution_count": 7,
      "outputs": [
        {
          "output_type": "execute_result",
          "data": {
            "text/plain": [
              "array([[ 1,  2,  3,  4,  5,  6],\n",
              "       [ 7,  8,  9, 10, 11, 12],\n",
              "       [13, 14, 15, 16, 17, 18]])"
            ]
          },
          "metadata": {},
          "execution_count": 7
        }
      ]
    },
    {
      "cell_type": "markdown",
      "source": [
        "**TESTE DE PROCESSAMENTO NUMPY**"
      ],
      "metadata": {
        "id": "Z1ybfd3Pb6_n"
      }
    },
    {
      "cell_type": "code",
      "source": [
        "estressandoNumPy1 = np.arange(10)\n",
        "estressandoNumPy2 = np.arange(100)\n",
        "estressandoNumPy3 = np.arange(1000)\n",
        "estressandoNumPy4 = np.arange(10000)\n",
        "estressandoNumPy5 = np.arange(100000)\n",
        "estressandoNumPy6 = np.arange(50000000)"
      ],
      "metadata": {
        "id": "yEjUQAN4b9kO"
      },
      "execution_count": 21,
      "outputs": []
    },
    {
      "cell_type": "code",
      "source": [
        "# 1o teste\n",
        "%time for loop in estressandoNumPy1: pass"
      ],
      "metadata": {
        "colab": {
          "base_uri": "https://localhost:8080/"
        },
        "id": "SAOy886ecM5O",
        "outputId": "3d32ad3f-50e9-4b97-ebde-52816c10fc58"
      },
      "execution_count": 11,
      "outputs": [
        {
          "output_type": "stream",
          "name": "stdout",
          "text": [
            "CPU times: user 20 µs, sys: 0 ns, total: 20 µs\n",
            "Wall time: 24.1 µs\n"
          ]
        }
      ]
    },
    {
      "cell_type": "code",
      "source": [
        "# 2o teste\n",
        "%time for loop in estressandoNumPy2: pass"
      ],
      "metadata": {
        "colab": {
          "base_uri": "https://localhost:8080/"
        },
        "id": "0n43ysRzcaxw",
        "outputId": "d1be6473-1459-4bf3-e0be-81b525b2f754"
      },
      "execution_count": 12,
      "outputs": [
        {
          "output_type": "stream",
          "name": "stdout",
          "text": [
            "CPU times: user 51 µs, sys: 0 ns, total: 51 µs\n",
            "Wall time: 55.1 µs\n"
          ]
        }
      ]
    },
    {
      "cell_type": "code",
      "source": [
        "# 3o teste\n",
        "%time for loop in estressandoNumPy3: pass"
      ],
      "metadata": {
        "colab": {
          "base_uri": "https://localhost:8080/"
        },
        "id": "Dtq3BZ-Tcec6",
        "outputId": "408fbf03-0af0-49dc-a48c-5d3d1889acfe"
      },
      "execution_count": 13,
      "outputs": [
        {
          "output_type": "stream",
          "name": "stdout",
          "text": [
            "CPU times: user 133 µs, sys: 0 ns, total: 133 µs\n",
            "Wall time: 138 µs\n"
          ]
        }
      ]
    },
    {
      "cell_type": "code",
      "source": [
        "# 4o teste\n",
        "%time for loop in estressandoNumPy4: pass"
      ],
      "metadata": {
        "colab": {
          "base_uri": "https://localhost:8080/"
        },
        "id": "wUxu2fyAcg_T",
        "outputId": "88a46683-a791-4747-c884-ac8003bc83a1"
      },
      "execution_count": 14,
      "outputs": [
        {
          "output_type": "stream",
          "name": "stdout",
          "text": [
            "CPU times: user 1.58 ms, sys: 0 ns, total: 1.58 ms\n",
            "Wall time: 1.59 ms\n"
          ]
        }
      ]
    },
    {
      "cell_type": "code",
      "source": [
        "# 5o teste\n",
        "%time for loop in estressandoNumPy5: pass"
      ],
      "metadata": {
        "colab": {
          "base_uri": "https://localhost:8080/"
        },
        "id": "aL63Ot7qcnGu",
        "outputId": "7b914735-6f27-408f-e1a9-78fe9dc7a8ed"
      },
      "execution_count": 16,
      "outputs": [
        {
          "output_type": "stream",
          "name": "stdout",
          "text": [
            "CPU times: user 13.2 ms, sys: 0 ns, total: 13.2 ms\n",
            "Wall time: 13.3 ms\n"
          ]
        }
      ]
    },
    {
      "cell_type": "code",
      "source": [
        "# 6o teste > 50 FUCKING MILHÕES de dados em 5 (quase 6) segundos\n",
        "%time for loop in estressandoNumPy6: pass"
      ],
      "metadata": {
        "colab": {
          "base_uri": "https://localhost:8080/"
        },
        "id": "2EBone-WcoT2",
        "outputId": "fbe1b906-6e98-4b55-e505-8c88d4fae3bf"
      },
      "execution_count": 22,
      "outputs": [
        {
          "output_type": "stream",
          "name": "stdout",
          "text": [
            "CPU times: user 5.69 s, sys: 104 µs, total: 5.69 s\n",
            "Wall time: 5.86 s\n"
          ]
        }
      ]
    },
    {
      "cell_type": "markdown",
      "source": [
        "*para você ter 50 milhões de registros no excel, você precisaria de 16 abas para conseguir ter todos eles.*"
      ],
      "metadata": {
        "id": "hsVF2-X0dXTa"
      }
    },
    {
      "cell_type": "code",
      "source": [
        "# acessar arrays\n",
        "print(estressandoNumPy1)\n",
        "estressandoNumPy1[2:]"
      ],
      "metadata": {
        "colab": {
          "base_uri": "https://localhost:8080/"
        },
        "id": "u5rOLEPrds6Q",
        "outputId": "50edae5d-dab1-4e04-da2a-2213fad52efe"
      },
      "execution_count": 33,
      "outputs": [
        {
          "output_type": "stream",
          "name": "stdout",
          "text": [
            "[0 1 2 3 4 5 6 7 8 9]\n"
          ]
        },
        {
          "output_type": "execute_result",
          "data": {
            "text/plain": [
              "array([2, 3, 4, 5, 6, 7, 8, 9])"
            ]
          },
          "metadata": {},
          "execution_count": 33
        }
      ]
    },
    {
      "cell_type": "code",
      "source": [
        "# operações\n",
        "print(estressandoNumPy1[0] + estressandoNumPy1[1])\n",
        "print(estressandoNumPy1[2] - estressandoNumPy1[3])\n",
        "print(estressandoNumPy1[4] * estressandoNumPy1[5])\n",
        "print(estressandoNumPy1[6] / estressandoNumPy1[7])"
      ],
      "metadata": {
        "colab": {
          "base_uri": "https://localhost:8080/"
        },
        "id": "jg0-XDYyg7Pj",
        "outputId": "ee6864cc-d898-4ca2-ec10-ca77d35ace1f"
      },
      "execution_count": 36,
      "outputs": [
        {
          "output_type": "stream",
          "name": "stdout",
          "text": [
            "1\n",
            "-1\n",
            "20\n",
            "0.8571428571428571\n"
          ]
        }
      ]
    },
    {
      "cell_type": "code",
      "source": [
        "# condições\n",
        "print(estressandoNumPy1[0] >= estressandoNumPy1[1])\n",
        "print(estressandoNumPy1[0] <= estressandoNumPy1[1])\n",
        "print(estressandoNumPy1[0] != estressandoNumPy1[1])\n",
        "print(estressandoNumPy1[0] == estressandoNumPy1[1])"
      ],
      "metadata": {
        "colab": {
          "base_uri": "https://localhost:8080/"
        },
        "id": "0mMo5IDUhRNT",
        "outputId": "273238f8-86a2-4238-9013-01f6e2ab855f"
      },
      "execution_count": 37,
      "outputs": [
        {
          "output_type": "stream",
          "name": "stdout",
          "text": [
            "False\n",
            "True\n",
            "True\n",
            "False\n"
          ]
        }
      ]
    },
    {
      "cell_type": "code",
      "source": [
        "# verificar dimensões\n",
        "print(estressandoNumPy1.shape)\n",
        "print(estressandoNumPy2.shape)\n",
        "print(estressandoNumPy3.shape)\n",
        "print(estressandoNumPy4.shape)\n",
        "print(estressandoNumPy5.shape)\n",
        "print(estressandoNumPy6.shape)"
      ],
      "metadata": {
        "colab": {
          "base_uri": "https://localhost:8080/"
        },
        "id": "_F-B2ir3hdXg",
        "outputId": "ebf95b08-e39d-40ee-82d3-5a4e2cb20661"
      },
      "execution_count": 38,
      "outputs": [
        {
          "output_type": "stream",
          "name": "stdout",
          "text": [
            "(10,)\n",
            "(100,)\n",
            "(1000,)\n",
            "(10000,)\n",
            "(100000,)\n",
            "(50000000,)\n"
          ]
        }
      ]
    },
    {
      "cell_type": "code",
      "source": [
        "# loops\n",
        "for loop in estressandoNumPy1:\n",
        "  print(loop)"
      ],
      "metadata": {
        "colab": {
          "base_uri": "https://localhost:8080/"
        },
        "id": "lc90BbbBhqAr",
        "outputId": "5671d680-d909-4ba4-bb85-7646dd9adaa1"
      },
      "execution_count": 39,
      "outputs": [
        {
          "output_type": "stream",
          "name": "stdout",
          "text": [
            "0\n",
            "1\n",
            "2\n",
            "3\n",
            "4\n",
            "5\n",
            "6\n",
            "7\n",
            "8\n",
            "9\n"
          ]
        }
      ]
    },
    {
      "cell_type": "code",
      "source": [
        "# loops > para acessar registros de 2 dimensões ou mais, é necessário mais loops\n",
        "array2D = ([[1,2,3,4,5],\n",
        "            [6,7,8,9,10]])\n",
        "\n",
        "for fileiras in array2D:\n",
        "  for registro in fileiras:\n",
        "      print(registro, end=' | ')"
      ],
      "metadata": {
        "colab": {
          "base_uri": "https://localhost:8080/"
        },
        "id": "mDx5OH4uhypJ",
        "outputId": "99158539-1216-4975-a2f8-c9d386a8f0b8"
      },
      "execution_count": 49,
      "outputs": [
        {
          "output_type": "stream",
          "name": "stdout",
          "text": [
            "1 | 2 | 3 | 4 | 5 | 6 | 7 | 8 | 9 | 10 | "
          ]
        }
      ]
    },
    {
      "cell_type": "code",
      "source": [
        "# posso criar os arrays em dataframes\n",
        "import pandas as pd\n",
        "\n",
        "pd.DataFrame(array2D, columns=['C1', 'C2', 'C3', 'C4', 'C5'])"
      ],
      "metadata": {
        "colab": {
          "base_uri": "https://localhost:8080/",
          "height": 112
        },
        "id": "lHK8nhB7i8_t",
        "outputId": "6fe71c7c-f9b4-477c-eddd-ad5457730a3c"
      },
      "execution_count": 56,
      "outputs": [
        {
          "output_type": "execute_result",
          "data": {
            "text/plain": [
              "   C1  C2  C3  C4  C5\n",
              "0   1   2   3   4   5\n",
              "1   6   7   8   9  10"
            ],
            "text/html": [
              "\n",
              "  <div id=\"df-810b51f6-65d8-4e06-977a-4153eaf18378\" class=\"colab-df-container\">\n",
              "    <div>\n",
              "<style scoped>\n",
              "    .dataframe tbody tr th:only-of-type {\n",
              "        vertical-align: middle;\n",
              "    }\n",
              "\n",
              "    .dataframe tbody tr th {\n",
              "        vertical-align: top;\n",
              "    }\n",
              "\n",
              "    .dataframe thead th {\n",
              "        text-align: right;\n",
              "    }\n",
              "</style>\n",
              "<table border=\"1\" class=\"dataframe\">\n",
              "  <thead>\n",
              "    <tr style=\"text-align: right;\">\n",
              "      <th></th>\n",
              "      <th>C1</th>\n",
              "      <th>C2</th>\n",
              "      <th>C3</th>\n",
              "      <th>C4</th>\n",
              "      <th>C5</th>\n",
              "    </tr>\n",
              "  </thead>\n",
              "  <tbody>\n",
              "    <tr>\n",
              "      <th>0</th>\n",
              "      <td>1</td>\n",
              "      <td>2</td>\n",
              "      <td>3</td>\n",
              "      <td>4</td>\n",
              "      <td>5</td>\n",
              "    </tr>\n",
              "    <tr>\n",
              "      <th>1</th>\n",
              "      <td>6</td>\n",
              "      <td>7</td>\n",
              "      <td>8</td>\n",
              "      <td>9</td>\n",
              "      <td>10</td>\n",
              "    </tr>\n",
              "  </tbody>\n",
              "</table>\n",
              "</div>\n",
              "    <div class=\"colab-df-buttons\">\n",
              "\n",
              "  <div class=\"colab-df-container\">\n",
              "    <button class=\"colab-df-convert\" onclick=\"convertToInteractive('df-810b51f6-65d8-4e06-977a-4153eaf18378')\"\n",
              "            title=\"Convert this dataframe to an interactive table.\"\n",
              "            style=\"display:none;\">\n",
              "\n",
              "  <svg xmlns=\"http://www.w3.org/2000/svg\" height=\"24px\" viewBox=\"0 -960 960 960\">\n",
              "    <path d=\"M120-120v-720h720v720H120Zm60-500h600v-160H180v160Zm220 220h160v-160H400v160Zm0 220h160v-160H400v160ZM180-400h160v-160H180v160Zm440 0h160v-160H620v160ZM180-180h160v-160H180v160Zm440 0h160v-160H620v160Z\"/>\n",
              "  </svg>\n",
              "    </button>\n",
              "\n",
              "  <style>\n",
              "    .colab-df-container {\n",
              "      display:flex;\n",
              "      gap: 12px;\n",
              "    }\n",
              "\n",
              "    .colab-df-convert {\n",
              "      background-color: #E8F0FE;\n",
              "      border: none;\n",
              "      border-radius: 50%;\n",
              "      cursor: pointer;\n",
              "      display: none;\n",
              "      fill: #1967D2;\n",
              "      height: 32px;\n",
              "      padding: 0 0 0 0;\n",
              "      width: 32px;\n",
              "    }\n",
              "\n",
              "    .colab-df-convert:hover {\n",
              "      background-color: #E2EBFA;\n",
              "      box-shadow: 0px 1px 2px rgba(60, 64, 67, 0.3), 0px 1px 3px 1px rgba(60, 64, 67, 0.15);\n",
              "      fill: #174EA6;\n",
              "    }\n",
              "\n",
              "    .colab-df-buttons div {\n",
              "      margin-bottom: 4px;\n",
              "    }\n",
              "\n",
              "    [theme=dark] .colab-df-convert {\n",
              "      background-color: #3B4455;\n",
              "      fill: #D2E3FC;\n",
              "    }\n",
              "\n",
              "    [theme=dark] .colab-df-convert:hover {\n",
              "      background-color: #434B5C;\n",
              "      box-shadow: 0px 1px 3px 1px rgba(0, 0, 0, 0.15);\n",
              "      filter: drop-shadow(0px 1px 2px rgba(0, 0, 0, 0.3));\n",
              "      fill: #FFFFFF;\n",
              "    }\n",
              "  </style>\n",
              "\n",
              "    <script>\n",
              "      const buttonEl =\n",
              "        document.querySelector('#df-810b51f6-65d8-4e06-977a-4153eaf18378 button.colab-df-convert');\n",
              "      buttonEl.style.display =\n",
              "        google.colab.kernel.accessAllowed ? 'block' : 'none';\n",
              "\n",
              "      async function convertToInteractive(key) {\n",
              "        const element = document.querySelector('#df-810b51f6-65d8-4e06-977a-4153eaf18378');\n",
              "        const dataTable =\n",
              "          await google.colab.kernel.invokeFunction('convertToInteractive',\n",
              "                                                    [key], {});\n",
              "        if (!dataTable) return;\n",
              "\n",
              "        const docLinkHtml = 'Like what you see? Visit the ' +\n",
              "          '<a target=\"_blank\" href=https://colab.research.google.com/notebooks/data_table.ipynb>data table notebook</a>'\n",
              "          + ' to learn more about interactive tables.';\n",
              "        element.innerHTML = '';\n",
              "        dataTable['output_type'] = 'display_data';\n",
              "        await google.colab.output.renderOutput(dataTable, element);\n",
              "        const docLink = document.createElement('div');\n",
              "        docLink.innerHTML = docLinkHtml;\n",
              "        element.appendChild(docLink);\n",
              "      }\n",
              "    </script>\n",
              "  </div>\n",
              "\n",
              "\n",
              "<div id=\"df-a22f103f-d0ac-4481-b388-141cc71038b1\">\n",
              "  <button class=\"colab-df-quickchart\" onclick=\"quickchart('df-a22f103f-d0ac-4481-b388-141cc71038b1')\"\n",
              "            title=\"Suggest charts\"\n",
              "            style=\"display:none;\">\n",
              "\n",
              "<svg xmlns=\"http://www.w3.org/2000/svg\" height=\"24px\"viewBox=\"0 0 24 24\"\n",
              "     width=\"24px\">\n",
              "    <g>\n",
              "        <path d=\"M19 3H5c-1.1 0-2 .9-2 2v14c0 1.1.9 2 2 2h14c1.1 0 2-.9 2-2V5c0-1.1-.9-2-2-2zM9 17H7v-7h2v7zm4 0h-2V7h2v10zm4 0h-2v-4h2v4z\"/>\n",
              "    </g>\n",
              "</svg>\n",
              "  </button>\n",
              "\n",
              "<style>\n",
              "  .colab-df-quickchart {\n",
              "      --bg-color: #E8F0FE;\n",
              "      --fill-color: #1967D2;\n",
              "      --hover-bg-color: #E2EBFA;\n",
              "      --hover-fill-color: #174EA6;\n",
              "      --disabled-fill-color: #AAA;\n",
              "      --disabled-bg-color: #DDD;\n",
              "  }\n",
              "\n",
              "  [theme=dark] .colab-df-quickchart {\n",
              "      --bg-color: #3B4455;\n",
              "      --fill-color: #D2E3FC;\n",
              "      --hover-bg-color: #434B5C;\n",
              "      --hover-fill-color: #FFFFFF;\n",
              "      --disabled-bg-color: #3B4455;\n",
              "      --disabled-fill-color: #666;\n",
              "  }\n",
              "\n",
              "  .colab-df-quickchart {\n",
              "    background-color: var(--bg-color);\n",
              "    border: none;\n",
              "    border-radius: 50%;\n",
              "    cursor: pointer;\n",
              "    display: none;\n",
              "    fill: var(--fill-color);\n",
              "    height: 32px;\n",
              "    padding: 0;\n",
              "    width: 32px;\n",
              "  }\n",
              "\n",
              "  .colab-df-quickchart:hover {\n",
              "    background-color: var(--hover-bg-color);\n",
              "    box-shadow: 0 1px 2px rgba(60, 64, 67, 0.3), 0 1px 3px 1px rgba(60, 64, 67, 0.15);\n",
              "    fill: var(--button-hover-fill-color);\n",
              "  }\n",
              "\n",
              "  .colab-df-quickchart-complete:disabled,\n",
              "  .colab-df-quickchart-complete:disabled:hover {\n",
              "    background-color: var(--disabled-bg-color);\n",
              "    fill: var(--disabled-fill-color);\n",
              "    box-shadow: none;\n",
              "  }\n",
              "\n",
              "  .colab-df-spinner {\n",
              "    border: 2px solid var(--fill-color);\n",
              "    border-color: transparent;\n",
              "    border-bottom-color: var(--fill-color);\n",
              "    animation:\n",
              "      spin 1s steps(1) infinite;\n",
              "  }\n",
              "\n",
              "  @keyframes spin {\n",
              "    0% {\n",
              "      border-color: transparent;\n",
              "      border-bottom-color: var(--fill-color);\n",
              "      border-left-color: var(--fill-color);\n",
              "    }\n",
              "    20% {\n",
              "      border-color: transparent;\n",
              "      border-left-color: var(--fill-color);\n",
              "      border-top-color: var(--fill-color);\n",
              "    }\n",
              "    30% {\n",
              "      border-color: transparent;\n",
              "      border-left-color: var(--fill-color);\n",
              "      border-top-color: var(--fill-color);\n",
              "      border-right-color: var(--fill-color);\n",
              "    }\n",
              "    40% {\n",
              "      border-color: transparent;\n",
              "      border-right-color: var(--fill-color);\n",
              "      border-top-color: var(--fill-color);\n",
              "    }\n",
              "    60% {\n",
              "      border-color: transparent;\n",
              "      border-right-color: var(--fill-color);\n",
              "    }\n",
              "    80% {\n",
              "      border-color: transparent;\n",
              "      border-right-color: var(--fill-color);\n",
              "      border-bottom-color: var(--fill-color);\n",
              "    }\n",
              "    90% {\n",
              "      border-color: transparent;\n",
              "      border-bottom-color: var(--fill-color);\n",
              "    }\n",
              "  }\n",
              "</style>\n",
              "\n",
              "  <script>\n",
              "    async function quickchart(key) {\n",
              "      const quickchartButtonEl =\n",
              "        document.querySelector('#' + key + ' button');\n",
              "      quickchartButtonEl.disabled = true;  // To prevent multiple clicks.\n",
              "      quickchartButtonEl.classList.add('colab-df-spinner');\n",
              "      try {\n",
              "        const charts = await google.colab.kernel.invokeFunction(\n",
              "            'suggestCharts', [key], {});\n",
              "      } catch (error) {\n",
              "        console.error('Error during call to suggestCharts:', error);\n",
              "      }\n",
              "      quickchartButtonEl.classList.remove('colab-df-spinner');\n",
              "      quickchartButtonEl.classList.add('colab-df-quickchart-complete');\n",
              "    }\n",
              "    (() => {\n",
              "      let quickchartButtonEl =\n",
              "        document.querySelector('#df-a22f103f-d0ac-4481-b388-141cc71038b1 button');\n",
              "      quickchartButtonEl.style.display =\n",
              "        google.colab.kernel.accessAllowed ? 'block' : 'none';\n",
              "    })();\n",
              "  </script>\n",
              "</div>\n",
              "\n",
              "    </div>\n",
              "  </div>\n"
            ]
          },
          "metadata": {},
          "execution_count": 56
        }
      ]
    },
    {
      "cell_type": "markdown",
      "source": [
        "**WORLD CLOUD**\n",
        "\n",
        "As word cloud's (também conhecida como wordle, word collage ou tag cloud) são representações visuais de palavras que dão maior destaque às palavras que aparecem com mais frequência. No caso das mentimeter word clouds, as palavras adicionadas com mais frequência pelos membros da audiência através de seus smartphones. Esse tipo de visualização ajuda apresentadores a coletar informações de sua audiência com mais rapidez, destacar as respostas mais comuns e apresentar os dados de uma maneira que todos possam entender."
      ],
      "metadata": {
        "id": "5IlaEu5MdNhm"
      }
    },
    {
      "cell_type": "code",
      "source": [
        "# importação de bibliotecas\n",
        "import numpy as np\n",
        "import pandas as pd\n",
        "import matplotlib.pyplot as plt\n",
        "from wordcloud import WordCloud"
      ],
      "metadata": {
        "id": "TKmEErV2dPQ3"
      },
      "execution_count": 58,
      "outputs": []
    },
    {
      "cell_type": "code",
      "source": [
        "# frases para utilizar no exemplo\n",
        "frase1 = \"Lorem ipsum dolor sit amet, consectetur adipiscing elit. Sed do eiusmod tempor incididunt ut labore et dolore magna aliqua. Ut enim ad minim veniam, quis nostrud exercitation ullamco laboris nisi ut aliquip ex ea commodo consequat.\"\n",
        "frase2 = frase1 + \"Duis aute irure dolor in reprehenderit in voluptate velit esse cillum dolore eu fugiat nulla pariatur. Excepteur sint occaecat cupidatat non proident, sunt in culpa qui officia deserunt mollit anim id est laborum.\""
      ],
      "metadata": {
        "id": "sYZtAW_Tn1Jk"
      },
      "execution_count": 60,
      "outputs": []
    },
    {
      "cell_type": "code",
      "source": [
        "frase2"
      ],
      "metadata": {
        "colab": {
          "base_uri": "https://localhost:8080/",
          "height": 73
        },
        "id": "uPDkPg2KqzmC",
        "outputId": "deb6233f-57a2-40a5-99ec-302341168cfc"
      },
      "execution_count": 61,
      "outputs": [
        {
          "output_type": "execute_result",
          "data": {
            "text/plain": [
              "'Lorem ipsum dolor sit amet, consectetur adipiscing elit. Sed do eiusmod tempor incididunt ut labore et dolore magna aliqua. Ut enim ad minim veniam, quis nostrud exercitation ullamco laboris nisi ut aliquip ex ea commodo consequat.Duis aute irure dolor in reprehenderit in voluptate velit esse cillum dolore eu fugiat nulla pariatur. Excepteur sint occaecat cupidatat non proident, sunt in culpa qui officia deserunt mollit anim id est laborum.'"
            ],
            "application/vnd.google.colaboratory.intrinsic+json": {
              "type": "string"
            }
          },
          "metadata": {},
          "execution_count": 61
        }
      ]
    },
    {
      "cell_type": "code",
      "source": [
        "# gerar a nuvem de palavras\n",
        "nuvemDePalavras = WordCloud(\n",
        "    background_color='black', # cor de fundo\n",
        "    width=1600,               # largura da janela\n",
        "    height=800                # altura da janela\n",
        ").generate(frase2)            # vai gerar atribuindo a variável frase2"
      ],
      "metadata": {
        "id": "MK5Od3t9rB19"
      },
      "execution_count": 67,
      "outputs": []
    },
    {
      "cell_type": "code",
      "source": [
        "print(nuvemDePalavras) # apenas um objeto atribuído na memória"
      ],
      "metadata": {
        "colab": {
          "base_uri": "https://localhost:8080/"
        },
        "id": "Y9usvAOCrbGy",
        "outputId": "3503678e-3be5-4f4a-d2f3-e14e5bb26cc6"
      },
      "execution_count": 65,
      "outputs": [
        {
          "output_type": "stream",
          "name": "stdout",
          "text": [
            "<wordcloud.wordcloud.WordCloud object at 0x7fbba45b5c90>\n"
          ]
        }
      ]
    },
    {
      "cell_type": "code",
      "source": [
        "# criar o gráfico\n",
        "figura, eixo = plt.subplots(figsize=(10,7))\n",
        "\n",
        "eixo.imshow(nuvemDePalavras, interpolation='bilinear')\n",
        "eixo.set_axis_off() # remove a visibilidade dos eixos externos do gráfico"
      ],
      "metadata": {
        "colab": {
          "base_uri": "https://localhost:8080/",
          "height": 424
        },
        "id": "P0MqQrByrnHw",
        "outputId": "d9adec05-a35d-4712-f7d1-5a4e86104839"
      },
      "execution_count": 68,
      "outputs": [
        {
          "output_type": "display_data",
          "data": {
            "text/plain": [
              "<Figure size 1000x700 with 1 Axes>"
            ],
            "image/png": "[encoded data removed]"
          },
          "metadata": {}
        }
      ]
    },
    {
      "cell_type": "markdown",
      "source": [
        "**MAPA DE CALOR**\n",
        "\n",
        "O termo “mapa de calor” foi originalmente utilizado para identificar áreas com maior ou menor grau de temperatura ambiental. Serve para dimensionar a refrigeração, isolamento térmico e indicar o melhor posicionamento de pessoas e máquinas em um ambiente. Porém, como o termo entrega um entendimento mais fácil dos gráficos de frio e calor, passou a ser utilizado também em outras áreas."
      ],
      "metadata": {
        "id": "fyW5m9jUsOw1"
      }
    },
    {
      "cell_type": "code",
      "source": [
        "# Bibliotecas\n",
        "import pandas as pd\n",
        "import plotly.express as px"
      ],
      "metadata": {
        "id": "iA13FPhOsQ3h"
      },
      "execution_count": 69,
      "outputs": []
    },
    {
      "cell_type": "code",
      "source": [
        "# Criar os dados > criando listas\n",
        "\n",
        "# Cidades\n",
        "Cidade = ['Santo André', 'São Bernarndo do Campo', 'Diadema', 'São Caetano do Sul',\n",
        "          'Mauá', 'Ribeirao Pires', 'Rio GRande da Serra', 'Sao Paulo' ]\n",
        "\n",
        "Estado = ['São Paulo', 'São Paulo', 'São Paulo', 'São Paulo',\n",
        "          'São Paulo', 'São Paulo', 'São Paulo', 'São Paulo' ]\n",
        "\n",
        "# Gerando a Latitude\n",
        "Latitude = [-23.6666, -23.6944, -23.6865, -23.6226, -23.6687,\n",
        "            -23.7141, -23.7452, -23.5489]\n",
        "\n",
        "# Gerando a Longitude\n",
        "Longitude = [-46.5322, -46.5654, -46.6234, -46.5489, -46.4614,\n",
        "             -46.4137, -46.4022, -46.6388]\n",
        "\n",
        "# Valor\n",
        "Vendas = [100, 120, 90, 50, 70, 90, 250, 400]"
      ],
      "metadata": {
        "id": "P7bQ5N41z3S-"
      },
      "execution_count": 70,
      "outputs": []
    },
    {
      "cell_type": "code",
      "source": [
        "# Dicionario > criando um dicionário (chave-valor) com base nas listas criadas anteriormente\n",
        "Dicionario = {\n",
        "    'Cidade' : Cidade,\n",
        "    'UF' : Estado,\n",
        "    'Lat' : Latitude,\n",
        "    'Log' : Longitude,\n",
        "    'Vendas' : Vendas\n",
        "}\n",
        "\n",
        "Base_Dados = pd.DataFrame( Dicionario ) # utiliza o dicionário para criar uma tabela/dataframe\n",
        "\n",
        "Base_Dados"
      ],
      "metadata": {
        "colab": {
          "base_uri": "https://localhost:8080/",
          "height": 300
        },
        "id": "Ta4PIIMlz47w",
        "outputId": "fa4397c1-56e4-41fc-e346-97b70b73256a"
      },
      "execution_count": 72,
      "outputs": [
        {
          "output_type": "execute_result",
          "data": {
            "text/plain": [
              "                   Cidade         UF      Lat      Log  Vendas\n",
              "0             Santo André  São Paulo -23.6666 -46.5322     100\n",
              "1  São Bernarndo do Campo  São Paulo -23.6944 -46.5654     120\n",
              "2                 Diadema  São Paulo -23.6865 -46.6234      90\n",
              "3      São Caetano do Sul  São Paulo -23.6226 -46.5489      50\n",
              "4                    Mauá  São Paulo -23.6687 -46.4614      70\n",
              "5          Ribeirao Pires  São Paulo -23.7141 -46.4137      90\n",
              "6     Rio GRande da Serra  São Paulo -23.7452 -46.4022     250\n",
              "7               Sao Paulo  São Paulo -23.5489 -46.6388     400"
            ],
            "text/html": [
              "\n",
              "  <div id=\"df-0e20cf14-b0dd-4760-9c64-634bd2752bf0\" class=\"colab-df-container\">\n",
              "    <div>\n",
              "<style scoped>\n",
              "    .dataframe tbody tr th:only-of-type {\n",
              "        vertical-align: middle;\n",
              "    }\n",
              "\n",
              "    .dataframe tbody tr th {\n",
              "        vertical-align: top;\n",
              "    }\n",
              "\n",
              "    .dataframe thead th {\n",
              "        text-align: right;\n",
              "    }\n",
              "</style>\n",
              "<table border=\"1\" class=\"dataframe\">\n",
              "  <thead>\n",
              "    <tr style=\"text-align: right;\">\n",
              "      <th></th>\n",
              "      <th>Cidade</th>\n",
              "      <th>UF</th>\n",
              "      <th>Lat</th>\n",
              "      <th>Log</th>\n",
              "      <th>Vendas</th>\n",
              "    </tr>\n",
              "  </thead>\n",
              "  <tbody>\n",
              "    <tr>\n",
              "      <th>0</th>\n",
              "      <td>Santo André</td>\n",
              "      <td>São Paulo</td>\n",
              "      <td>-23.6666</td>\n",
              "      <td>-46.5322</td>\n",
              "      <td>100</td>\n",
              "    </tr>\n",
              "    <tr>\n",
              "      <th>1</th>\n",
              "      <td>São Bernarndo do Campo</td>\n",
              "      <td>São Paulo</td>\n",
              "      <td>-23.6944</td>\n",
              "      <td>-46.5654</td>\n",
              "      <td>120</td>\n",
              "    </tr>\n",
              "    <tr>\n",
              "      <th>2</th>\n",
              "      <td>Diadema</td>\n",
              "      <td>São Paulo</td>\n",
              "      <td>-23.6865</td>\n",
              "      <td>-46.6234</td>\n",
              "      <td>90</td>\n",
              "    </tr>\n",
              "    <tr>\n",
              "      <th>3</th>\n",
              "      <td>São Caetano do Sul</td>\n",
              "      <td>São Paulo</td>\n",
              "      <td>-23.6226</td>\n",
              "      <td>-46.5489</td>\n",
              "      <td>50</td>\n",
              "    </tr>\n",
              "    <tr>\n",
              "      <th>4</th>\n",
              "      <td>Mauá</td>\n",
              "      <td>São Paulo</td>\n",
              "      <td>-23.6687</td>\n",
              "      <td>-46.4614</td>\n",
              "      <td>70</td>\n",
              "    </tr>\n",
              "    <tr>\n",
              "      <th>5</th>\n",
              "      <td>Ribeirao Pires</td>\n",
              "      <td>São Paulo</td>\n",
              "      <td>-23.7141</td>\n",
              "      <td>-46.4137</td>\n",
              "      <td>90</td>\n",
              "    </tr>\n",
              "    <tr>\n",
              "      <th>6</th>\n",
              "      <td>Rio GRande da Serra</td>\n",
              "      <td>São Paulo</td>\n",
              "      <td>-23.7452</td>\n",
              "      <td>-46.4022</td>\n",
              "      <td>250</td>\n",
              "    </tr>\n",
              "    <tr>\n",
              "      <th>7</th>\n",
              "      <td>Sao Paulo</td>\n",
              "      <td>São Paulo</td>\n",
              "      <td>-23.5489</td>\n",
              "      <td>-46.6388</td>\n",
              "      <td>400</td>\n",
              "    </tr>\n",
              "  </tbody>\n",
              "</table>\n",
              "</div>\n",
              "    <div class=\"colab-df-buttons\">\n",
              "\n",
              "  <div class=\"colab-df-container\">\n",
              "    <button class=\"colab-df-convert\" onclick=\"convertToInteractive('df-0e20cf14-b0dd-4760-9c64-634bd2752bf0')\"\n",
              "            title=\"Convert this dataframe to an interactive table.\"\n",
              "            style=\"display:none;\">\n",
              "\n",
              "  <svg xmlns=\"http://www.w3.org/2000/svg\" height=\"24px\" viewBox=\"0 -960 960 960\">\n",
              "    <path d=\"M120-120v-720h720v720H120Zm60-500h600v-160H180v160Zm220 220h160v-160H400v160Zm0 220h160v-160H400v160ZM180-400h160v-160H180v160Zm440 0h160v-160H620v160ZM180-180h160v-160H180v160Zm440 0h160v-160H620v160Z\"/>\n",
              "  </svg>\n",
              "    </button>\n",
              "\n",
              "  <style>\n",
              "    .colab-df-container {\n",
              "      display:flex;\n",
              "      gap: 12px;\n",
              "    }\n",
              "\n",
              "    .colab-df-convert {\n",
              "      background-color: #E8F0FE;\n",
              "      border: none;\n",
              "      border-radius: 50%;\n",
              "      cursor: pointer;\n",
              "      display: none;\n",
              "      fill: #1967D2;\n",
              "      height: 32px;\n",
              "      padding: 0 0 0 0;\n",
              "      width: 32px;\n",
              "    }\n",
              "\n",
              "    .colab-df-convert:hover {\n",
              "      background-color: #E2EBFA;\n",
              "      box-shadow: 0px 1px 2px rgba(60, 64, 67, 0.3), 0px 1px 3px 1px rgba(60, 64, 67, 0.15);\n",
              "      fill: #174EA6;\n",
              "    }\n",
              "\n",
              "    .colab-df-buttons div {\n",
              "      margin-bottom: 4px;\n",
              "    }\n",
              "\n",
              "    [theme=dark] .colab-df-convert {\n",
              "      background-color: #3B4455;\n",
              "      fill: #D2E3FC;\n",
              "    }\n",
              "\n",
              "    [theme=dark] .colab-df-convert:hover {\n",
              "      background-color: #434B5C;\n",
              "      box-shadow: 0px 1px 3px 1px rgba(0, 0, 0, 0.15);\n",
              "      filter: drop-shadow(0px 1px 2px rgba(0, 0, 0, 0.3));\n",
              "      fill: #FFFFFF;\n",
              "    }\n",
              "  </style>\n",
              "\n",
              "    <script>\n",
              "      const buttonEl =\n",
              "        document.querySelector('#df-0e20cf14-b0dd-4760-9c64-634bd2752bf0 button.colab-df-convert');\n",
              "      buttonEl.style.display =\n",
              "        google.colab.kernel.accessAllowed ? 'block' : 'none';\n",
              "\n",
              "      async function convertToInteractive(key) {\n",
              "        const element = document.querySelector('#df-0e20cf14-b0dd-4760-9c64-634bd2752bf0');\n",
              "        const dataTable =\n",
              "          await google.colab.kernel.invokeFunction('convertToInteractive',\n",
              "                                                    [key], {});\n",
              "        if (!dataTable) return;\n",
              "\n",
              "        const docLinkHtml = 'Like what you see? Visit the ' +\n",
              "          '<a target=\"_blank\" href=https://colab.research.google.com/notebooks/data_table.ipynb>data table notebook</a>'\n",
              "          + ' to learn more about interactive tables.';\n",
              "        element.innerHTML = '';\n",
              "        dataTable['output_type'] = 'display_data';\n",
              "        await google.colab.output.renderOutput(dataTable, element);\n",
              "        const docLink = document.createElement('div');\n",
              "        docLink.innerHTML = docLinkHtml;\n",
              "        element.appendChild(docLink);\n",
              "      }\n",
              "    </script>\n",
              "  </div>\n",
              "\n",
              "\n",
              "<div id=\"df-fc016414-b074-4783-8cbc-d504e847dda7\">\n",
              "  <button class=\"colab-df-quickchart\" onclick=\"quickchart('df-fc016414-b074-4783-8cbc-d504e847dda7')\"\n",
              "            title=\"Suggest charts\"\n",
              "            style=\"display:none;\">\n",
              "\n",
              "<svg xmlns=\"http://www.w3.org/2000/svg\" height=\"24px\"viewBox=\"0 0 24 24\"\n",
              "     width=\"24px\">\n",
              "    <g>\n",
              "        <path d=\"M19 3H5c-1.1 0-2 .9-2 2v14c0 1.1.9 2 2 2h14c1.1 0 2-.9 2-2V5c0-1.1-.9-2-2-2zM9 17H7v-7h2v7zm4 0h-2V7h2v10zm4 0h-2v-4h2v4z\"/>\n",
              "    </g>\n",
              "</svg>\n",
              "  </button>\n",
              "\n",
              "<style>\n",
              "  .colab-df-quickchart {\n",
              "      --bg-color: #E8F0FE;\n",
              "      --fill-color: #1967D2;\n",
              "      --hover-bg-color: #E2EBFA;\n",
              "      --hover-fill-color: #174EA6;\n",
              "      --disabled-fill-color: #AAA;\n",
              "      --disabled-bg-color: #DDD;\n",
              "  }\n",
              "\n",
              "  [theme=dark] .colab-df-quickchart {\n",
              "      --bg-color: #3B4455;\n",
              "      --fill-color: #D2E3FC;\n",
              "      --hover-bg-color: #434B5C;\n",
              "      --hover-fill-color: #FFFFFF;\n",
              "      --disabled-bg-color: #3B4455;\n",
              "      --disabled-fill-color: #666;\n",
              "  }\n",
              "\n",
              "  .colab-df-quickchart {\n",
              "    background-color: var(--bg-color);\n",
              "    border: none;\n",
              "    border-radius: 50%;\n",
              "    cursor: pointer;\n",
              "    display: none;\n",
              "    fill: var(--fill-color);\n",
              "    height: 32px;\n",
              "    padding: 0;\n",
              "    width: 32px;\n",
              "  }\n",
              "\n",
              "  .colab-df-quickchart:hover {\n",
              "    background-color: var(--hover-bg-color);\n",
              "    box-shadow: 0 1px 2px rgba(60, 64, 67, 0.3), 0 1px 3px 1px rgba(60, 64, 67, 0.15);\n",
              "    fill: var(--button-hover-fill-color);\n",
              "  }\n",
              "\n",
              "  .colab-df-quickchart-complete:disabled,\n",
              "  .colab-df-quickchart-complete:disabled:hover {\n",
              "    background-color: var(--disabled-bg-color);\n",
              "    fill: var(--disabled-fill-color);\n",
              "    box-shadow: none;\n",
              "  }\n",
              "\n",
              "  .colab-df-spinner {\n",
              "    border: 2px solid var(--fill-color);\n",
              "    border-color: transparent;\n",
              "    border-bottom-color: var(--fill-color);\n",
              "    animation:\n",
              "      spin 1s steps(1) infinite;\n",
              "  }\n",
              "\n",
              "  @keyframes spin {\n",
              "    0% {\n",
              "      border-color: transparent;\n",
              "      border-bottom-color: var(--fill-color);\n",
              "      border-left-color: var(--fill-color);\n",
              "    }\n",
              "    20% {\n",
              "      border-color: transparent;\n",
              "      border-left-color: var(--fill-color);\n",
              "      border-top-color: var(--fill-color);\n",
              "    }\n",
              "    30% {\n",
              "      border-color: transparent;\n",
              "      border-left-color: var(--fill-color);\n",
              "      border-top-color: var(--fill-color);\n",
              "      border-right-color: var(--fill-color);\n",
              "    }\n",
              "    40% {\n",
              "      border-color: transparent;\n",
              "      border-right-color: var(--fill-color);\n",
              "      border-top-color: var(--fill-color);\n",
              "    }\n",
              "    60% {\n",
              "      border-color: transparent;\n",
              "      border-right-color: var(--fill-color);\n",
              "    }\n",
              "    80% {\n",
              "      border-color: transparent;\n",
              "      border-right-color: var(--fill-color);\n",
              "      border-bottom-color: var(--fill-color);\n",
              "    }\n",
              "    90% {\n",
              "      border-color: transparent;\n",
              "      border-bottom-color: var(--fill-color);\n",
              "    }\n",
              "  }\n",
              "</style>\n",
              "\n",
              "  <script>\n",
              "    async function quickchart(key) {\n",
              "      const quickchartButtonEl =\n",
              "        document.querySelector('#' + key + ' button');\n",
              "      quickchartButtonEl.disabled = true;  // To prevent multiple clicks.\n",
              "      quickchartButtonEl.classList.add('colab-df-spinner');\n",
              "      try {\n",
              "        const charts = await google.colab.kernel.invokeFunction(\n",
              "            'suggestCharts', [key], {});\n",
              "      } catch (error) {\n",
              "        console.error('Error during call to suggestCharts:', error);\n",
              "      }\n",
              "      quickchartButtonEl.classList.remove('colab-df-spinner');\n",
              "      quickchartButtonEl.classList.add('colab-df-quickchart-complete');\n",
              "    }\n",
              "    (() => {\n",
              "      let quickchartButtonEl =\n",
              "        document.querySelector('#df-fc016414-b074-4783-8cbc-d504e847dda7 button');\n",
              "      quickchartButtonEl.style.display =\n",
              "        google.colab.kernel.accessAllowed ? 'block' : 'none';\n",
              "    })();\n",
              "  </script>\n",
              "</div>\n",
              "\n",
              "  <div id=\"id_eb57b6cf-9be5-4ebf-bd4e-adb7158efe8f\">\n",
              "    <style>\n",
              "      .colab-df-generate {\n",
              "        background-color: #E8F0FE;\n",
              "        border: none;\n",
              "        border-radius: 50%;\n",
              "        cursor: pointer;\n",
              "        display: none;\n",
              "        fill: #1967D2;\n",
              "        height: 32px;\n",
              "        padding: 0 0 0 0;\n",
              "        width: 32px;\n",
              "      }\n",
              "\n",
              "      .colab-df-generate:hover {\n",
              "        background-color: #E2EBFA;\n",
              "        box-shadow: 0px 1px 2px rgba(60, 64, 67, 0.3), 0px 1px 3px 1px rgba(60, 64, 67, 0.15);\n",
              "        fill: #174EA6;\n",
              "      }\n",
              "\n",
              "      [theme=dark] .colab-df-generate {\n",
              "        background-color: #3B4455;\n",
              "        fill: #D2E3FC;\n",
              "      }\n",
              "\n",
              "      [theme=dark] .colab-df-generate:hover {\n",
              "        background-color: #434B5C;\n",
              "        box-shadow: 0px 1px 3px 1px rgba(0, 0, 0, 0.15);\n",
              "        filter: drop-shadow(0px 1px 2px rgba(0, 0, 0, 0.3));\n",
              "        fill: #FFFFFF;\n",
              "      }\n",
              "    </style>\n",
              "    <button class=\"colab-df-generate\" onclick=\"generateWithVariable('Base_Dados')\"\n",
              "            title=\"Generate code using this dataframe.\"\n",
              "            style=\"display:none;\">\n",
              "\n",
              "  <svg xmlns=\"http://www.w3.org/2000/svg\" height=\"24px\"viewBox=\"0 0 24 24\"\n",
              "       width=\"24px\">\n",
              "    <path d=\"M7,19H8.4L18.45,9,17,7.55,7,17.6ZM5,21V16.75L18.45,3.32a2,2,0,0,1,2.83,0l1.4,1.43a1.91,1.91,0,0,1,.58,1.4,1.91,1.91,0,0,1-.58,1.4L9.25,21ZM18.45,9,17,7.55Zm-12,3A5.31,5.31,0,0,0,4.9,8.1,5.31,5.31,0,0,0,1,6.5,5.31,5.31,0,0,0,4.9,4.9,5.31,5.31,0,0,0,6.5,1,5.31,5.31,0,0,0,8.1,4.9,5.31,5.31,0,0,0,12,6.5,5.46,5.46,0,0,0,6.5,12Z\"/>\n",
              "  </svg>\n",
              "    </button>\n",
              "    <script>\n",
              "      (() => {\n",
              "      const buttonEl =\n",
              "        document.querySelector('#id_eb57b6cf-9be5-4ebf-bd4e-adb7158efe8f button.colab-df-generate');\n",
              "      buttonEl.style.display =\n",
              "        google.colab.kernel.accessAllowed ? 'block' : 'none';\n",
              "\n",
              "      buttonEl.onclick = () => {\n",
              "        google.colab.notebook.generateWithVariable('Base_Dados');\n",
              "      }\n",
              "      })();\n",
              "    </script>\n",
              "  </div>\n",
              "\n",
              "    </div>\n",
              "  </div>\n"
            ]
          },
          "metadata": {},
          "execution_count": 72
        }
      ]
    },
    {
      "cell_type": "code",
      "source": [
        "# criando o mapa de calor\n",
        "fig = px.density_mapbox(\n",
        "    Base_Dados, # parametro é a sua base de dados\n",
        "    lat='Lat',  # latitude\n",
        "    lon='Log',  # longitude\n",
        "    z='Vendas',  # valor que você quer mostrar\n",
        "    radius=30,\n",
        "    center=dict(lat=-23.700, lon=-46.5555), # plotando um 'espaço' do mapa\n",
        "    zoom=7 #   mapbox_style='stamen-terrain'\n",
        ")\n",
        "\n",
        "\n",
        "fig.update_layout(mapbox_style=\"stamen-terrain\")\n",
        "\n",
        "fig.show()\n",
        "\n",
        "#obs o mapa não carrega"
      ],
      "metadata": {
        "colab": {
          "base_uri": "https://localhost:8080/",
          "height": 542
        },
        "id": "hZ2WLOkt0Ask",
        "outputId": "4081c77e-7315-4aa6-d892-70ed16d778da"
      },
      "execution_count": 78,
      "outputs": [
        {
          "output_type": "display_data",
          "data": {
            "text/html": [
              "<html>\n",
              "<head><meta charset=\"utf-8\" /></head>\n",
              "<body>\n",
              "    <div>            <script src=\"https://cdnjs.cloudflare.com/ajax/libs/mathjax/2.7.5/MathJax.js?config=TeX-AMS-MML_SVG\"></script><script type=\"text/javascript\">if (window.MathJax && window.MathJax.Hub && window.MathJax.Hub.Config) {window.MathJax.Hub.Config({SVG: {font: \"STIX-Web\"}});}</script>                <script type=\"text/javascript\">window.PlotlyConfig = {MathJaxConfig: 'local'};</script>\n",
              "        <script charset=\"utf-8\" src=\"https://cdn.plot.ly/plotly-2.24.1.min.js\"></script>                <div id=\"41651779-50ac-418b-b068-f9b87bf36a85\" class=\"plotly-graph-div\" style=\"height:525px; width:100%;\"></div>            <script type=\"text/javascript\">                                    window.PLOTLYENV=window.PLOTLYENV || {};                                    if (document.getElementById(\"41651779-50ac-418b-b068-f9b87bf36a85\")) {                    Plotly.newPlot(                        \"41651779-50ac-418b-b068-f9b87bf36a85\",                        [{\"coloraxis\":\"coloraxis\",\"hovertemplate\":\"Vendas=%{z}\\u003cbr\\u003eLat=%{lat}\\u003cbr\\u003eLog=%{lon}\\u003cextra\\u003e\\u003c\\u002fextra\\u003e\",\"lat\":[-23.6666,-23.6944,-23.6865,-23.6226,-23.6687,-23.7141,-23.7452,-23.5489],\"lon\":[-46.5322,-46.5654,-46.6234,-46.5489,-46.4614,-46.4137,-46.4022,-46.6388],\"name\":\"\",\"radius\":30,\"subplot\":\"mapbox\",\"z\":[100,120,90,50,70,90,250,400],\"type\":\"densitymapbox\"}],                        {\"template\":{\"data\":{\"histogram2dcontour\":[{\"type\":\"histogram2dcontour\",\"colorbar\":{\"outlinewidth\":0,\"ticks\":\"\"},\"colorscale\":[[0.0,\"#0d0887\"],[0.1111111111111111,\"#46039f\"],[0.2222222222222222,\"#7201a8\"],[0.3333333333333333,\"#9c179e\"],[0.4444444444444444,\"#bd3786\"],[0.5555555555555556,\"#d8576b\"],[0.6666666666666666,\"#ed7953\"],[0.7777777777777778,\"#fb9f3a\"],[0.8888888888888888,\"#fdca26\"],[1.0,\"#f0f921\"]]}],\"choropleth\":[{\"type\":\"choropleth\",\"colorbar\":{\"outlinewidth\":0,\"ticks\":\"\"}}],\"histogram2d\":[{\"type\":\"histogram2d\",\"colorbar\":{\"outlinewidth\":0,\"ticks\":\"\"},\"colorscale\":[[0.0,\"#0d0887\"],[0.1111111111111111,\"#46039f\"],[0.2222222222222222,\"#7201a8\"],[0.3333333333333333,\"#9c179e\"],[0.4444444444444444,\"#bd3786\"],[0.5555555555555556,\"#d8576b\"],[0.6666666666666666,\"#ed7953\"],[0.7777777777777778,\"#fb9f3a\"],[0.8888888888888888,\"#fdca26\"],[1.0,\"#f0f921\"]]}],\"heatmap\":[{\"type\":\"heatmap\",\"colorbar\":{\"outlinewidth\":0,\"ticks\":\"\"},\"colorscale\":[[0.0,\"#0d0887\"],[0.1111111111111111,\"#46039f\"],[0.2222222222222222,\"#7201a8\"],[0.3333333333333333,\"#9c179e\"],[0.4444444444444444,\"#bd3786\"],[0.5555555555555556,\"#d8576b\"],[0.6666666666666666,\"#ed7953\"],[0.7777777777777778,\"#fb9f3a\"],[0.8888888888888888,\"#fdca26\"],[1.0,\"#f0f921\"]]}],\"heatmapgl\":[{\"type\":\"heatmapgl\",\"colorbar\":{\"outlinewidth\":0,\"ticks\":\"\"},\"colorscale\":[[0.0,\"#0d0887\"],[0.1111111111111111,\"#46039f\"],[0.2222222222222222,\"#7201a8\"],[0.3333333333333333,\"#9c179e\"],[0.4444444444444444,\"#bd3786\"],[0.5555555555555556,\"#d8576b\"],[0.6666666666666666,\"#ed7953\"],[0.7777777777777778,\"#fb9f3a\"],[0.8888888888888888,\"#fdca26\"],[1.0,\"#f0f921\"]]}],\"contourcarpet\":[{\"type\":\"contourcarpet\",\"colorbar\":{\"outlinewidth\":0,\"ticks\":\"\"}}],\"contour\":[{\"type\":\"contour\",\"colorbar\":{\"outlinewidth\":0,\"ticks\":\"\"},\"colorscale\":[[0.0,\"#0d0887\"],[0.1111111111111111,\"#46039f\"],[0.2222222222222222,\"#7201a8\"],[0.3333333333333333,\"#9c179e\"],[0.4444444444444444,\"#bd3786\"],[0.5555555555555556,\"#d8576b\"],[0.6666666666666666,\"#ed7953\"],[0.7777777777777778,\"#fb9f3a\"],[0.8888888888888888,\"#fdca26\"],[1.0,\"#f0f921\"]]}],\"surface\":[{\"type\":\"surface\",\"colorbar\":{\"outlinewidth\":0,\"ticks\":\"\"},\"colorscale\":[[0.0,\"#0d0887\"],[0.1111111111111111,\"#46039f\"],[0.2222222222222222,\"#7201a8\"],[0.3333333333333333,\"#9c179e\"],[0.4444444444444444,\"#bd3786\"],[0.5555555555555556,\"#d8576b\"],[0.6666666666666666,\"#ed7953\"],[0.7777777777777778,\"#fb9f3a\"],[0.8888888888888888,\"#fdca26\"],[1.0,\"#f0f921\"]]}],\"mesh3d\":[{\"type\":\"mesh3d\",\"colorbar\":{\"outlinewidth\":0,\"ticks\":\"\"}}],\"scatter\":[{\"fillpattern\":{\"fillmode\":\"overlay\",\"size\":10,\"solidity\":0.2},\"type\":\"scatter\"}],\"parcoords\":[{\"type\":\"parcoords\",\"line\":{\"colorbar\":{\"outlinewidth\":0,\"ticks\":\"\"}}}],\"scatterpolargl\":[{\"type\":\"scatterpolargl\",\"marker\":{\"colorbar\":{\"outlinewidth\":0,\"ticks\":\"\"}}}],\"bar\":[{\"error_x\":{\"color\":\"#2a3f5f\"},\"error_y\":{\"color\":\"#2a3f5f\"},\"marker\":{\"line\":{\"color\":\"#E5ECF6\",\"width\":0.5},\"pattern\":{\"fillmode\":\"overlay\",\"size\":10,\"solidity\":0.2}},\"type\":\"bar\"}],\"scattergeo\":[{\"type\":\"scattergeo\",\"marker\":{\"colorbar\":{\"outlinewidth\":0,\"ticks\":\"\"}}}],\"scatterpolar\":[{\"type\":\"scatterpolar\",\"marker\":{\"colorbar\":{\"outlinewidth\":0,\"ticks\":\"\"}}}],\"histogram\":[{\"marker\":{\"pattern\":{\"fillmode\":\"overlay\",\"size\":10,\"solidity\":0.2}},\"type\":\"histogram\"}],\"scattergl\":[{\"type\":\"scattergl\",\"marker\":{\"colorbar\":{\"outlinewidth\":0,\"ticks\":\"\"}}}],\"scatter3d\":[{\"type\":\"scatter3d\",\"line\":{\"colorbar\":{\"outlinewidth\":0,\"ticks\":\"\"}},\"marker\":{\"colorbar\":{\"outlinewidth\":0,\"ticks\":\"\"}}}],\"scattermapbox\":[{\"type\":\"scattermapbox\",\"marker\":{\"colorbar\":{\"outlinewidth\":0,\"ticks\":\"\"}}}],\"scatterternary\":[{\"type\":\"scatterternary\",\"marker\":{\"colorbar\":{\"outlinewidth\":0,\"ticks\":\"\"}}}],\"scattercarpet\":[{\"type\":\"scattercarpet\",\"marker\":{\"colorbar\":{\"outlinewidth\":0,\"ticks\":\"\"}}}],\"carpet\":[{\"aaxis\":{\"endlinecolor\":\"#2a3f5f\",\"gridcolor\":\"white\",\"linecolor\":\"white\",\"minorgridcolor\":\"white\",\"startlinecolor\":\"#2a3f5f\"},\"baxis\":{\"endlinecolor\":\"#2a3f5f\",\"gridcolor\":\"white\",\"linecolor\":\"white\",\"minorgridcolor\":\"white\",\"startlinecolor\":\"#2a3f5f\"},\"type\":\"carpet\"}],\"table\":[{\"cells\":{\"fill\":{\"color\":\"#EBF0F8\"},\"line\":{\"color\":\"white\"}},\"header\":{\"fill\":{\"color\":\"#C8D4E3\"},\"line\":{\"color\":\"white\"}},\"type\":\"table\"}],\"barpolar\":[{\"marker\":{\"line\":{\"color\":\"#E5ECF6\",\"width\":0.5},\"pattern\":{\"fillmode\":\"overlay\",\"size\":10,\"solidity\":0.2}},\"type\":\"barpolar\"}],\"pie\":[{\"automargin\":true,\"type\":\"pie\"}]},\"layout\":{\"autotypenumbers\":\"strict\",\"colorway\":[\"#636efa\",\"#EF553B\",\"#00cc96\",\"#ab63fa\",\"#FFA15A\",\"#19d3f3\",\"#FF6692\",\"#B6E880\",\"#FF97FF\",\"#FECB52\"],\"font\":{\"color\":\"#2a3f5f\"},\"hovermode\":\"closest\",\"hoverlabel\":{\"align\":\"left\"},\"paper_bgcolor\":\"white\",\"plot_bgcolor\":\"#E5ECF6\",\"polar\":{\"bgcolor\":\"#E5ECF6\",\"angularaxis\":{\"gridcolor\":\"white\",\"linecolor\":\"white\",\"ticks\":\"\"},\"radialaxis\":{\"gridcolor\":\"white\",\"linecolor\":\"white\",\"ticks\":\"\"}},\"ternary\":{\"bgcolor\":\"#E5ECF6\",\"aaxis\":{\"gridcolor\":\"white\",\"linecolor\":\"white\",\"ticks\":\"\"},\"baxis\":{\"gridcolor\":\"white\",\"linecolor\":\"white\",\"ticks\":\"\"},\"caxis\":{\"gridcolor\":\"white\",\"linecolor\":\"white\",\"ticks\":\"\"}},\"coloraxis\":{\"colorbar\":{\"outlinewidth\":0,\"ticks\":\"\"}},\"colorscale\":{\"sequential\":[[0.0,\"#0d0887\"],[0.1111111111111111,\"#46039f\"],[0.2222222222222222,\"#7201a8\"],[0.3333333333333333,\"#9c179e\"],[0.4444444444444444,\"#bd3786\"],[0.5555555555555556,\"#d8576b\"],[0.6666666666666666,\"#ed7953\"],[0.7777777777777778,\"#fb9f3a\"],[0.8888888888888888,\"#fdca26\"],[1.0,\"#f0f921\"]],\"sequentialminus\":[[0.0,\"#0d0887\"],[0.1111111111111111,\"#46039f\"],[0.2222222222222222,\"#7201a8\"],[0.3333333333333333,\"#9c179e\"],[0.4444444444444444,\"#bd3786\"],[0.5555555555555556,\"#d8576b\"],[0.6666666666666666,\"#ed7953\"],[0.7777777777777778,\"#fb9f3a\"],[0.8888888888888888,\"#fdca26\"],[1.0,\"#f0f921\"]],\"diverging\":[[0,\"#8e0152\"],[0.1,\"#c51b7d\"],[0.2,\"#de77ae\"],[0.3,\"#f1b6da\"],[0.4,\"#fde0ef\"],[0.5,\"#f7f7f7\"],[0.6,\"#e6f5d0\"],[0.7,\"#b8e186\"],[0.8,\"#7fbc41\"],[0.9,\"#4d9221\"],[1,\"#276419\"]]},\"xaxis\":{\"gridcolor\":\"white\",\"linecolor\":\"white\",\"ticks\":\"\",\"title\":{\"standoff\":15},\"zerolinecolor\":\"white\",\"automargin\":true,\"zerolinewidth\":2},\"yaxis\":{\"gridcolor\":\"white\",\"linecolor\":\"white\",\"ticks\":\"\",\"title\":{\"standoff\":15},\"zerolinecolor\":\"white\",\"automargin\":true,\"zerolinewidth\":2},\"scene\":{\"xaxis\":{\"backgroundcolor\":\"#E5ECF6\",\"gridcolor\":\"white\",\"linecolor\":\"white\",\"showbackground\":true,\"ticks\":\"\",\"zerolinecolor\":\"white\",\"gridwidth\":2},\"yaxis\":{\"backgroundcolor\":\"#E5ECF6\",\"gridcolor\":\"white\",\"linecolor\":\"white\",\"showbackground\":true,\"ticks\":\"\",\"zerolinecolor\":\"white\",\"gridwidth\":2},\"zaxis\":{\"backgroundcolor\":\"#E5ECF6\",\"gridcolor\":\"white\",\"linecolor\":\"white\",\"showbackground\":true,\"ticks\":\"\",\"zerolinecolor\":\"white\",\"gridwidth\":2}},\"shapedefaults\":{\"line\":{\"color\":\"#2a3f5f\"}},\"annotationdefaults\":{\"arrowcolor\":\"#2a3f5f\",\"arrowhead\":0,\"arrowwidth\":1},\"geo\":{\"bgcolor\":\"white\",\"landcolor\":\"#E5ECF6\",\"subunitcolor\":\"white\",\"showland\":true,\"showlakes\":true,\"lakecolor\":\"white\"},\"title\":{\"x\":0.05},\"mapbox\":{\"style\":\"light\"}}},\"mapbox\":{\"domain\":{\"x\":[0.0,1.0],\"y\":[0.0,1.0]},\"center\":{\"lat\":-23.7,\"lon\":-46.5555},\"zoom\":7,\"style\":\"stamen-terrain\"},\"coloraxis\":{\"colorbar\":{\"title\":{\"text\":\"Vendas\"}},\"colorscale\":[[0.0,\"#0d0887\"],[0.1111111111111111,\"#46039f\"],[0.2222222222222222,\"#7201a8\"],[0.3333333333333333,\"#9c179e\"],[0.4444444444444444,\"#bd3786\"],[0.5555555555555556,\"#d8576b\"],[0.6666666666666666,\"#ed7953\"],[0.7777777777777778,\"#fb9f3a\"],[0.8888888888888888,\"#fdca26\"],[1.0,\"#f0f921\"]]},\"legend\":{\"tracegroupgap\":0},\"margin\":{\"t\":60}},                        {\"responsive\": true}                    ).then(function(){\n",
              "                            \n",
              "var gd = document.getElementById('41651779-50ac-418b-b068-f9b87bf36a85');\n",
              "var x = new MutationObserver(function (mutations, observer) {{\n",
              "        var display = window.getComputedStyle(gd).display;\n",
              "        if (!display || display === 'none') {{\n",
              "            console.log([gd, 'removed!']);\n",
              "            Plotly.purge(gd);\n",
              "            observer.disconnect();\n",
              "        }}\n",
              "}});\n",
              "\n",
              "// Listen for the removal of the full notebook cells\n",
              "var notebookContainer = gd.closest('#notebook-container');\n",
              "if (notebookContainer) {{\n",
              "    x.observe(notebookContainer, {childList: true});\n",
              "}}\n",
              "\n",
              "// Listen for the clearing of the current output cell\n",
              "var outputEl = gd.closest('.output');\n",
              "if (outputEl) {{\n",
              "    x.observe(outputEl, {childList: true});\n",
              "}}\n",
              "\n",
              "                        })                };                            </script>        </div>\n",
              "</body>\n",
              "</html>"
            ]
          },
          "metadata": {}
        }
      ]
    },
    {
      "cell_type": "markdown",
      "source": [
        "**POSSÍVEIS RAZÕES PARA O NÃO CARREGAMENTO DOS MAPAS:**\n",
        "\n",
        "\n",
        "Se você está usando o estilo 'stamen-terrain' no mapbox_style e o mapa não está carregando, pode haver algumas razões para isso. Aqui estão algumas coisas que você pode verificar:\n",
        "\n",
        "**Conexão com a Internet:**\n",
        "Certifique-se de que seu computador está conectado à internet. Alguns estilos de mapa, incluindo os fornecidos pelo Stamen, exigem uma conexão com a internet para baixar os azulejos do mapa.\n",
        "\n",
        "\n",
        "**Token Mapbox:**\n",
        "Se você estiver usando um estilo que requer um token Mapbox, certifique-se de ter um token válido. Alguns estilos exigem um token Mapbox para autenticação.\n",
        "\n",
        "\n",
        "**Versão do Plotly:**\n",
        "Verifique se você está usando uma versão do Plotly que suporte a configuração do estilo do mapa da maneira que você está fazendo. Certas versões podem ter alterado a forma como os estilos de mapa são especificados."
      ],
      "metadata": {
        "id": "ulGIICrb3vwz"
      }
    }
  ]
}